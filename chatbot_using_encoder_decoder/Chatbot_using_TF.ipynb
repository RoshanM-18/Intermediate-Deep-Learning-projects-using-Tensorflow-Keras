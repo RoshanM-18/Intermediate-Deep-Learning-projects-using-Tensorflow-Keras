{
  "nbformat": 4,
  "nbformat_minor": 0,
  "metadata": {
    "colab": {
      "name": "Chatbot using TF",
      "provenance": [],
      "collapsed_sections": [
        "Zi-1uyTYyAEf"
      ],
      "machine_shape": "hm",
      "authorship_tag": "ABX9TyOLEJ91nMPzx9zcNbpGnNDc",
      "include_colab_link": true
    },
    "kernelspec": {
      "name": "python3",
      "display_name": "Python 3"
    },
    "language_info": {
      "name": "python"
    },
    "accelerator": "GPU"
  },
  "cells": [
    {
      "cell_type": "markdown",
      "metadata": {
        "id": "view-in-github",
        "colab_type": "text"
      },
      "source": [
        "<a href=\"https://colab.research.google.com/github/RoshanM-18/Intermediate-Deep-Learning-projects-using-Tensorflow-Keras/blob/main/Chatbot_using_TF.ipynb\" target=\"_parent\"><img src=\"https://colab.research.google.com/assets/colab-badge.svg\" alt=\"Open In Colab\"/></a>"
      ]
    },
    {
      "cell_type": "code",
      "source": [
        "!nvidia-smi -L"
      ],
      "metadata": {
        "colab": {
          "base_uri": "https://localhost:8080/"
        },
        "id": "GwyVNITE6XR8",
        "outputId": "b30152aa-b2f2-4299-fffa-927f82726167"
      },
      "execution_count": null,
      "outputs": [
        {
          "output_type": "stream",
          "name": "stdout",
          "text": [
            "GPU 0: Tesla P100-PCIE-16GB (UUID: GPU-a1b0ab1e-132f-bc65-9a2f-4bb43ae770d2)\n"
          ]
        }
      ]
    },
    {
      "cell_type": "markdown",
      "source": [
        "#### Importing the required libraries and downloading the dataset from Kaggle"
      ],
      "metadata": {
        "id": "cLFhE58jyDU1"
      }
    },
    {
      "cell_type": "code",
      "execution_count": null,
      "metadata": {
        "id": "8H_MvUPRuZCr"
      },
      "outputs": [],
      "source": [
        "import pandas as pd\n",
        "import numpy as np\n",
        "import matplotlib.pyplot as plt\n",
        "import seaborn as sns\n",
        "import nltk\n",
        "import re\n",
        "\n",
        "import tensorflow as tf\n",
        "from tensorflow import keras\n",
        "\n",
        "import os\n",
        "import shutil\n",
        "import zipfile\n",
        "import random\n",
        "import time\n",
        "import string\n",
        "import sys"
      ]
    },
    {
      "cell_type": "code",
      "source": [
        "os.environ[\"KAGGLE_CONFIG_DIR\"] = \"/content\""
      ],
      "metadata": {
        "id": "bcuSxdvpxBEr"
      },
      "execution_count": null,
      "outputs": []
    },
    {
      "cell_type": "code",
      "source": [
        "!chmod 600 \"/content/kaggle.json\""
      ],
      "metadata": {
        "id": "4wnM4UpOxuwa"
      },
      "execution_count": null,
      "outputs": []
    },
    {
      "cell_type": "code",
      "source": [
        "!kaggle datasets download -d tovarischsukhov/southparklines"
      ],
      "metadata": {
        "colab": {
          "base_uri": "https://localhost:8080/"
        },
        "id": "dgQgDt_Ixtjn",
        "outputId": "dd951e66-cf98-4380-dc2e-c1a613cdbd49"
      },
      "execution_count": null,
      "outputs": [
        {
          "output_type": "stream",
          "name": "stdout",
          "text": [
            "Downloading southparklines.zip to /content\n",
            "\r  0% 0.00/1.81M [00:00<?, ?B/s]\n",
            "\r100% 1.81M/1.81M [00:00<00:00, 60.0MB/s]\n"
          ]
        }
      ]
    },
    {
      "cell_type": "code",
      "source": [
        "zip_ref = zipfile.ZipFile(\"/content/southparklines.zip\")\n",
        "zip_ref.extractall()\n",
        "zip_ref.close()"
      ],
      "metadata": {
        "id": "RFxq8at3x0Le"
      },
      "execution_count": null,
      "outputs": []
    },
    {
      "cell_type": "markdown",
      "source": [
        "#### Reading the dataset and performing some basic EDA "
      ],
      "metadata": {
        "id": "Zi-1uyTYyAEf"
      }
    },
    {
      "cell_type": "code",
      "source": [
        "df = pd.read_csv(\"/content/All-seasons.csv\")\n",
        "df.head()"
      ],
      "metadata": {
        "colab": {
          "base_uri": "https://localhost:8080/"
        },
        "id": "uneppcCyyaoj",
        "outputId": "02858756-1cb6-49fa-9a8e-f583e55ddf3b"
      },
      "execution_count": null,
      "outputs": [
        {
          "output_type": "execute_result",
          "data": {
            "text/html": [
              "\n",
              "  <div id=\"df-8d261bf2-ce76-448c-829e-1039717093c9\">\n",
              "    <div class=\"colab-df-container\">\n",
              "      <div>\n",
              "<style scoped>\n",
              "    .dataframe tbody tr th:only-of-type {\n",
              "        vertical-align: middle;\n",
              "    }\n",
              "\n",
              "    .dataframe tbody tr th {\n",
              "        vertical-align: top;\n",
              "    }\n",
              "\n",
              "    .dataframe thead th {\n",
              "        text-align: right;\n",
              "    }\n",
              "</style>\n",
              "<table border=\"1\" class=\"dataframe\">\n",
              "  <thead>\n",
              "    <tr style=\"text-align: right;\">\n",
              "      <th></th>\n",
              "      <th>Season</th>\n",
              "      <th>Episode</th>\n",
              "      <th>Character</th>\n",
              "      <th>Line</th>\n",
              "    </tr>\n",
              "  </thead>\n",
              "  <tbody>\n",
              "    <tr>\n",
              "      <th>0</th>\n",
              "      <td>10</td>\n",
              "      <td>1</td>\n",
              "      <td>Stan</td>\n",
              "      <td>You guys, you guys! Chef is going away. \\n</td>\n",
              "    </tr>\n",
              "    <tr>\n",
              "      <th>1</th>\n",
              "      <td>10</td>\n",
              "      <td>1</td>\n",
              "      <td>Kyle</td>\n",
              "      <td>Going away? For how long?\\n</td>\n",
              "    </tr>\n",
              "    <tr>\n",
              "      <th>2</th>\n",
              "      <td>10</td>\n",
              "      <td>1</td>\n",
              "      <td>Stan</td>\n",
              "      <td>Forever.\\n</td>\n",
              "    </tr>\n",
              "    <tr>\n",
              "      <th>3</th>\n",
              "      <td>10</td>\n",
              "      <td>1</td>\n",
              "      <td>Chef</td>\n",
              "      <td>I'm sorry boys.\\n</td>\n",
              "    </tr>\n",
              "    <tr>\n",
              "      <th>4</th>\n",
              "      <td>10</td>\n",
              "      <td>1</td>\n",
              "      <td>Stan</td>\n",
              "      <td>Chef said he's been bored, so he joining a gro...</td>\n",
              "    </tr>\n",
              "  </tbody>\n",
              "</table>\n",
              "</div>\n",
              "      <button class=\"colab-df-convert\" onclick=\"convertToInteractive('df-8d261bf2-ce76-448c-829e-1039717093c9')\"\n",
              "              title=\"Convert this dataframe to an interactive table.\"\n",
              "              style=\"display:none;\">\n",
              "        \n",
              "  <svg xmlns=\"http://www.w3.org/2000/svg\" height=\"24px\"viewBox=\"0 0 24 24\"\n",
              "       width=\"24px\">\n",
              "    <path d=\"M0 0h24v24H0V0z\" fill=\"none\"/>\n",
              "    <path d=\"M18.56 5.44l.94 2.06.94-2.06 2.06-.94-2.06-.94-.94-2.06-.94 2.06-2.06.94zm-11 1L8.5 8.5l.94-2.06 2.06-.94-2.06-.94L8.5 2.5l-.94 2.06-2.06.94zm10 10l.94 2.06.94-2.06 2.06-.94-2.06-.94-.94-2.06-.94 2.06-2.06.94z\"/><path d=\"M17.41 7.96l-1.37-1.37c-.4-.4-.92-.59-1.43-.59-.52 0-1.04.2-1.43.59L10.3 9.45l-7.72 7.72c-.78.78-.78 2.05 0 2.83L4 21.41c.39.39.9.59 1.41.59.51 0 1.02-.2 1.41-.59l7.78-7.78 2.81-2.81c.8-.78.8-2.07 0-2.86zM5.41 20L4 18.59l7.72-7.72 1.47 1.35L5.41 20z\"/>\n",
              "  </svg>\n",
              "      </button>\n",
              "      \n",
              "  <style>\n",
              "    .colab-df-container {\n",
              "      display:flex;\n",
              "      flex-wrap:wrap;\n",
              "      gap: 12px;\n",
              "    }\n",
              "\n",
              "    .colab-df-convert {\n",
              "      background-color: #E8F0FE;\n",
              "      border: none;\n",
              "      border-radius: 50%;\n",
              "      cursor: pointer;\n",
              "      display: none;\n",
              "      fill: #1967D2;\n",
              "      height: 32px;\n",
              "      padding: 0 0 0 0;\n",
              "      width: 32px;\n",
              "    }\n",
              "\n",
              "    .colab-df-convert:hover {\n",
              "      background-color: #E2EBFA;\n",
              "      box-shadow: 0px 1px 2px rgba(60, 64, 67, 0.3), 0px 1px 3px 1px rgba(60, 64, 67, 0.15);\n",
              "      fill: #174EA6;\n",
              "    }\n",
              "\n",
              "    [theme=dark] .colab-df-convert {\n",
              "      background-color: #3B4455;\n",
              "      fill: #D2E3FC;\n",
              "    }\n",
              "\n",
              "    [theme=dark] .colab-df-convert:hover {\n",
              "      background-color: #434B5C;\n",
              "      box-shadow: 0px 1px 3px 1px rgba(0, 0, 0, 0.15);\n",
              "      filter: drop-shadow(0px 1px 2px rgba(0, 0, 0, 0.3));\n",
              "      fill: #FFFFFF;\n",
              "    }\n",
              "  </style>\n",
              "\n",
              "      <script>\n",
              "        const buttonEl =\n",
              "          document.querySelector('#df-8d261bf2-ce76-448c-829e-1039717093c9 button.colab-df-convert');\n",
              "        buttonEl.style.display =\n",
              "          google.colab.kernel.accessAllowed ? 'block' : 'none';\n",
              "\n",
              "        async function convertToInteractive(key) {\n",
              "          const element = document.querySelector('#df-8d261bf2-ce76-448c-829e-1039717093c9');\n",
              "          const dataTable =\n",
              "            await google.colab.kernel.invokeFunction('convertToInteractive',\n",
              "                                                     [key], {});\n",
              "          if (!dataTable) return;\n",
              "\n",
              "          const docLinkHtml = 'Like what you see? Visit the ' +\n",
              "            '<a target=\"_blank\" href=https://colab.research.google.com/notebooks/data_table.ipynb>data table notebook</a>'\n",
              "            + ' to learn more about interactive tables.';\n",
              "          element.innerHTML = '';\n",
              "          dataTable['output_type'] = 'display_data';\n",
              "          await google.colab.output.renderOutput(dataTable, element);\n",
              "          const docLink = document.createElement('div');\n",
              "          docLink.innerHTML = docLinkHtml;\n",
              "          element.appendChild(docLink);\n",
              "        }\n",
              "      </script>\n",
              "    </div>\n",
              "  </div>\n",
              "  "
            ],
            "text/plain": [
              "  Season Episode Character                                               Line\n",
              "0     10       1      Stan         You guys, you guys! Chef is going away. \\n\n",
              "1     10       1      Kyle                        Going away? For how long?\\n\n",
              "2     10       1      Stan                                         Forever.\\n\n",
              "3     10       1      Chef                                  I'm sorry boys.\\n\n",
              "4     10       1      Stan  Chef said he's been bored, so he joining a gro..."
            ]
          },
          "metadata": {},
          "execution_count": 12
        }
      ]
    },
    {
      "cell_type": "code",
      "source": [
        "df.info()"
      ],
      "metadata": {
        "colab": {
          "base_uri": "https://localhost:8080/"
        },
        "id": "93HAOxooyrBj",
        "outputId": "d089ca0a-f620-40e9-8a28-7e5e1ea92ee9"
      },
      "execution_count": null,
      "outputs": [
        {
          "output_type": "stream",
          "name": "stdout",
          "text": [
            "<class 'pandas.core.frame.DataFrame'>\n",
            "RangeIndex: 70896 entries, 0 to 70895\n",
            "Data columns (total 4 columns):\n",
            " #   Column     Non-Null Count  Dtype \n",
            "---  ------     --------------  ----- \n",
            " 0   Season     70896 non-null  object\n",
            " 1   Episode    70896 non-null  object\n",
            " 2   Character  70896 non-null  object\n",
            " 3   Line       70896 non-null  object\n",
            "dtypes: object(4)\n",
            "memory usage: 2.2+ MB\n"
          ]
        }
      ]
    },
    {
      "cell_type": "code",
      "source": [
        "df.columns = [x.lower() for x in df.columns]"
      ],
      "metadata": {
        "id": "9aGd1wjnzXj9"
      },
      "execution_count": null,
      "outputs": []
    },
    {
      "cell_type": "code",
      "source": [
        "dialogues = df.line.tolist()"
      ],
      "metadata": {
        "id": "AKVKGlf29sBb"
      },
      "execution_count": null,
      "outputs": []
    },
    {
      "cell_type": "code",
      "source": [
        "dialogues[105:145]"
      ],
      "metadata": {
        "colab": {
          "base_uri": "https://localhost:8080/"
        },
        "id": "7yAqaISI9tj7",
        "outputId": "fc6c83c8-c117-4a27-f910-cbb257a63f23"
      },
      "execution_count": null,
      "outputs": [
        {
          "output_type": "execute_result",
          "data": {
            "text/plain": [
              "[\"Well look: he spent the last three months with that adventurers' club. Maybe they know what happened to him.\\n\",\n",
              " '(Yeah! I think...)\\n',\n",
              " 'Yeah!\\n',\n",
              " 'All right, come on guys!\\n',\n",
              " \"Hey you guys, you know what they call a Jewish woman's boobs? Jewbs. \\n\",\n",
              " 'May I help you.\\n',\n",
              " 'Ahh, hi, can we speak to the head guy or something?\\n',\n",
              " 'Right this way. \\n',\n",
              " \"Now, the upper rim of Kilimanjaro should be quite a trek, and so we'll need to have a-\\n\",\n",
              " 'Excuse me, sir. These boys wanted to speak with you.\\n',\n",
              " \"Ahh yes, splendid! Good afternoon, lads! I'm Head Adventurer William P. Connolly, Esquire! Welcome, to the Super Adventure Club!\\n\",\n",
              " 'Tally ho!\\n',\n",
              " 'Indeed!\\n',\n",
              " 'Uh, hi. Our friend joined your club a while back, and now he wants to molest kids. \\n',\n",
              " \"What? Well... well yes, of course! That's what the Super Adventure Club does!\\n\",\n",
              " '...Huh?\\n',\n",
              " 'We travel the world and have sex with children!\\n',\n",
              " 'Yes, what else would we do?\\n',\n",
              " 'Well, we thought you went exploring and like, hunting and stuff!\\n',\n",
              " \"Noo, no, that's the Adventure Club. We're the Super Adventure Club!  Next week, we'll be heading to the outer banks of the Amazon, where we will make camp and have sex with children of the Ugani tribe, then it's off to the mighty Himalayas, where we will climb K-2, and molest several Tibetan children on the east summit.\\n\",\n",
              " '...Dude!\\n',\n",
              " \"I know, but it gets even better! From there we will kayak to the fruitful banks of the Mele River in Africa, where the secret and mysterious Hanimi people have children who have never seen a white man's erect penis. Of course, we're always looking for kids to have sex with on the plane rides over to these places, so how would you ALL like to join the Super Adventure Club!\\n\",\n",
              " 'NO!!\\n',\n",
              " 'No? Oh really? Perhaps I should ask you again?  How would you like to join the Super Adventure Club? \\n',\n",
              " 'No! \\n',\n",
              " 'Dude, what are you doing?!\\n',\n",
              " \"Oh well, it doesn't work on everybody.  Well, so long then.\\n\",\n",
              " 'Just what the hell is that thing?!\\n',\n",
              " \"What? What thing? I don't see anything.\\n\",\n",
              " 'HA! I knew it!\\n',\n",
              " 'Knew what?\\n',\n",
              " \"The reason Chef has been saying those terrible things about us is because he's been brainwashed! By this- fruity little club!\\n\",\n",
              " 'Oh, son of a bitch!\\n',\n",
              " \"Come on, children. Let's all go home and make love.\\n\",\n",
              " \"You need to see a psychiatrist, Chef. It's for your own good.\\n\",\n",
              " 'I just like to make love up your butt.\\n',\n",
              " 'Oh my God!\\n',\n",
              " 'Mr. Chef, is it?\\n',\n",
              " 'All right, come on. \\n',\n",
              " \"Hello, I'm Dr. Neeland. What can I do for you today?\\n\"]"
            ]
          },
          "metadata": {},
          "execution_count": 16
        }
      ]
    },
    {
      "cell_type": "markdown",
      "source": [
        "#### Text preprocessing"
      ],
      "metadata": {
        "id": "iHTOgoTU-vU4"
      }
    },
    {
      "cell_type": "code",
      "source": [
        "def clean_text(text):\n",
        "\n",
        "  text = text.lower()\n",
        "\n",
        "  text = re.sub(r\"\\n\", \"\", text)\n",
        "  text = re.sub(r\"[-()]\", \"\", text)\n",
        "  text = re.sub(r\"\\.\", \" .\", text)\n",
        "  text = re.sub(r\"\\!\", \" !\", text)\n",
        "  text = re.sub(r\"\\,\", \" ,\", text)\n",
        "  text = re.sub(r\"\\?\", \" ?\", text)\n",
        "  text = re.sub(r\"-\", \" \", text)\n",
        "  text = re.sub(r\":\", \"\", text)\n",
        "  text = re.sub(r\"let's\", \"let us\", text)\n",
        "  text = re.sub(r\"ma'am\", \"madam\", text)\n",
        "  text = re.sub(r\"i'm\", \"i am\", text)\n",
        "  text = re.sub(r\"that's\", \"that is\", text)\n",
        "  text = re.sub(r\"what's\", \"what is\", text)\n",
        "  text = re.sub(r\"he's\", \"he is\", text)\n",
        "  text = re.sub(r\"she's\", \"she is\", text)\n",
        "  text = re.sub(r\"it's\", \"it is\", text)\n",
        "  text = re.sub(r\"won't\", \"will not\", text)\n",
        "  text = re.sub(r\"can't\", \"cannot\", text)\n",
        "  text = re.sub(r\"don't\", \"do not\", text)\n",
        "  text = re.sub(r\"\\'d\", \" would\", text)\n",
        "  text = re.sub(r\"\\'ll\", \" will\", text)\n",
        "  text = re.sub(r\"\\'re\", \" are\", text)\n",
        "  text = re.sub(r\"\\'s\", \" is\", text)\n",
        "  text = re.sub(r\"\\'ve\", \" have\", text)\n",
        "  text = re.sub(r\"n't\", \" not\", text)\n",
        "  text = re.sub(r\"n'\", \"ng\", text)\n",
        "  text = re.sub(r\"ohhhhhh\", \"oh\", text)\n",
        "  text = re.sub(r\"uh\", \"\", text)\n",
        "  text = re.sub(r\"ohh\", \"oh\", text)\n",
        "  text = re.sub(r\"ohhh\", \"oh\", text)\n",
        "  text = re.sub(r\"ohhhh\", \"oh\", text)\n",
        "  text = re.sub(r\"ohhhhh\", \"oh\", text)\n",
        "  text = re.sub(r\"ahh\", \"\", text)\n",
        "  text = re.sub(r\"ah\", \"\", text)\n",
        "  text = re.sub(r\"\\xa0\", \"\", text)\n",
        "\n",
        "  return text"
      ],
      "metadata": {
        "id": "kPnXDPIs-0Dw"
      },
      "execution_count": null,
      "outputs": []
    },
    {
      "cell_type": "code",
      "source": [
        "text = []\n",
        "\n",
        "for line in dialogues:\n",
        "  text.append(clean_text(line))"
      ],
      "metadata": {
        "id": "QKRXNPm3B74A"
      },
      "execution_count": null,
      "outputs": []
    },
    {
      "cell_type": "code",
      "source": [
        "text[:10]"
      ],
      "metadata": {
        "colab": {
          "base_uri": "https://localhost:8080/"
        },
        "id": "tBNi-q-gCN4E",
        "outputId": "e095bfa5-2f43-4f8f-a760-44b5a476735a"
      },
      "execution_count": null,
      "outputs": [
        {
          "output_type": "execute_result",
          "data": {
            "text/plain": [
              "['you guys , you guys ! chef is going away . ',\n",
              " 'going away ? for how long ?',\n",
              " 'forever .',\n",
              " 'i am sorry boys .',\n",
              " 'chef said he is been bored , so he joining a group called the super adventure club . ',\n",
              " 'wow !',\n",
              " 'chef ? ? what kind of questions do you think adventuring around the world is gonna answer ? !',\n",
              " 'what is the meaning of life ? why are we here ?',\n",
              " 'i hope you are making the right choice .',\n",
              " 'i am gonna miss him .  i am gonna miss chef and i . . .and i do not know how to tell him ! ']"
            ]
          },
          "metadata": {},
          "execution_count": 19
        }
      ]
    },
    {
      "cell_type": "code",
      "source": [
        "for _ in range(25):\n",
        "  random_text = random.randint(0, len(text))\n",
        "  print(text[random_text])\n",
        "  print(\"-\"*40)"
      ],
      "metadata": {
        "colab": {
          "base_uri": "https://localhost:8080/"
        },
        "id": "QkW8DKdgCRDm",
        "outputId": "b3978b6c-cf6d-457b-eb2e-0394f5d0fb89"
      },
      "execution_count": null,
      "outputs": [
        {
          "output_type": "stream",
          "name": "stdout",
          "text": [
            "wait . kyle , this may sound crazy , but i think you should stay !\n",
            "----------------------------------------\n",
            "it is where the trick wanted to go , you bastard !\n",
            "----------------------------------------\n",
            "i am super , thanks for asking . it looks like now my work here is done .  goodbye stanley , peace be with you . \n",
            "----------------------------------------\n",
            "i am not sure , toolshed . could it be a riddle , mysterion ? m ! mysterion ? \n",
            "----------------------------------------\n",
            "please , can this wait ? a big story is about to about to come out on eavesdropper and we have the only way to stop it !\n",
            "----------------------------------------\n",
            "and so the fatass came up with a way to have all the birthgivers disappear .  , by using the magic m word . \n",
            "----------------------------------------\n",
            "everyone ! look , i say ! \n",
            "----------------------------------------\n",
            "you are not gonna ride on santa is sleigh 'cause you are a jew , kyle . \n",
            "----------------------------------------\n",
            "what ? this is not history .\n",
            "----------------------------------------\n",
            "oh that troublemaking son of ours ! butters ! butters , you get back here or you are grounded , mister !\n",
            "----------------------------------------\n",
            "dude , you have got herpes on your face !\n",
            "----------------------------------------\n",
            "just , could i talk to you , real quick ?  what kind of stuff is the new girl saying about token ?\n",
            "----------------------------------------\n",
            "yes sir .see , i used to be like you . i go around sending them nasty emails and a nasty texts , putting nasty picture on my nasty facebook . but then i realized , all these things , they live forever , because the government keep a file on us . so all that live forever up in what they call the clou' . it is a government term . if they could put a file in the clou' , then i wanna make sure i come clean about the bad ones and maybe get those things off my record off the clou' . because we all live forever in the clou' .\n",
            "----------------------------------------\n",
            "hey . hey , i got one .  why do girls wear makeup and perfume ?\n",
            "----------------------------------------\n",
            "dude ! i found out what a bris is ! i found out what they are gonna do to ike !\n",
            "----------------------------------------\n",
            "please , understand that we have no choice here mr . cruise .\n",
            "----------------------------------------\n",
            "ye , you wait 'til your father hears about this .\n",
            "----------------------------------------\n",
            "guys , this is my dad . michael ja\n",
            "----------------------------------------\n",
            "this is where we make our stand ! south park will never be west jersey ! \n",
            "----------------------------------------\n",
            "all right , that does it , bill . i am pretty sure that killing jesus is not very christian .\n",
            "----------------------------------------\n",
            "and sometimes the man puts his whowhodilly in the woman is chacha . \n",
            "----------------------------------------\n",
            "the chinese are gonna take us over , butters ! and we are the only people who seem to care !\n",
            "----------------------------------------\n",
            "oh ye , ye , get those pants down .\n",
            "----------------------------------------\n",
            "alright , how about this what would you call a straight man who does not own a harley , but likes them and might buy one someday ?\n",
            "----------------------------------------\n",
            "woohoo .\n",
            "----------------------------------------\n"
          ]
        }
      ]
    },
    {
      "cell_type": "code",
      "source": [
        ""
      ],
      "metadata": {
        "id": "O-j7J2NtDRPZ"
      },
      "execution_count": null,
      "outputs": []
    },
    {
      "cell_type": "code",
      "source": [
        "sentences_lengths = []\n",
        "\n",
        "for line in text:\n",
        "  sentences_lengths.append(len(line.split()))\n",
        "\n",
        "lengths_df = pd.DataFrame({\"sent_length\": sentences_lengths})\n",
        "lengths_df.describe()"
      ],
      "metadata": {
        "colab": {
          "base_uri": "https://localhost:8080/"
        },
        "id": "Ygolg4NdFRNW",
        "outputId": "8ae09e5b-046e-4765-95fe-5b18c5d3adbf"
      },
      "execution_count": null,
      "outputs": [
        {
          "output_type": "execute_result",
          "data": {
            "text/html": [
              "\n",
              "  <div id=\"df-6e15c363-be80-4fc8-97d7-c5903bc0d0ac\">\n",
              "    <div class=\"colab-df-container\">\n",
              "      <div>\n",
              "<style scoped>\n",
              "    .dataframe tbody tr th:only-of-type {\n",
              "        vertical-align: middle;\n",
              "    }\n",
              "\n",
              "    .dataframe tbody tr th {\n",
              "        vertical-align: top;\n",
              "    }\n",
              "\n",
              "    .dataframe thead th {\n",
              "        text-align: right;\n",
              "    }\n",
              "</style>\n",
              "<table border=\"1\" class=\"dataframe\">\n",
              "  <thead>\n",
              "    <tr style=\"text-align: right;\">\n",
              "      <th></th>\n",
              "      <th>sent_length</th>\n",
              "    </tr>\n",
              "  </thead>\n",
              "  <tbody>\n",
              "    <tr>\n",
              "      <th>count</th>\n",
              "      <td>70896.000000</td>\n",
              "    </tr>\n",
              "    <tr>\n",
              "      <th>mean</th>\n",
              "      <td>15.005938</td>\n",
              "    </tr>\n",
              "    <tr>\n",
              "      <th>std</th>\n",
              "      <td>16.201729</td>\n",
              "    </tr>\n",
              "    <tr>\n",
              "      <th>min</th>\n",
              "      <td>0.000000</td>\n",
              "    </tr>\n",
              "    <tr>\n",
              "      <th>25%</th>\n",
              "      <td>6.000000</td>\n",
              "    </tr>\n",
              "    <tr>\n",
              "      <th>50%</th>\n",
              "      <td>11.000000</td>\n",
              "    </tr>\n",
              "    <tr>\n",
              "      <th>75%</th>\n",
              "      <td>19.000000</td>\n",
              "    </tr>\n",
              "    <tr>\n",
              "      <th>max</th>\n",
              "      <td>398.000000</td>\n",
              "    </tr>\n",
              "  </tbody>\n",
              "</table>\n",
              "</div>\n",
              "      <button class=\"colab-df-convert\" onclick=\"convertToInteractive('df-6e15c363-be80-4fc8-97d7-c5903bc0d0ac')\"\n",
              "              title=\"Convert this dataframe to an interactive table.\"\n",
              "              style=\"display:none;\">\n",
              "        \n",
              "  <svg xmlns=\"http://www.w3.org/2000/svg\" height=\"24px\"viewBox=\"0 0 24 24\"\n",
              "       width=\"24px\">\n",
              "    <path d=\"M0 0h24v24H0V0z\" fill=\"none\"/>\n",
              "    <path d=\"M18.56 5.44l.94 2.06.94-2.06 2.06-.94-2.06-.94-.94-2.06-.94 2.06-2.06.94zm-11 1L8.5 8.5l.94-2.06 2.06-.94-2.06-.94L8.5 2.5l-.94 2.06-2.06.94zm10 10l.94 2.06.94-2.06 2.06-.94-2.06-.94-.94-2.06-.94 2.06-2.06.94z\"/><path d=\"M17.41 7.96l-1.37-1.37c-.4-.4-.92-.59-1.43-.59-.52 0-1.04.2-1.43.59L10.3 9.45l-7.72 7.72c-.78.78-.78 2.05 0 2.83L4 21.41c.39.39.9.59 1.41.59.51 0 1.02-.2 1.41-.59l7.78-7.78 2.81-2.81c.8-.78.8-2.07 0-2.86zM5.41 20L4 18.59l7.72-7.72 1.47 1.35L5.41 20z\"/>\n",
              "  </svg>\n",
              "      </button>\n",
              "      \n",
              "  <style>\n",
              "    .colab-df-container {\n",
              "      display:flex;\n",
              "      flex-wrap:wrap;\n",
              "      gap: 12px;\n",
              "    }\n",
              "\n",
              "    .colab-df-convert {\n",
              "      background-color: #E8F0FE;\n",
              "      border: none;\n",
              "      border-radius: 50%;\n",
              "      cursor: pointer;\n",
              "      display: none;\n",
              "      fill: #1967D2;\n",
              "      height: 32px;\n",
              "      padding: 0 0 0 0;\n",
              "      width: 32px;\n",
              "    }\n",
              "\n",
              "    .colab-df-convert:hover {\n",
              "      background-color: #E2EBFA;\n",
              "      box-shadow: 0px 1px 2px rgba(60, 64, 67, 0.3), 0px 1px 3px 1px rgba(60, 64, 67, 0.15);\n",
              "      fill: #174EA6;\n",
              "    }\n",
              "\n",
              "    [theme=dark] .colab-df-convert {\n",
              "      background-color: #3B4455;\n",
              "      fill: #D2E3FC;\n",
              "    }\n",
              "\n",
              "    [theme=dark] .colab-df-convert:hover {\n",
              "      background-color: #434B5C;\n",
              "      box-shadow: 0px 1px 3px 1px rgba(0, 0, 0, 0.15);\n",
              "      filter: drop-shadow(0px 1px 2px rgba(0, 0, 0, 0.3));\n",
              "      fill: #FFFFFF;\n",
              "    }\n",
              "  </style>\n",
              "\n",
              "      <script>\n",
              "        const buttonEl =\n",
              "          document.querySelector('#df-6e15c363-be80-4fc8-97d7-c5903bc0d0ac button.colab-df-convert');\n",
              "        buttonEl.style.display =\n",
              "          google.colab.kernel.accessAllowed ? 'block' : 'none';\n",
              "\n",
              "        async function convertToInteractive(key) {\n",
              "          const element = document.querySelector('#df-6e15c363-be80-4fc8-97d7-c5903bc0d0ac');\n",
              "          const dataTable =\n",
              "            await google.colab.kernel.invokeFunction('convertToInteractive',\n",
              "                                                     [key], {});\n",
              "          if (!dataTable) return;\n",
              "\n",
              "          const docLinkHtml = 'Like what you see? Visit the ' +\n",
              "            '<a target=\"_blank\" href=https://colab.research.google.com/notebooks/data_table.ipynb>data table notebook</a>'\n",
              "            + ' to learn more about interactive tables.';\n",
              "          element.innerHTML = '';\n",
              "          dataTable['output_type'] = 'display_data';\n",
              "          await google.colab.output.renderOutput(dataTable, element);\n",
              "          const docLink = document.createElement('div');\n",
              "          docLink.innerHTML = docLinkHtml;\n",
              "          element.appendChild(docLink);\n",
              "        }\n",
              "      </script>\n",
              "    </div>\n",
              "  </div>\n",
              "  "
            ],
            "text/plain": [
              "        sent_length\n",
              "count  70896.000000\n",
              "mean      15.005938\n",
              "std       16.201729\n",
              "min        0.000000\n",
              "25%        6.000000\n",
              "50%       11.000000\n",
              "75%       19.000000\n",
              "max      398.000000"
            ]
          },
          "metadata": {},
          "execution_count": 21
        }
      ]
    },
    {
      "cell_type": "code",
      "source": [
        "text[lengths_df.idxmax().tolist()[0]]"
      ],
      "metadata": {
        "colab": {
          "base_uri": "https://localhost:8080/"
        },
        "id": "QMOtCIfXFRfS",
        "outputId": "826c2f98-8cda-45ee-b209-05fcb98831f8"
      },
      "execution_count": null,
      "outputs": [
        {
          "output_type": "execute_result",
          "data": {
            "application/vnd.google.colaboratory.intrinsic+json": {
              "type": "string"
            },
            "text/plain": [
              "\"okay , first of all , i am not aquaman , i am a recovering . . . gay fish . yes , i have met aquaman . i have hung out with aquaman . but the only thing i have in common with aquaman anymore is my love for the sea .now !there have been malicious rumors , started at this elementary school , that my beautiful fiancée is a hobbit . that is not funny , and it is not true .alright ? ! yes , kim is heavier than most of her pictures show her to be . yes , she gets her hair lasered off her body . yes , she has a friend named gandalf who happens to be a wizard .i am sorry , excuse me a minute .bitch , how are you not a hobbit again ? ye . ye ye ye right . rightrightrightrightright , ye . okay . yep . yep . let me get okay . yep , i got it . okay , love you too .okay , if my fiancée kim… is… a hobbit , then how come… it  how c then , okay , if she is a hobbit , then how come she do not live in a hole in the ground ? boooooom ! all y'all just got lit up , cuz ! she do not live in no hole in the ground , she lives in a bigass mansion , with me , in her room , that is slightly below ground ! so , you can… she , she is sexy , and womanly , and she smokes a pipe . she can blow them rings that go up over her head , and… hold up .bitch , you not a hobbit , right ?  . . . no , i know , you just , you smoke that long pipe sometimes when you sit by the fire . . . oh it is a oh , okay . got it , got it what do you call it ? yep . yep , got it . okay . yep , love you too .that is not a hobbit pipe , for your information ! it is a personal oral humidifier to keep all the wrinkles around her mouth from showing . so ha , all you haters , ha !\""
            ]
          },
          "metadata": {},
          "execution_count": 22
        }
      ]
    },
    {
      "cell_type": "code",
      "source": [
        "np.percentile(sentences_lengths, 90)"
      ],
      "metadata": {
        "colab": {
          "base_uri": "https://localhost:8080/"
        },
        "id": "mDX4td5FFRjU",
        "outputId": "0e01cbd4-7048-47e3-cea1-55a59ce36ebd"
      },
      "execution_count": null,
      "outputs": [
        {
          "output_type": "execute_result",
          "data": {
            "text/plain": [
              "30.0"
            ]
          },
          "metadata": {},
          "execution_count": 23
        }
      ]
    },
    {
      "cell_type": "code",
      "source": [
        "np.percentile(sentences_lengths, 95)"
      ],
      "metadata": {
        "colab": {
          "base_uri": "https://localhost:8080/"
        },
        "id": "yrfSlx75FRnA",
        "outputId": "13e9d8da-386b-46a8-ccf3-429165149073"
      },
      "execution_count": null,
      "outputs": [
        {
          "output_type": "execute_result",
          "data": {
            "text/plain": [
              "42.0"
            ]
          },
          "metadata": {},
          "execution_count": 24
        }
      ]
    },
    {
      "cell_type": "code",
      "source": [
        ""
      ],
      "metadata": {
        "id": "N56UbB38FRqR"
      },
      "execution_count": null,
      "outputs": []
    },
    {
      "cell_type": "code",
      "source": [
        "max_len = np.percentile(sentences_lengths, 95)\n",
        "\n",
        "short_text = []\n",
        "\n",
        "for line in text:\n",
        "  if len(line.split()) <= max_len:\n",
        "    short_text.append(line)"
      ],
      "metadata": {
        "id": "XoNY6LQhRyQ9"
      },
      "execution_count": null,
      "outputs": []
    },
    {
      "cell_type": "code",
      "source": [
        "len(text), len(short_text)"
      ],
      "metadata": {
        "colab": {
          "base_uri": "https://localhost:8080/"
        },
        "id": "UFRnc2ETSJIx",
        "outputId": "67a5e29c-a339-45ad-99f2-f18a2287dbfc"
      },
      "execution_count": null,
      "outputs": [
        {
          "output_type": "execute_result",
          "data": {
            "text/plain": [
              "(70896, 67522)"
            ]
          },
          "metadata": {},
          "execution_count": 26
        }
      ]
    },
    {
      "cell_type": "code",
      "source": [
        "vocabulary = {}\n",
        "\n",
        "for line in short_text:\n",
        "  for word in line.split():\n",
        "    if word not in vocabulary:\n",
        "      vocabulary[word] = 1\n",
        "    else:\n",
        "      vocabulary[word] += 1"
      ],
      "metadata": {
        "id": "dM4GfFv4SK4f"
      },
      "execution_count": null,
      "outputs": []
    },
    {
      "cell_type": "code",
      "source": [
        "len(vocabulary)"
      ],
      "metadata": {
        "colab": {
          "base_uri": "https://localhost:8080/"
        },
        "id": "ijmAwP4BSOdi",
        "outputId": "6a0b1c8e-5525-4daf-8823-cda80bed8b58"
      },
      "execution_count": null,
      "outputs": [
        {
          "output_type": "execute_result",
          "data": {
            "text/plain": [
              "25385"
            ]
          },
          "metadata": {},
          "execution_count": 28
        }
      ]
    },
    {
      "cell_type": "code",
      "source": [
        "threshold = 3\n",
        "count = 0\n",
        "\n",
        "for key, value in vocabulary.items():\n",
        "  if value >= threshold:\n",
        "    count += 1"
      ],
      "metadata": {
        "id": "QEIcg8_pSo-5"
      },
      "execution_count": null,
      "outputs": []
    },
    {
      "cell_type": "code",
      "source": [
        "count, len(vocabulary)"
      ],
      "metadata": {
        "colab": {
          "base_uri": "https://localhost:8080/"
        },
        "id": "PzmGNXhlTEhC",
        "outputId": "e076ff1e-0221-4c49-c284-043c34e2ec1b"
      },
      "execution_count": null,
      "outputs": [
        {
          "output_type": "execute_result",
          "data": {
            "text/plain": [
              "(9079, 25385)"
            ]
          },
          "metadata": {},
          "execution_count": 30
        }
      ]
    },
    {
      "cell_type": "code",
      "source": [
        ""
      ],
      "metadata": {
        "id": "6jgAMpoGTGT1"
      },
      "execution_count": null,
      "outputs": []
    },
    {
      "cell_type": "code",
      "source": [
        "source_vocab_to_int = {}\n",
        "\n",
        "word_count_source = 0\n",
        "for key, value in vocabulary.items():\n",
        "  if value >= threshold:\n",
        "    source_vocab_to_int[key] = word_count_source\n",
        "    word_count_source += 1\n",
        "\n",
        "target_vocab_to_int = {}\n",
        "\n",
        "word_count_target = 0\n",
        "for key, value in vocabulary.items():\n",
        "  if value >= threshold:\n",
        "    target_vocab_to_int[key] = word_count_target\n",
        "    word_count_target += 1"
      ],
      "metadata": {
        "id": "H18iJh8xUE0k"
      },
      "execution_count": null,
      "outputs": []
    },
    {
      "cell_type": "code",
      "source": [
        "len(source_vocab_to_int), len(target_vocab_to_int), word_count_source, word_count_target"
      ],
      "metadata": {
        "colab": {
          "base_uri": "https://localhost:8080/"
        },
        "id": "InGPAgiZUE-O",
        "outputId": "b28da93a-6382-434c-da14-b145c9a9b2f3"
      },
      "execution_count": null,
      "outputs": [
        {
          "output_type": "execute_result",
          "data": {
            "text/plain": [
              "(9079, 9079, 9079, 9079)"
            ]
          },
          "metadata": {},
          "execution_count": 32
        }
      ]
    },
    {
      "cell_type": "code",
      "source": [
        ""
      ],
      "metadata": {
        "id": "h5CDl2b4U3eI"
      },
      "execution_count": null,
      "outputs": []
    },
    {
      "cell_type": "code",
      "source": [
        "source_text = short_text[:-1]\n",
        "target_text = short_text[1:]"
      ],
      "metadata": {
        "id": "kIaSNmSbVHz7"
      },
      "execution_count": null,
      "outputs": []
    },
    {
      "cell_type": "code",
      "source": [
        "source_text[-1], target_text[-1]"
      ],
      "metadata": {
        "colab": {
          "base_uri": "https://localhost:8080/"
        },
        "id": "wdxLcE6aXpNz",
        "outputId": "b50ce79a-ab72-40df-8022-5783ad1660fc"
      },
      "execution_count": null,
      "outputs": [
        {
          "output_type": "execute_result",
          "data": {
            "text/plain": [
              "('right right . does vodka count ?', 'dad !')"
            ]
          },
          "metadata": {},
          "execution_count": 34
        }
      ]
    },
    {
      "cell_type": "code",
      "source": [
        "source_text[0], target_text[0]"
      ],
      "metadata": {
        "colab": {
          "base_uri": "https://localhost:8080/"
        },
        "id": "n_NfJ4HAX2wi",
        "outputId": "afaf1d84-73d3-43eb-cf72-0a3895d1ee00"
      },
      "execution_count": null,
      "outputs": [
        {
          "output_type": "execute_result",
          "data": {
            "text/plain": [
              "('you guys , you guys ! chef is going away . ', 'going away ? for how long ?')"
            ]
          },
          "metadata": {},
          "execution_count": 35
        }
      ]
    },
    {
      "cell_type": "code",
      "source": [
        "source_text[1], target_text[1]"
      ],
      "metadata": {
        "colab": {
          "base_uri": "https://localhost:8080/"
        },
        "id": "tu4tjIl7X6Lf",
        "outputId": "3e84af1f-5493-4681-e1f7-09869117a656"
      },
      "execution_count": null,
      "outputs": [
        {
          "output_type": "execute_result",
          "data": {
            "text/plain": [
              "('going away ? for how long ?', 'forever .')"
            ]
          },
          "metadata": {},
          "execution_count": 36
        }
      ]
    },
    {
      "cell_type": "code",
      "source": [
        ""
      ],
      "metadata": {
        "id": "Z8Yu8rPaYCTx"
      },
      "execution_count": null,
      "outputs": []
    },
    {
      "cell_type": "code",
      "source": [
        "tokens = [\"<PAD>\", \"<EOS>\", \"<SOS>\", \"<UNK>\"]\n",
        "\n",
        "for token in tokens:\n",
        "  source_vocab_to_int[token] = len(source_vocab_to_int) + 1\n",
        "  target_vocab_to_int[token] = len(target_vocab_to_int) + 1"
      ],
      "metadata": {
        "id": "NF-OtXcyYM8B"
      },
      "execution_count": null,
      "outputs": []
    },
    {
      "cell_type": "code",
      "source": [
        "len(source_vocab_to_int), len(target_vocab_to_int)"
      ],
      "metadata": {
        "colab": {
          "base_uri": "https://localhost:8080/"
        },
        "id": "_c5NPkzCddIi",
        "outputId": "ec336bbf-bad5-424c-e660-5d253ade74fd"
      },
      "execution_count": null,
      "outputs": [
        {
          "output_type": "execute_result",
          "data": {
            "text/plain": [
              "(9083, 9083)"
            ]
          },
          "metadata": {},
          "execution_count": 38
        }
      ]
    },
    {
      "cell_type": "code",
      "source": [
        ""
      ],
      "metadata": {
        "id": "F8MpLK9Tdipx"
      },
      "execution_count": null,
      "outputs": []
    },
    {
      "cell_type": "code",
      "source": [
        "source_int_to_vocab = {y:x for x,y in source_vocab_to_int.items()}\n",
        "target_int_to_vocab = {y:x for x,y in target_vocab_to_int.items()}"
      ],
      "metadata": {
        "id": "Qk3YA3YUdniF"
      },
      "execution_count": null,
      "outputs": []
    },
    {
      "cell_type": "code",
      "source": [
        "modified_target_text = []\n",
        "\n",
        "for sentence in range(len(target_text)):\n",
        "  new_sentence = \"<SOS> \" + target_text[sentence] + \" <EOS>\"\n",
        "  modified_target_text.append(new_sentence)"
      ],
      "metadata": {
        "id": "62Qz7Mwqdnmq"
      },
      "execution_count": null,
      "outputs": []
    },
    {
      "cell_type": "code",
      "source": [
        "modified_target_text[:10]"
      ],
      "metadata": {
        "colab": {
          "base_uri": "https://localhost:8080/"
        },
        "id": "NB4MnwmTdnqJ",
        "outputId": "4b5d34e0-8d2b-49d0-a5b4-3c3a68262a0a"
      },
      "execution_count": null,
      "outputs": [
        {
          "output_type": "execute_result",
          "data": {
            "text/plain": [
              "['<SOS> going away ? for how long ? <EOS>',\n",
              " '<SOS> forever . <EOS>',\n",
              " '<SOS> i am sorry boys . <EOS>',\n",
              " '<SOS> chef said he is been bored , so he joining a group called the super adventure club .  <EOS>',\n",
              " '<SOS> wow ! <EOS>',\n",
              " '<SOS> chef ? ? what kind of questions do you think adventuring around the world is gonna answer ? ! <EOS>',\n",
              " '<SOS> what is the meaning of life ? why are we here ? <EOS>',\n",
              " '<SOS> i hope you are making the right choice . <EOS>',\n",
              " '<SOS> i am gonna miss him .  i am gonna miss chef and i . . .and i do not know how to tell him !  <EOS>',\n",
              " '<SOS> dude , how are we gonna go on ? chef was our f . . .fffriend .  <EOS>']"
            ]
          },
          "metadata": {},
          "execution_count": 41
        }
      ]
    },
    {
      "cell_type": "code",
      "source": [
        ""
      ],
      "metadata": {
        "id": "qD139CkHLUbq"
      },
      "execution_count": null,
      "outputs": []
    },
    {
      "cell_type": "code",
      "source": [
        "source_int = []\n",
        "\n",
        "for line in source_text:\n",
        "  sentence = []\n",
        "  for word in line.split():\n",
        "    if word not in source_vocab_to_int:\n",
        "      sentence.append(source_vocab_to_int[\"<UNK>\"])\n",
        "    else:\n",
        "      sentence.append(source_vocab_to_int[word])\n",
        "  \n",
        "  source_int.append(sentence)"
      ],
      "metadata": {
        "id": "STpE_mR9LWx4"
      },
      "execution_count": null,
      "outputs": []
    },
    {
      "cell_type": "code",
      "source": [
        "target_int = []\n",
        "\n",
        "for line in modified_target_text:\n",
        "  sentence = [] \n",
        "  for word in line.split():\n",
        "    if word not in target_vocab_to_int:\n",
        "      sentence.append(target_vocab_to_int[\"<UNK>\"])\n",
        "    else:\n",
        "      sentence.append(target_vocab_to_int[word])\n",
        "    \n",
        "  target_int.append(sentence)"
      ],
      "metadata": {
        "id": "erD40UmUMBMk"
      },
      "execution_count": null,
      "outputs": []
    },
    {
      "cell_type": "code",
      "source": [
        "source_int[:2]"
      ],
      "metadata": {
        "colab": {
          "base_uri": "https://localhost:8080/"
        },
        "id": "RFRTAHkwMVa2",
        "outputId": "7f0adb13-675d-4b36-a8cb-924c70893af6"
      },
      "execution_count": null,
      "outputs": [
        {
          "output_type": "execute_result",
          "data": {
            "text/plain": [
              "[[0, 1, 2, 0, 1, 3, 4, 5, 6, 7, 8], [6, 7, 9, 10, 11, 12, 9]]"
            ]
          },
          "metadata": {},
          "execution_count": 44
        }
      ]
    },
    {
      "cell_type": "code",
      "source": [
        "target_int[:2]"
      ],
      "metadata": {
        "colab": {
          "base_uri": "https://localhost:8080/"
        },
        "id": "EVPeLpNFMW2X",
        "outputId": "9e36ad20-148c-4d42-f095-d1b8b15f5ea9"
      },
      "execution_count": null,
      "outputs": [
        {
          "output_type": "execute_result",
          "data": {
            "text/plain": [
              "[[9082, 6, 7, 9, 10, 11, 12, 9, 9081], [9082, 13, 8, 9081]]"
            ]
          },
          "metadata": {},
          "execution_count": 45
        }
      ]
    },
    {
      "cell_type": "code",
      "source": [
        ""
      ],
      "metadata": {
        "id": "tFdNwDUdMYYI"
      },
      "execution_count": null,
      "outputs": []
    },
    {
      "cell_type": "markdown",
      "source": [
        "#### Preparing the data to feed the model"
      ],
      "metadata": {
        "id": "D3Yuy4-LPhuV"
      }
    },
    {
      "cell_type": "code",
      "source": [
        "# encoder_input_data = np.zeros((len(source_text), 42, len(source_vocab_to_int)))\n",
        "\n",
        "# encoder_input_data = np.zeros((32, 42, len(source_vocab_to_int)))\n",
        "# decoder_input_data = np.zeros((32, 42, len(target_vocab_to_int)))\n",
        "# decoder_output_data = np.zeros((32, 42, len(target_vocab_to_int)))"
      ],
      "metadata": {
        "id": "BNQnAt_SPmA8"
      },
      "execution_count": null,
      "outputs": []
    },
    {
      "cell_type": "code",
      "source": [
        "source_text_sample = source_text[:5]\n",
        "target_text_sample = target_text[:5]\n",
        "\n",
        "new_source_dict = {}\n",
        "new_target_dict = {}\n",
        "\n",
        "count_source = 1\n",
        "for sentence in source_text_sample:\n",
        "  for word in sentence.split():\n",
        "    if word not in new_source_dict:\n",
        "      new_source_dict[word] = count_source\n",
        "      count_source += 1\n",
        "    else:\n",
        "      continue\n",
        "\n",
        "count_target = 1\n",
        "for sentence in target_text_sample:\n",
        "  for word in sentence.split():\n",
        "    if word not in new_target_dict:\n",
        "      new_target_dict[word] = count_target\n",
        "      count_target += 1\n",
        "    else:\n",
        "      continue"
      ],
      "metadata": {
        "id": "kkpSqSH2QT6F"
      },
      "execution_count": null,
      "outputs": []
    },
    {
      "cell_type": "code",
      "source": [
        "source_text_sample, target_text_sample"
      ],
      "metadata": {
        "colab": {
          "base_uri": "https://localhost:8080/"
        },
        "id": "Taemma_7RdH3",
        "outputId": "469b56ce-7dcc-455b-8b44-6d4e68d287a8"
      },
      "execution_count": null,
      "outputs": [
        {
          "output_type": "execute_result",
          "data": {
            "text/plain": [
              "(['you guys , you guys ! chef is going away . ',\n",
              "  'going away ? for how long ?',\n",
              "  'forever .',\n",
              "  'i am sorry boys .',\n",
              "  'chef said he is been bored , so he joining a group called the super adventure club . '],\n",
              " ['going away ? for how long ?',\n",
              "  'forever .',\n",
              "  'i am sorry boys .',\n",
              "  'chef said he is been bored , so he joining a group called the super adventure club . ',\n",
              "  'wow !'])"
            ]
          },
          "metadata": {},
          "execution_count": 70
        }
      ]
    },
    {
      "cell_type": "code",
      "source": [
        "new_source_dict"
      ],
      "metadata": {
        "colab": {
          "base_uri": "https://localhost:8080/"
        },
        "id": "FSfBkTQpRdEq",
        "outputId": "ef3008fb-25c6-474d-a25a-792b7c229d3d"
      },
      "execution_count": null,
      "outputs": [
        {
          "output_type": "execute_result",
          "data": {
            "text/plain": [
              "{'!': 4,\n",
              " ',': 3,\n",
              " '.': 9,\n",
              " '?': 10,\n",
              " 'a': 25,\n",
              " 'adventure': 30,\n",
              " 'am': 16,\n",
              " 'away': 8,\n",
              " 'been': 21,\n",
              " 'bored': 22,\n",
              " 'boys': 18,\n",
              " 'called': 27,\n",
              " 'chef': 5,\n",
              " 'club': 31,\n",
              " 'for': 11,\n",
              " 'forever': 14,\n",
              " 'going': 7,\n",
              " 'group': 26,\n",
              " 'guys': 2,\n",
              " 'he': 20,\n",
              " 'how': 12,\n",
              " 'i': 15,\n",
              " 'is': 6,\n",
              " 'joining': 24,\n",
              " 'long': 13,\n",
              " 'said': 19,\n",
              " 'so': 23,\n",
              " 'sorry': 17,\n",
              " 'super': 29,\n",
              " 'the': 28,\n",
              " 'you': 1}"
            ]
          },
          "metadata": {},
          "execution_count": 71
        }
      ]
    },
    {
      "cell_type": "code",
      "source": [
        "new_target_dict"
      ],
      "metadata": {
        "colab": {
          "base_uri": "https://localhost:8080/"
        },
        "id": "AGicP2rHRdBB",
        "outputId": "240eb8ec-0d9b-4582-d0e9-3313df8342e5"
      },
      "execution_count": null,
      "outputs": [
        {
          "output_type": "execute_result",
          "data": {
            "text/plain": [
              "{'!': 30,\n",
              " ',': 19,\n",
              " '.': 8,\n",
              " '?': 3,\n",
              " 'a': 22,\n",
              " 'adventure': 27,\n",
              " 'am': 10,\n",
              " 'away': 2,\n",
              " 'been': 17,\n",
              " 'bored': 18,\n",
              " 'boys': 12,\n",
              " 'called': 24,\n",
              " 'chef': 13,\n",
              " 'club': 28,\n",
              " 'for': 4,\n",
              " 'forever': 7,\n",
              " 'going': 1,\n",
              " 'group': 23,\n",
              " 'he': 15,\n",
              " 'how': 5,\n",
              " 'i': 9,\n",
              " 'is': 16,\n",
              " 'joining': 21,\n",
              " 'long': 6,\n",
              " 'said': 14,\n",
              " 'so': 20,\n",
              " 'sorry': 11,\n",
              " 'super': 26,\n",
              " 'the': 25,\n",
              " 'wow': 29}"
            ]
          },
          "metadata": {},
          "execution_count": 72
        }
      ]
    },
    {
      "cell_type": "code",
      "source": [
        "max_len_sample_source = 0\n",
        "max_len_sample_target = 0\n",
        "\n",
        "for sentence in source_text_sample:\n",
        "  if len(sentence.split()) >= max_len_sample_source:\n",
        "    max_len_sample_source = len(sentence.split())\n",
        "\n",
        "for sentence in target_text_sample:\n",
        "  if len(sentence.split()) >= max_len_sample_target:\n",
        "    max_len_sample_target = len(sentence.split())"
      ],
      "metadata": {
        "id": "a4jRviyjSGSr"
      },
      "execution_count": null,
      "outputs": []
    },
    {
      "cell_type": "code",
      "source": [
        "max_len_sample_source, max_len_sample_target"
      ],
      "metadata": {
        "colab": {
          "base_uri": "https://localhost:8080/"
        },
        "id": "fhmZiieiSsEO",
        "outputId": "5b8ec920-e9f5-4b24-e5e0-cb1ba028a58c"
      },
      "execution_count": null,
      "outputs": [
        {
          "output_type": "execute_result",
          "data": {
            "text/plain": [
              "(18, 18)"
            ]
          },
          "metadata": {},
          "execution_count": 74
        }
      ]
    },
    {
      "cell_type": "code",
      "source": [
        "encoder_input_data_sample = np.zeros((len(source_text_sample), max_len_sample_source, len(new_source_dict)+1))\n",
        "decoder_input_data_sample = np.zeros((len(target_text_sample), max_len_sample_target, len(new_target_dict)+1))\n",
        "decoder_output_data_sample = np.zeros((len(target_text_sample), max_len_sample_target, len(new_target_dict)+1))"
      ],
      "metadata": {
        "id": "SCdnLR-xSCXF"
      },
      "execution_count": null,
      "outputs": []
    },
    {
      "cell_type": "code",
      "source": [
        ""
      ],
      "metadata": {
        "id": "KsIgyTj5Rc1T"
      },
      "execution_count": null,
      "outputs": []
    },
    {
      "cell_type": "code",
      "source": [
        "for line, (input_line, target_line) in enumerate(zip(source_text_sample, target_text_sample)):\n",
        "\n",
        "    for timestep, token in enumerate(re.findall(r\"[\\w']+|[^\\s\\w]\", input_line)):\n",
        "        \n",
        "      encoder_input_data_sample[line, timestep, new_source_dict[token]] = 1\n",
        "    \n",
        "    for timestep, token in enumerate(target_line.split()):\n",
        "\n",
        "      decoder_input_data_sample[line, timestep, new_target_dict[token]] = 1\n",
        "      if timestep > 0:\n",
        "          decoder_output_data_sample[line, timestep - 1, new_target_dict[token]] = 1"
      ],
      "metadata": {
        "id": "9iD9d5t0P9yy"
      },
      "execution_count": null,
      "outputs": []
    },
    {
      "cell_type": "code",
      "source": [
        "re.findall(r\"[\\w']+|[^\\s\\w]\", \"hello how are you\")"
      ],
      "metadata": {
        "colab": {
          "base_uri": "https://localhost:8080/"
        },
        "id": "g9921T4ZY2c0",
        "outputId": "218ee213-85f7-4694-d26a-bd638455c6f1"
      },
      "execution_count": null,
      "outputs": [
        {
          "output_type": "execute_result",
          "data": {
            "text/plain": [
              "['hello', 'how', 'are', 'you']"
            ]
          },
          "metadata": {},
          "execution_count": 98
        }
      ]
    },
    {
      "cell_type": "code",
      "source": [
        "encoder_input_data_sample[0]"
      ],
      "metadata": {
        "colab": {
          "base_uri": "https://localhost:8080/"
        },
        "id": "k4hRyt5mIIy4",
        "outputId": "7ff39e8f-bec0-421a-8fbf-0d7344423ad9"
      },
      "execution_count": null,
      "outputs": [
        {
          "output_type": "execute_result",
          "data": {
            "text/plain": [
              "array([[0., 1., 0., 0., 0., 0., 0., 0., 0., 0., 0., 0., 0., 0., 0., 0.,\n",
              "        0., 0., 0., 0., 0., 0., 0., 0., 0., 0., 0., 0., 0., 0., 0., 0.],\n",
              "       [0., 0., 1., 0., 0., 0., 0., 0., 0., 0., 0., 0., 0., 0., 0., 0.,\n",
              "        0., 0., 0., 0., 0., 0., 0., 0., 0., 0., 0., 0., 0., 0., 0., 0.],\n",
              "       [0., 0., 0., 1., 0., 0., 0., 0., 0., 0., 0., 0., 0., 0., 0., 0.,\n",
              "        0., 0., 0., 0., 0., 0., 0., 0., 0., 0., 0., 0., 0., 0., 0., 0.],\n",
              "       [0., 1., 0., 0., 0., 0., 0., 0., 0., 0., 0., 0., 0., 0., 0., 0.,\n",
              "        0., 0., 0., 0., 0., 0., 0., 0., 0., 0., 0., 0., 0., 0., 0., 0.],\n",
              "       [0., 0., 1., 0., 0., 0., 0., 0., 0., 0., 0., 0., 0., 0., 0., 0.,\n",
              "        0., 0., 0., 0., 0., 0., 0., 0., 0., 0., 0., 0., 0., 0., 0., 0.],\n",
              "       [0., 0., 0., 0., 1., 0., 0., 0., 0., 0., 0., 0., 0., 0., 0., 0.,\n",
              "        0., 0., 0., 0., 0., 0., 0., 0., 0., 0., 0., 0., 0., 0., 0., 0.],\n",
              "       [0., 0., 0., 0., 0., 1., 0., 0., 0., 0., 0., 0., 0., 0., 0., 0.,\n",
              "        0., 0., 0., 0., 0., 0., 0., 0., 0., 0., 0., 0., 0., 0., 0., 0.],\n",
              "       [0., 0., 0., 0., 0., 0., 1., 0., 0., 0., 0., 0., 0., 0., 0., 0.,\n",
              "        0., 0., 0., 0., 0., 0., 0., 0., 0., 0., 0., 0., 0., 0., 0., 0.],\n",
              "       [0., 0., 0., 0., 0., 0., 0., 1., 0., 0., 0., 0., 0., 0., 0., 0.,\n",
              "        0., 0., 0., 0., 0., 0., 0., 0., 0., 0., 0., 0., 0., 0., 0., 0.],\n",
              "       [0., 0., 0., 0., 0., 0., 0., 0., 1., 0., 0., 0., 0., 0., 0., 0.,\n",
              "        0., 0., 0., 0., 0., 0., 0., 0., 0., 0., 0., 0., 0., 0., 0., 0.],\n",
              "       [0., 0., 0., 0., 0., 0., 0., 0., 0., 1., 0., 0., 0., 0., 0., 0.,\n",
              "        0., 0., 0., 0., 0., 0., 0., 0., 0., 0., 0., 0., 0., 0., 0., 0.],\n",
              "       [0., 0., 0., 0., 0., 0., 0., 0., 0., 0., 0., 0., 0., 0., 0., 0.,\n",
              "        0., 0., 0., 0., 0., 0., 0., 0., 0., 0., 0., 0., 0., 0., 0., 0.],\n",
              "       [0., 0., 0., 0., 0., 0., 0., 0., 0., 0., 0., 0., 0., 0., 0., 0.,\n",
              "        0., 0., 0., 0., 0., 0., 0., 0., 0., 0., 0., 0., 0., 0., 0., 0.],\n",
              "       [0., 0., 0., 0., 0., 0., 0., 0., 0., 0., 0., 0., 0., 0., 0., 0.,\n",
              "        0., 0., 0., 0., 0., 0., 0., 0., 0., 0., 0., 0., 0., 0., 0., 0.],\n",
              "       [0., 0., 0., 0., 0., 0., 0., 0., 0., 0., 0., 0., 0., 0., 0., 0.,\n",
              "        0., 0., 0., 0., 0., 0., 0., 0., 0., 0., 0., 0., 0., 0., 0., 0.],\n",
              "       [0., 0., 0., 0., 0., 0., 0., 0., 0., 0., 0., 0., 0., 0., 0., 0.,\n",
              "        0., 0., 0., 0., 0., 0., 0., 0., 0., 0., 0., 0., 0., 0., 0., 0.],\n",
              "       [0., 0., 0., 0., 0., 0., 0., 0., 0., 0., 0., 0., 0., 0., 0., 0.,\n",
              "        0., 0., 0., 0., 0., 0., 0., 0., 0., 0., 0., 0., 0., 0., 0., 0.],\n",
              "       [0., 0., 0., 0., 0., 0., 0., 0., 0., 0., 0., 0., 0., 0., 0., 0.,\n",
              "        0., 0., 0., 0., 0., 0., 0., 0., 0., 0., 0., 0., 0., 0., 0., 0.]])"
            ]
          },
          "metadata": {},
          "execution_count": 97
        }
      ]
    },
    {
      "cell_type": "code",
      "source": [
        "decoder_input_data_sample[0]"
      ],
      "metadata": {
        "colab": {
          "base_uri": "https://localhost:8080/"
        },
        "id": "G01uWnRsII6Y",
        "outputId": "72d87b5a-b9b9-43c4-fc18-078a1054b164"
      },
      "execution_count": null,
      "outputs": [
        {
          "output_type": "execute_result",
          "data": {
            "text/plain": [
              "array([[0., 1., 0., 0., 0., 0., 0., 0., 0., 0., 0., 0., 0., 0., 0., 0.,\n",
              "        0., 0., 0., 0., 0., 0., 0., 0., 0., 0., 0., 0., 0., 0., 0.],\n",
              "       [0., 0., 1., 0., 0., 0., 0., 0., 0., 0., 0., 0., 0., 0., 0., 0.,\n",
              "        0., 0., 0., 0., 0., 0., 0., 0., 0., 0., 0., 0., 0., 0., 0.],\n",
              "       [0., 0., 0., 1., 0., 0., 0., 0., 0., 0., 0., 0., 0., 0., 0., 0.,\n",
              "        0., 0., 0., 0., 0., 0., 0., 0., 0., 0., 0., 0., 0., 0., 0.],\n",
              "       [0., 0., 0., 0., 1., 0., 0., 0., 0., 0., 0., 0., 0., 0., 0., 0.,\n",
              "        0., 0., 0., 0., 0., 0., 0., 0., 0., 0., 0., 0., 0., 0., 0.],\n",
              "       [0., 0., 0., 0., 0., 1., 0., 0., 0., 0., 0., 0., 0., 0., 0., 0.,\n",
              "        0., 0., 0., 0., 0., 0., 0., 0., 0., 0., 0., 0., 0., 0., 0.],\n",
              "       [0., 0., 0., 0., 0., 0., 1., 0., 0., 0., 0., 0., 0., 0., 0., 0.,\n",
              "        0., 0., 0., 0., 0., 0., 0., 0., 0., 0., 0., 0., 0., 0., 0.],\n",
              "       [0., 0., 0., 1., 0., 0., 0., 0., 0., 0., 0., 0., 0., 0., 0., 0.,\n",
              "        0., 0., 0., 0., 0., 0., 0., 0., 0., 0., 0., 0., 0., 0., 0.],\n",
              "       [0., 0., 0., 0., 0., 0., 0., 0., 0., 0., 0., 0., 0., 0., 0., 0.,\n",
              "        0., 0., 0., 0., 0., 0., 0., 0., 0., 0., 0., 0., 0., 0., 0.],\n",
              "       [0., 0., 0., 0., 0., 0., 0., 0., 0., 0., 0., 0., 0., 0., 0., 0.,\n",
              "        0., 0., 0., 0., 0., 0., 0., 0., 0., 0., 0., 0., 0., 0., 0.],\n",
              "       [0., 0., 0., 0., 0., 0., 0., 0., 0., 0., 0., 0., 0., 0., 0., 0.,\n",
              "        0., 0., 0., 0., 0., 0., 0., 0., 0., 0., 0., 0., 0., 0., 0.],\n",
              "       [0., 0., 0., 0., 0., 0., 0., 0., 0., 0., 0., 0., 0., 0., 0., 0.,\n",
              "        0., 0., 0., 0., 0., 0., 0., 0., 0., 0., 0., 0., 0., 0., 0.],\n",
              "       [0., 0., 0., 0., 0., 0., 0., 0., 0., 0., 0., 0., 0., 0., 0., 0.,\n",
              "        0., 0., 0., 0., 0., 0., 0., 0., 0., 0., 0., 0., 0., 0., 0.],\n",
              "       [0., 0., 0., 0., 0., 0., 0., 0., 0., 0., 0., 0., 0., 0., 0., 0.,\n",
              "        0., 0., 0., 0., 0., 0., 0., 0., 0., 0., 0., 0., 0., 0., 0.],\n",
              "       [0., 0., 0., 0., 0., 0., 0., 0., 0., 0., 0., 0., 0., 0., 0., 0.,\n",
              "        0., 0., 0., 0., 0., 0., 0., 0., 0., 0., 0., 0., 0., 0., 0.],\n",
              "       [0., 0., 0., 0., 0., 0., 0., 0., 0., 0., 0., 0., 0., 0., 0., 0.,\n",
              "        0., 0., 0., 0., 0., 0., 0., 0., 0., 0., 0., 0., 0., 0., 0.],\n",
              "       [0., 0., 0., 0., 0., 0., 0., 0., 0., 0., 0., 0., 0., 0., 0., 0.,\n",
              "        0., 0., 0., 0., 0., 0., 0., 0., 0., 0., 0., 0., 0., 0., 0.],\n",
              "       [0., 0., 0., 0., 0., 0., 0., 0., 0., 0., 0., 0., 0., 0., 0., 0.,\n",
              "        0., 0., 0., 0., 0., 0., 0., 0., 0., 0., 0., 0., 0., 0., 0.],\n",
              "       [0., 0., 0., 0., 0., 0., 0., 0., 0., 0., 0., 0., 0., 0., 0., 0.,\n",
              "        0., 0., 0., 0., 0., 0., 0., 0., 0., 0., 0., 0., 0., 0., 0.]])"
            ]
          },
          "metadata": {},
          "execution_count": 94
        }
      ]
    },
    {
      "cell_type": "code",
      "source": [
        "decoder_output_data_sample[0]"
      ],
      "metadata": {
        "colab": {
          "base_uri": "https://localhost:8080/"
        },
        "id": "aYq4BL7aPm2q",
        "outputId": "fa5f3e24-eabc-42ac-c53b-1ce5608d8739"
      },
      "execution_count": null,
      "outputs": [
        {
          "output_type": "execute_result",
          "data": {
            "text/plain": [
              "array([[0., 0., 1., 0., 0., 0., 0., 0., 0., 0., 0., 0., 0., 0., 0., 0.,\n",
              "        0., 0., 0., 0., 0., 0., 0., 0., 0., 0., 0., 0., 0., 0., 0.],\n",
              "       [0., 0., 0., 1., 0., 0., 0., 0., 0., 0., 0., 0., 0., 0., 0., 0.,\n",
              "        0., 0., 0., 0., 0., 0., 0., 0., 0., 0., 0., 0., 0., 0., 0.],\n",
              "       [0., 0., 0., 0., 1., 0., 0., 0., 0., 0., 0., 0., 0., 0., 0., 0.,\n",
              "        0., 0., 0., 0., 0., 0., 0., 0., 0., 0., 0., 0., 0., 0., 0.],\n",
              "       [0., 0., 0., 0., 0., 1., 0., 0., 0., 0., 0., 0., 0., 0., 0., 0.,\n",
              "        0., 0., 0., 0., 0., 0., 0., 0., 0., 0., 0., 0., 0., 0., 0.],\n",
              "       [0., 0., 0., 0., 0., 0., 1., 0., 0., 0., 0., 0., 0., 0., 0., 0.,\n",
              "        0., 0., 0., 0., 0., 0., 0., 0., 0., 0., 0., 0., 0., 0., 0.],\n",
              "       [0., 0., 0., 1., 0., 0., 0., 0., 0., 0., 0., 0., 0., 0., 0., 0.,\n",
              "        0., 0., 0., 0., 0., 0., 0., 0., 0., 0., 0., 0., 0., 0., 0.],\n",
              "       [0., 0., 0., 0., 0., 0., 0., 0., 0., 0., 0., 0., 0., 0., 0., 0.,\n",
              "        0., 0., 0., 0., 0., 0., 0., 0., 0., 0., 0., 0., 0., 0., 0.],\n",
              "       [0., 0., 0., 0., 0., 0., 0., 0., 0., 0., 0., 0., 0., 0., 0., 0.,\n",
              "        0., 0., 0., 0., 0., 0., 0., 0., 0., 0., 0., 0., 0., 0., 0.],\n",
              "       [0., 0., 0., 0., 0., 0., 0., 0., 0., 0., 0., 0., 0., 0., 0., 0.,\n",
              "        0., 0., 0., 0., 0., 0., 0., 0., 0., 0., 0., 0., 0., 0., 0.],\n",
              "       [0., 0., 0., 0., 0., 0., 0., 0., 0., 0., 0., 0., 0., 0., 0., 0.,\n",
              "        0., 0., 0., 0., 0., 0., 0., 0., 0., 0., 0., 0., 0., 0., 0.],\n",
              "       [0., 0., 0., 0., 0., 0., 0., 0., 0., 0., 0., 0., 0., 0., 0., 0.,\n",
              "        0., 0., 0., 0., 0., 0., 0., 0., 0., 0., 0., 0., 0., 0., 0.],\n",
              "       [0., 0., 0., 0., 0., 0., 0., 0., 0., 0., 0., 0., 0., 0., 0., 0.,\n",
              "        0., 0., 0., 0., 0., 0., 0., 0., 0., 0., 0., 0., 0., 0., 0.],\n",
              "       [0., 0., 0., 0., 0., 0., 0., 0., 0., 0., 0., 0., 0., 0., 0., 0.,\n",
              "        0., 0., 0., 0., 0., 0., 0., 0., 0., 0., 0., 0., 0., 0., 0.],\n",
              "       [0., 0., 0., 0., 0., 0., 0., 0., 0., 0., 0., 0., 0., 0., 0., 0.,\n",
              "        0., 0., 0., 0., 0., 0., 0., 0., 0., 0., 0., 0., 0., 0., 0.],\n",
              "       [0., 0., 0., 0., 0., 0., 0., 0., 0., 0., 0., 0., 0., 0., 0., 0.,\n",
              "        0., 0., 0., 0., 0., 0., 0., 0., 0., 0., 0., 0., 0., 0., 0.],\n",
              "       [0., 0., 0., 0., 0., 0., 0., 0., 0., 0., 0., 0., 0., 0., 0., 0.,\n",
              "        0., 0., 0., 0., 0., 0., 0., 0., 0., 0., 0., 0., 0., 0., 0.],\n",
              "       [0., 0., 0., 0., 0., 0., 0., 0., 0., 0., 0., 0., 0., 0., 0., 0.,\n",
              "        0., 0., 0., 0., 0., 0., 0., 0., 0., 0., 0., 0., 0., 0., 0.],\n",
              "       [0., 0., 0., 0., 0., 0., 0., 0., 0., 0., 0., 0., 0., 0., 0., 0.,\n",
              "        0., 0., 0., 0., 0., 0., 0., 0., 0., 0., 0., 0., 0., 0., 0.]])"
            ]
          },
          "metadata": {},
          "execution_count": 95
        }
      ]
    },
    {
      "cell_type": "code",
      "source": [
        ""
      ],
      "metadata": {
        "id": "zA-lkDamPnMj"
      },
      "execution_count": null,
      "outputs": []
    },
    {
      "cell_type": "code",
      "source": [
        "encoder_input_data_batches = []\n",
        "decoder_input_data_batches = []\n",
        "decoder_output_data_batches = []"
      ],
      "metadata": {
        "id": "8EhSHHTChAsF"
      },
      "execution_count": null,
      "outputs": []
    },
    {
      "cell_type": "code",
      "source": [
        "count_var = 0\n",
        "batches_encoder = 0\n",
        "while count_var <= len(source_text)-1:\n",
        "  encoder_inp = np.zeros((count_var+32, 42, len(source_int_to_vocab)))\n",
        "  encoder_input_data_batches.append(encoder_inp)\n",
        "  count_var += 32\n",
        "  batches_encoder += 1"
      ],
      "metadata": {
        "id": "IadgahOMhAoM"
      },
      "execution_count": null,
      "outputs": []
    },
    {
      "cell_type": "code",
      "source": [
        ""
      ],
      "metadata": {
        "id": "QKuwNc-shAmS"
      },
      "execution_count": null,
      "outputs": []
    },
    {
      "cell_type": "markdown",
      "source": [
        "#### Downsampling the source text and target text and recreating the vocabulary dictionaries "
      ],
      "metadata": {
        "id": "dzYek02thAdw"
      }
    },
    {
      "cell_type": "code",
      "source": [
        "selected_samples = random.sample(list(range(0, len(source_text))), 5000)"
      ],
      "metadata": {
        "id": "iPJXBrNEhAa2"
      },
      "execution_count": null,
      "outputs": []
    },
    {
      "cell_type": "code",
      "source": [
        "source_text_downsampled = []\n",
        "target_text_downsampled = []\n",
        "\n",
        "for x in selected_samples:\n",
        "  source_text_downsampled.append(source_text[x])\n",
        "  target_text_downsampled.append(target_text[x])"
      ],
      "metadata": {
        "id": "_Xvy08vGp9C9"
      },
      "execution_count": null,
      "outputs": []
    },
    {
      "cell_type": "code",
      "source": [
        "len(source_text_downsampled), len(target_text_downsampled)"
      ],
      "metadata": {
        "colab": {
          "base_uri": "https://localhost:8080/"
        },
        "id": "j2RlmfelqDry",
        "outputId": "0e57ccc0-0085-4a01-ebf0-db8dfd9606b8"
      },
      "execution_count": null,
      "outputs": [
        {
          "output_type": "execute_result",
          "data": {
            "text/plain": [
              "(5000, 5000)"
            ]
          },
          "metadata": {},
          "execution_count": 48
        }
      ]
    },
    {
      "cell_type": "code",
      "source": [
        "modified_target_text_downsampled = []\n",
        "\n",
        "for sentence in target_text_downsampled:\n",
        "  sent = \"<SOS> \" + sentence + \" <EOS>\"\n",
        "  modified_target_text_downsampled.append(sent)"
      ],
      "metadata": {
        "id": "3G8mtNCLzbzI"
      },
      "execution_count": null,
      "outputs": []
    },
    {
      "cell_type": "code",
      "source": [
        ""
      ],
      "metadata": {
        "id": "SSd0CluNsxqo"
      },
      "execution_count": null,
      "outputs": []
    },
    {
      "cell_type": "code",
      "source": [
        "source_vocab_threshold_downsampled = {}\n",
        "target_vocab_threshold_downsampled = {}\n",
        "\n",
        "for sentence in source_text_downsampled:\n",
        "  for word in sentence.split():\n",
        "    if word not in source_vocab_threshold_downsampled:\n",
        "      source_vocab_threshold_downsampled[word] = 1\n",
        "    else:\n",
        "      source_vocab_threshold_downsampled[word] += 1\n",
        "\n",
        "for sentence in modified_target_text_downsampled:\n",
        "  for word in sentence.split():\n",
        "    if word not in target_vocab_threshold_downsampled:\n",
        "      target_vocab_threshold_downsampled[word] = 1\n",
        "    else:\n",
        "      target_vocab_threshold_downsampled[word] += 1"
      ],
      "metadata": {
        "id": "dL0ofNm5uz5d"
      },
      "execution_count": null,
      "outputs": []
    },
    {
      "cell_type": "code",
      "source": [
        "len(source_vocab_threshold_downsampled), len(target_vocab_threshold_downsampled)"
      ],
      "metadata": {
        "colab": {
          "base_uri": "https://localhost:8080/"
        },
        "id": "oxVBqe0FvZcc",
        "outputId": "52b0f9a2-a7ae-415d-d23d-9de2f5b527b3"
      },
      "execution_count": null,
      "outputs": [
        {
          "output_type": "execute_result",
          "data": {
            "text/plain": [
              "(6089, 5974)"
            ]
          },
          "metadata": {},
          "execution_count": 51
        }
      ]
    },
    {
      "cell_type": "code",
      "source": [
        "threshold = 2\n",
        "\n",
        "source_vocab_to_int_downsampled = {}\n",
        "target_vocab_to_int_downsampled = {}\n",
        "\n",
        "count_source = 0\n",
        "for key, values in source_vocab_threshold_downsampled.items():\n",
        "  if values>=threshold:\n",
        "    source_vocab_to_int_downsampled[key] = count_source\n",
        "    count_source += 1\n",
        "  else:\n",
        "    continue\n",
        "\n",
        "count_target = 0\n",
        "for key, values in target_vocab_threshold_downsampled.items():\n",
        "  if values>=threshold:\n",
        "    target_vocab_to_int_downsampled[key] = count_target\n",
        "    count_target += 1\n",
        "  else:\n",
        "    continue"
      ],
      "metadata": {
        "id": "PKJnsAJ8tbj7"
      },
      "execution_count": null,
      "outputs": []
    },
    {
      "cell_type": "code",
      "source": [
        "tokens = [\"<SOS>\", \"<EOS>\", \"<PAD>\", \"<UNK>\"]\n",
        "\n",
        "for token in tokens:\n",
        "  source_vocab_to_int_downsampled[token] = len(source_vocab_to_int_downsampled)+1\n",
        "\n",
        "for token in tokens:\n",
        "  if token not in target_vocab_to_int_downsampled:\n",
        "    target_vocab_to_int_downsampled[token] = len(target_vocab_to_int_downsampled)+1"
      ],
      "metadata": {
        "id": "AnpDTl4M0fB-"
      },
      "execution_count": null,
      "outputs": []
    },
    {
      "cell_type": "code",
      "source": [
        "len(source_vocab_to_int_downsampled), len(target_vocab_to_int_downsampled)"
      ],
      "metadata": {
        "colab": {
          "base_uri": "https://localhost:8080/"
        },
        "id": "RVB1AgqDtboM",
        "outputId": "273b1427-e189-4bba-eabc-37b1ef46dc2b"
      },
      "execution_count": null,
      "outputs": [
        {
          "output_type": "execute_result",
          "data": {
            "text/plain": [
              "(2500, 2437)"
            ]
          },
          "metadata": {},
          "execution_count": 54
        }
      ]
    },
    {
      "cell_type": "code",
      "source": [
        "inv_source_vocab_downsampled = {y:x for x,y in source_vocab_to_int_downsampled.items()}\n",
        "inv_target_vocab_downsampled = {y:x for x,y in target_vocab_to_int_downsampled.items()}"
      ],
      "metadata": {
        "id": "HXTivW7rtbrh"
      },
      "execution_count": null,
      "outputs": []
    },
    {
      "cell_type": "code",
      "source": [
        "max_len_source_downsampled = 0\n",
        "max_len_target_downsampled = 0\n",
        "\n",
        "for sentence in source_text_downsampled:\n",
        "  length = len(sentence.split())\n",
        "  if length >= max_len_source_downsampled:\n",
        "    max_len_source_downsampled = length\n",
        "\n",
        "for sentence in target_text_downsampled:\n",
        "  length = len(sentence.split())\n",
        "  if length >= max_len_target_downsampled:\n",
        "    max_len_target_downsampled = length"
      ],
      "metadata": {
        "id": "NMwD47xqsyfO"
      },
      "execution_count": null,
      "outputs": []
    },
    {
      "cell_type": "code",
      "source": [
        "max_len_source_downsampled, max_len_target_downsampled"
      ],
      "metadata": {
        "colab": {
          "base_uri": "https://localhost:8080/"
        },
        "id": "hpkzOeWuum9c",
        "outputId": "5da01fe2-ba5a-4637-8625-1238af85969f"
      },
      "execution_count": null,
      "outputs": [
        {
          "output_type": "execute_result",
          "data": {
            "text/plain": [
              "(42, 42)"
            ]
          },
          "metadata": {},
          "execution_count": 57
        }
      ]
    },
    {
      "cell_type": "code",
      "source": [
        ""
      ],
      "metadata": {
        "id": "-iM2RGhXunBD"
      },
      "execution_count": null,
      "outputs": []
    },
    {
      "cell_type": "code",
      "source": [
        "encoder_input_data_downsampled = np.zeros((len(source_text_downsampled), max_len_source_downsampled, len(source_vocab_to_int_downsampled)), \n",
        "                                          dtype=\"float32\")\n",
        "\n",
        "decoder_input_data_downsampled = np.zeros((len(target_text_downsampled), max_len_target_downsampled, len(target_vocab_to_int_downsampled)),\n",
        "                                          dtype=\"float32\")\n",
        "\n",
        "decoder_output_data_downsampled = np.zeros((len(target_text_downsampled), max_len_target_downsampled, len(target_vocab_to_int_downsampled)),\n",
        "                                          dtype=\"float32\")"
      ],
      "metadata": {
        "id": "WqUX_0O2unEf"
      },
      "execution_count": null,
      "outputs": []
    },
    {
      "cell_type": "code",
      "source": [
        "for line, (input_line, target_line) in enumerate(zip(source_text_downsampled, target_text_downsampled)):\n",
        "\n",
        "  for timestep, token in enumerate(input_line.split()):\n",
        "\n",
        "    if token in source_vocab_to_int_downsampled:\n",
        "      encoder_input_data_downsampled[line, timestep, source_vocab_to_int_downsampled[token]] = 1\n",
        "    else:\n",
        "      encoder_input_data_downsampled[line, timestep, source_vocab_to_int_downsampled[\"<UNK>\"]-1] = 1\n",
        "\n",
        "  for timestep, token in enumerate(target_line.split()):\n",
        "\n",
        "    if token in target_vocab_to_int_downsampled:\n",
        "      decoder_input_data_downsampled[line, timestep, target_vocab_to_int_downsampled[token]] = 1\n",
        "      if timestep>0:\n",
        "        decoder_output_data_downsampled[line, timestep-1, target_vocab_to_int_downsampled[token]] = 1\n",
        "    else:\n",
        "      decoder_input_data_downsampled[line, timestep, target_vocab_to_int_downsampled[\"<UNK>\"]-1] = 1\n",
        "      if timestep>0:\n",
        "        decoder_output_data_downsampled[line, timestep, target_vocab_to_int_downsampled[\"<UNK>\"]-1] = 1"
      ],
      "metadata": {
        "id": "l6XYXoJDunLu"
      },
      "execution_count": null,
      "outputs": []
    },
    {
      "cell_type": "code",
      "source": [
        ""
      ],
      "metadata": {
        "id": "BwuhsK3wunPG"
      },
      "execution_count": null,
      "outputs": []
    },
    {
      "cell_type": "markdown",
      "source": [
        "#### The Encoder-Decoder model"
      ],
      "metadata": {
        "id": "YdlsCAlI2YKg"
      }
    },
    {
      "cell_type": "code",
      "source": [
        "encoder_inputs = keras.layers.Input(shape=(None, len(source_vocab_to_int_downsampled)))\n",
        "encoder_lstm = keras.layers.LSTM(256, return_state=True)\n",
        "encoder_outputs, hidden_state, cell_state = encoder_lstm(encoder_inputs)\n",
        "encoder_states = [hidden_state, cell_state]\n",
        "\n",
        "decoder_inputs = keras.layers.Input(shape=(None, len(target_vocab_to_int_downsampled)))\n",
        "decoder_lstm = keras.layers.LSTM(256, return_sequences=True, return_state=True)\n",
        "decoder_outputs, state_h, state_c = decoder_lstm(decoder_inputs, initial_state=encoder_states)\n",
        "decoder_dense = keras.layers.Dense(len(target_vocab_to_int_downsampled), activation=\"softmax\")\n",
        "decoder_outputs = decoder_dense(decoder_outputs)\n",
        "\n",
        "model = keras.Model(inputs=[encoder_inputs, decoder_inputs], outputs=decoder_outputs)\n",
        "\n",
        "model.compile(loss=keras.losses.CategoricalCrossentropy(), metrics=[\"accuracy\"],\n",
        "              optimizer=keras.optimizers.Adam())"
      ],
      "metadata": {
        "id": "utHC74kx3IYY"
      },
      "execution_count": null,
      "outputs": []
    },
    {
      "cell_type": "code",
      "source": [
        "tf.keras.utils.plot_model(model, show_shapes=True)"
      ],
      "metadata": {
        "colab": {
          "base_uri": "https://localhost:8080/",
          "height": 400
        },
        "id": "1UBVkNZw6tNZ",
        "outputId": "ef014abb-1c94-47fb-dfcb-0b4ffe0d02a8"
      },
      "execution_count": null,
      "outputs": [
        {
          "output_type": "execute_result",
          "data": {
            "image/png": "[encoded data removed]",
            "text/plain": [
              "<IPython.core.display.Image object>"
            ]
          },
          "metadata": {},
          "execution_count": 61
        }
      ]
    },
    {
      "cell_type": "code",
      "source": [
        "history = model.fit([encoder_input_data_downsampled, decoder_input_data_downsampled], decoder_output_data_downsampled,\n",
        "                    batch_size=32, epochs=200, validation_split=0.15)"
      ],
      "metadata": {
        "id": "G60uY1JM33kE",
        "colab": {
          "base_uri": "https://localhost:8080/"
        },
        "outputId": "6e4d3a90-320b-494a-bd54-3d31fd5e6c9b"
      },
      "execution_count": null,
      "outputs": [
        {
          "output_type": "stream",
          "name": "stdout",
          "text": [
            "Epoch 1/200\n",
            "133/133 [==============================] - 15s 56ms/step - loss: 1.5753 - accuracy: 0.0234 - val_loss: 1.4410 - val_accuracy: 0.0237\n",
            "Epoch 2/200\n",
            "133/133 [==============================] - 6s 42ms/step - loss: 1.5154 - accuracy: 0.0235 - val_loss: 1.4479 - val_accuracy: 0.0237\n",
            "Epoch 3/200\n",
            "133/133 [==============================] - 6s 42ms/step - loss: 1.5180 - accuracy: 0.0233 - val_loss: 1.4488 - val_accuracy: 0.0237\n",
            "Epoch 4/200\n",
            "133/133 [==============================] - 6s 42ms/step - loss: 1.5190 - accuracy: 0.0233 - val_loss: 1.4510 - val_accuracy: 0.0237\n",
            "Epoch 5/200\n",
            "133/133 [==============================] - 6s 44ms/step - loss: 1.5200 - accuracy: 0.0233 - val_loss: 1.4471 - val_accuracy: 0.0237\n",
            "Epoch 6/200\n",
            "133/133 [==============================] - 6s 42ms/step - loss: 1.5205 - accuracy: 0.0233 - val_loss: 1.4512 - val_accuracy: 0.0237\n",
            "Epoch 7/200\n",
            "133/133 [==============================] - 6s 43ms/step - loss: 1.5215 - accuracy: 0.0233 - val_loss: 1.4512 - val_accuracy: 0.0237\n",
            "Epoch 8/200\n",
            "133/133 [==============================] - 6s 42ms/step - loss: 1.5219 - accuracy: 0.0233 - val_loss: 1.4482 - val_accuracy: 0.0237\n",
            "Epoch 9/200\n",
            "133/133 [==============================] - 6s 43ms/step - loss: 1.5216 - accuracy: 0.0234 - val_loss: 1.4550 - val_accuracy: 0.0237\n",
            "Epoch 10/200\n",
            "133/133 [==============================] - 6s 44ms/step - loss: 1.5227 - accuracy: 0.0233 - val_loss: 1.4536 - val_accuracy: 0.0237\n",
            "Epoch 11/200\n",
            "133/133 [==============================] - 6s 42ms/step - loss: 1.5228 - accuracy: 0.0233 - val_loss: 1.4570 - val_accuracy: 0.0237\n",
            "Epoch 12/200\n",
            "133/133 [==============================] - 6s 43ms/step - loss: 1.5232 - accuracy: 0.0233 - val_loss: 1.4528 - val_accuracy: 0.0237\n",
            "Epoch 13/200\n",
            "133/133 [==============================] - 6s 43ms/step - loss: 1.5238 - accuracy: 0.0233 - val_loss: 1.4586 - val_accuracy: 0.0237\n",
            "Epoch 14/200\n",
            "133/133 [==============================] - 6s 42ms/step - loss: 1.5240 - accuracy: 0.0234 - val_loss: 1.4572 - val_accuracy: 0.0237\n",
            "Epoch 15/200\n",
            "133/133 [==============================] - 6s 43ms/step - loss: 1.5247 - accuracy: 0.0234 - val_loss: 1.4566 - val_accuracy: 0.0237\n",
            "Epoch 16/200\n",
            "133/133 [==============================] - 6s 47ms/step - loss: 1.5250 - accuracy: 0.0234 - val_loss: 1.4522 - val_accuracy: 0.0237\n",
            "Epoch 17/200\n",
            "133/133 [==============================] - 6s 42ms/step - loss: 1.5245 - accuracy: 0.0234 - val_loss: 1.4561 - val_accuracy: 0.0237\n",
            "Epoch 18/200\n",
            "133/133 [==============================] - 6s 43ms/step - loss: 1.5247 - accuracy: 0.0233 - val_loss: 1.4589 - val_accuracy: 0.0237\n",
            "Epoch 19/200\n",
            "133/133 [==============================] - 6s 42ms/step - loss: 1.5255 - accuracy: 0.0233 - val_loss: 1.4609 - val_accuracy: 0.0237\n",
            "Epoch 20/200\n",
            "133/133 [==============================] - 6s 42ms/step - loss: 1.5249 - accuracy: 0.0236 - val_loss: 1.4575 - val_accuracy: 0.0237\n",
            "Epoch 21/200\n",
            "133/133 [==============================] - 6s 43ms/step - loss: 1.5259 - accuracy: 0.0233 - val_loss: 1.4580 - val_accuracy: 0.0237\n",
            "Epoch 22/200\n",
            "133/133 [==============================] - 6s 42ms/step - loss: 1.5260 - accuracy: 0.0236 - val_loss: 1.4533 - val_accuracy: 0.0237\n",
            "Epoch 23/200\n",
            "133/133 [==============================] - 6s 43ms/step - loss: 1.5254 - accuracy: 0.0240 - val_loss: 1.4593 - val_accuracy: 0.0237\n",
            "Epoch 24/200\n",
            "133/133 [==============================] - 6s 43ms/step - loss: 1.5263 - accuracy: 0.0239 - val_loss: 1.4626 - val_accuracy: 0.0272\n",
            "Epoch 25/200\n",
            "133/133 [==============================] - 6s 43ms/step - loss: 1.5265 - accuracy: 0.0236 - val_loss: 1.4597 - val_accuracy: 0.0237\n",
            "Epoch 26/200\n",
            "133/133 [==============================] - 6s 42ms/step - loss: 1.5260 - accuracy: 0.0239 - val_loss: 1.4643 - val_accuracy: 0.0237\n",
            "Epoch 27/200\n",
            "133/133 [==============================] - 6s 43ms/step - loss: 1.5268 - accuracy: 0.0237 - val_loss: 1.4579 - val_accuracy: 0.0237\n",
            "Epoch 28/200\n",
            "133/133 [==============================] - 6s 43ms/step - loss: 1.5269 - accuracy: 0.0242 - val_loss: 1.4578 - val_accuracy: 0.0237\n",
            "Epoch 29/200\n",
            "133/133 [==============================] - 6s 43ms/step - loss: 1.5270 - accuracy: 0.0239 - val_loss: 1.4645 - val_accuracy: 0.0237\n",
            "Epoch 30/200\n",
            "133/133 [==============================] - 6s 43ms/step - loss: 1.5270 - accuracy: 0.0241 - val_loss: 1.4620 - val_accuracy: 0.0272\n",
            "Epoch 31/200\n",
            "133/133 [==============================] - 6s 43ms/step - loss: 1.5272 - accuracy: 0.0243 - val_loss: 1.4592 - val_accuracy: 0.0237\n",
            "Epoch 32/200\n",
            "133/133 [==============================] - 6s 43ms/step - loss: 1.5274 - accuracy: 0.0244 - val_loss: 1.4608 - val_accuracy: 0.0237\n",
            "Epoch 33/200\n",
            "133/133 [==============================] - 6s 42ms/step - loss: 1.5277 - accuracy: 0.0242 - val_loss: 1.4529 - val_accuracy: 0.0237\n",
            "Epoch 34/200\n",
            "133/133 [==============================] - 6s 43ms/step - loss: 1.5269 - accuracy: 0.0246 - val_loss: 1.4610 - val_accuracy: 0.0237\n",
            "Epoch 35/200\n",
            "133/133 [==============================] - 6s 43ms/step - loss: 1.5276 - accuracy: 0.0247 - val_loss: 1.4591 - val_accuracy: 0.0272\n",
            "Epoch 36/200\n",
            "133/133 [==============================] - 6s 42ms/step - loss: 1.5276 - accuracy: 0.0246 - val_loss: 1.4614 - val_accuracy: 0.0272\n",
            "Epoch 37/200\n",
            "133/133 [==============================] - 6s 42ms/step - loss: 1.5279 - accuracy: 0.0249 - val_loss: 1.4614 - val_accuracy: 0.0237\n",
            "Epoch 38/200\n",
            "133/133 [==============================] - 6s 43ms/step - loss: 1.5283 - accuracy: 0.0246 - val_loss: 1.4635 - val_accuracy: 0.0237\n",
            "Epoch 39/200\n",
            "133/133 [==============================] - 6s 42ms/step - loss: 1.5286 - accuracy: 0.0243 - val_loss: 1.4644 - val_accuracy: 0.0272\n",
            "Epoch 40/200\n",
            "133/133 [==============================] - 6s 43ms/step - loss: 1.5283 - accuracy: 0.0244 - val_loss: 1.4593 - val_accuracy: 0.0272\n",
            "Epoch 41/200\n",
            "133/133 [==============================] - 6s 43ms/step - loss: 1.5284 - accuracy: 0.0248 - val_loss: 1.4620 - val_accuracy: 0.0272\n",
            "Epoch 42/200\n",
            "133/133 [==============================] - 6s 43ms/step - loss: 1.5286 - accuracy: 0.0246 - val_loss: 1.4614 - val_accuracy: 0.0272\n",
            "Epoch 43/200\n",
            "133/133 [==============================] - 6s 43ms/step - loss: 1.5285 - accuracy: 0.0249 - val_loss: 1.4677 - val_accuracy: 0.0237\n",
            "Epoch 44/200\n",
            "133/133 [==============================] - 6s 43ms/step - loss: 1.5287 - accuracy: 0.0251 - val_loss: 1.4639 - val_accuracy: 0.0272\n",
            "Epoch 45/200\n",
            "133/133 [==============================] - 6s 43ms/step - loss: 1.5286 - accuracy: 0.0251 - val_loss: 1.4653 - val_accuracy: 0.0272\n",
            "Epoch 46/200\n",
            "133/133 [==============================] - 6s 43ms/step - loss: 1.5290 - accuracy: 0.0249 - val_loss: 1.4623 - val_accuracy: 0.0237\n",
            "Epoch 47/200\n",
            "133/133 [==============================] - 6s 43ms/step - loss: 1.5286 - accuracy: 0.0243 - val_loss: 1.4642 - val_accuracy: 0.0237\n",
            "Epoch 48/200\n",
            "133/133 [==============================] - 6s 42ms/step - loss: 1.5292 - accuracy: 0.0247 - val_loss: 1.4641 - val_accuracy: 0.0237\n",
            "Epoch 49/200\n",
            "133/133 [==============================] - 6s 43ms/step - loss: 1.5290 - accuracy: 0.0250 - val_loss: 1.4671 - val_accuracy: 0.0237\n",
            "Epoch 50/200\n",
            "133/133 [==============================] - 6s 43ms/step - loss: 1.5291 - accuracy: 0.0253 - val_loss: 1.4618 - val_accuracy: 0.0272\n",
            "Epoch 51/200\n",
            "133/133 [==============================] - 6s 43ms/step - loss: 1.5291 - accuracy: 0.0252 - val_loss: 1.4695 - val_accuracy: 0.0237\n",
            "Epoch 52/200\n",
            "133/133 [==============================] - 6s 43ms/step - loss: 1.5293 - accuracy: 0.0250 - val_loss: 1.4640 - val_accuracy: 0.0272\n",
            "Epoch 53/200\n",
            "133/133 [==============================] - 6s 43ms/step - loss: 1.5296 - accuracy: 0.0251 - val_loss: 1.4653 - val_accuracy: 0.0272\n",
            "Epoch 54/200\n",
            "133/133 [==============================] - 6s 43ms/step - loss: 1.5295 - accuracy: 0.0252 - val_loss: 1.4629 - val_accuracy: 0.0237\n",
            "Epoch 55/200\n",
            "133/133 [==============================] - 6s 43ms/step - loss: 1.5294 - accuracy: 0.0255 - val_loss: 1.4666 - val_accuracy: 0.0272\n",
            "Epoch 56/200\n",
            "133/133 [==============================] - 6s 43ms/step - loss: 1.5295 - accuracy: 0.0253 - val_loss: 1.4599 - val_accuracy: 0.0272\n",
            "Epoch 57/200\n",
            "133/133 [==============================] - 6s 43ms/step - loss: 1.5294 - accuracy: 0.0257 - val_loss: 1.4652 - val_accuracy: 0.0272\n",
            "Epoch 58/200\n",
            "133/133 [==============================] - 6s 42ms/step - loss: 1.5302 - accuracy: 0.0254 - val_loss: 1.4626 - val_accuracy: 0.0237\n",
            "Epoch 59/200\n",
            "133/133 [==============================] - 6s 43ms/step - loss: 1.5298 - accuracy: 0.0253 - val_loss: 1.4690 - val_accuracy: 0.0272\n",
            "Epoch 60/200\n",
            "133/133 [==============================] - 6s 43ms/step - loss: 1.5302 - accuracy: 0.0255 - val_loss: 1.4614 - val_accuracy: 0.0272\n",
            "Epoch 61/200\n",
            "133/133 [==============================] - 6s 43ms/step - loss: 1.5296 - accuracy: 0.0251 - val_loss: 1.4655 - val_accuracy: 0.0237\n",
            "Epoch 62/200\n",
            "133/133 [==============================] - 6s 43ms/step - loss: 1.5298 - accuracy: 0.0253 - val_loss: 1.4693 - val_accuracy: 0.0272\n",
            "Epoch 63/200\n",
            "133/133 [==============================] - 6s 43ms/step - loss: 1.5298 - accuracy: 0.0256 - val_loss: 1.4610 - val_accuracy: 0.0272\n",
            "Epoch 64/200\n",
            "133/133 [==============================] - 6s 43ms/step - loss: 1.5288 - accuracy: 0.0258 - val_loss: 1.4687 - val_accuracy: 0.0272\n",
            "Epoch 65/200\n",
            "133/133 [==============================] - 6s 43ms/step - loss: 1.5301 - accuracy: 0.0258 - val_loss: 1.4603 - val_accuracy: 0.0278\n",
            "Epoch 66/200\n",
            "133/133 [==============================] - 6s 42ms/step - loss: 1.5295 - accuracy: 0.0257 - val_loss: 1.4608 - val_accuracy: 0.0272\n",
            "Epoch 67/200\n",
            "133/133 [==============================] - 6s 43ms/step - loss: 1.5293 - accuracy: 0.0258 - val_loss: 1.4622 - val_accuracy: 0.0272\n",
            "Epoch 68/200\n",
            "133/133 [==============================] - 6s 43ms/step - loss: 1.5296 - accuracy: 0.0253 - val_loss: 1.4613 - val_accuracy: 0.0272\n",
            "Epoch 69/200\n",
            "133/133 [==============================] - 6s 43ms/step - loss: 1.5291 - accuracy: 0.0260 - val_loss: 1.4638 - val_accuracy: 0.0272\n",
            "Epoch 70/200\n",
            "133/133 [==============================] - 6s 43ms/step - loss: 1.5292 - accuracy: 0.0259 - val_loss: 1.4644 - val_accuracy: 0.0272\n",
            "Epoch 71/200\n",
            "133/133 [==============================] - 6s 43ms/step - loss: 1.5294 - accuracy: 0.0262 - val_loss: 1.4653 - val_accuracy: 0.0272\n",
            "Epoch 72/200\n",
            "133/133 [==============================] - 6s 42ms/step - loss: 1.5296 - accuracy: 0.0261 - val_loss: 1.4647 - val_accuracy: 0.0272\n",
            "Epoch 73/200\n",
            "133/133 [==============================] - 6s 43ms/step - loss: 1.5296 - accuracy: 0.0257 - val_loss: 1.4657 - val_accuracy: 0.0272\n",
            "Epoch 74/200\n",
            "133/133 [==============================] - 6s 43ms/step - loss: 1.5292 - accuracy: 0.0260 - val_loss: 1.4656 - val_accuracy: 0.0272\n",
            "Epoch 75/200\n",
            "133/133 [==============================] - 6s 43ms/step - loss: 1.5295 - accuracy: 0.0261 - val_loss: 1.4682 - val_accuracy: 0.0272\n",
            "Epoch 76/200\n",
            "133/133 [==============================] - 6s 43ms/step - loss: 1.5293 - accuracy: 0.0261 - val_loss: 1.4688 - val_accuracy: 0.0272\n",
            "Epoch 77/200\n",
            "133/133 [==============================] - 6s 43ms/step - loss: 1.5297 - accuracy: 0.0262 - val_loss: 1.4685 - val_accuracy: 0.0272\n",
            "Epoch 78/200\n",
            "133/133 [==============================] - 6s 42ms/step - loss: 1.5296 - accuracy: 0.0261 - val_loss: 1.4663 - val_accuracy: 0.0272\n",
            "Epoch 79/200\n",
            "133/133 [==============================] - 6s 43ms/step - loss: 1.5295 - accuracy: 0.0262 - val_loss: 1.4663 - val_accuracy: 0.0272\n",
            "Epoch 80/200\n",
            "133/133 [==============================] - 6s 43ms/step - loss: 1.5297 - accuracy: 0.0261 - val_loss: 1.4625 - val_accuracy: 0.0272\n",
            "Epoch 81/200\n",
            "133/133 [==============================] - 6s 43ms/step - loss: 1.5295 - accuracy: 0.0262 - val_loss: 1.4632 - val_accuracy: 0.0272\n",
            "Epoch 82/200\n",
            "133/133 [==============================] - 6s 43ms/step - loss: 1.5291 - accuracy: 0.0261 - val_loss: 1.4656 - val_accuracy: 0.0272\n",
            "Epoch 83/200\n",
            "133/133 [==============================] - 6s 43ms/step - loss: 1.5296 - accuracy: 0.0262 - val_loss: 1.4578 - val_accuracy: 0.0272\n",
            "Epoch 84/200\n",
            "133/133 [==============================] - 6s 43ms/step - loss: 1.5291 - accuracy: 0.0261 - val_loss: 1.4709 - val_accuracy: 0.0272\n",
            "Epoch 85/200\n",
            "133/133 [==============================] - 6s 43ms/step - loss: 1.5293 - accuracy: 0.0256 - val_loss: 1.4679 - val_accuracy: 0.0272\n",
            "Epoch 86/200\n",
            "133/133 [==============================] - 6s 43ms/step - loss: 1.5291 - accuracy: 0.0252 - val_loss: 1.4674 - val_accuracy: 0.0272\n",
            "Epoch 87/200\n",
            "133/133 [==============================] - 6s 42ms/step - loss: 1.5292 - accuracy: 0.0262 - val_loss: 1.4659 - val_accuracy: 0.0272\n",
            "Epoch 88/200\n",
            "133/133 [==============================] - 6s 43ms/step - loss: 1.5297 - accuracy: 0.0255 - val_loss: 1.4637 - val_accuracy: 0.0272\n",
            "Epoch 89/200\n",
            "133/133 [==============================] - 6s 43ms/step - loss: 1.5298 - accuracy: 0.0262 - val_loss: 1.4658 - val_accuracy: 0.0272\n",
            "Epoch 90/200\n",
            "133/133 [==============================] - 6s 43ms/step - loss: 1.5299 - accuracy: 0.0262 - val_loss: 1.4686 - val_accuracy: 0.0272\n",
            "Epoch 91/200\n",
            "133/133 [==============================] - 6s 43ms/step - loss: 1.5299 - accuracy: 0.0262 - val_loss: 1.4608 - val_accuracy: 0.0272\n",
            "Epoch 92/200\n",
            "133/133 [==============================] - 6s 43ms/step - loss: 1.5300 - accuracy: 0.0261 - val_loss: 1.4716 - val_accuracy: 0.0272\n",
            "Epoch 93/200\n",
            "133/133 [==============================] - 6s 43ms/step - loss: 1.5303 - accuracy: 0.0262 - val_loss: 1.4658 - val_accuracy: 0.0272\n",
            "Epoch 94/200\n",
            "133/133 [==============================] - 6s 43ms/step - loss: 1.5304 - accuracy: 0.0254 - val_loss: 1.4696 - val_accuracy: 0.0272\n",
            "Epoch 95/200\n",
            "133/133 [==============================] - 6s 42ms/step - loss: 1.5301 - accuracy: 0.0254 - val_loss: 1.4656 - val_accuracy: 0.0272\n",
            "Epoch 96/200\n",
            "133/133 [==============================] - 6s 42ms/step - loss: 1.5299 - accuracy: 0.0255 - val_loss: 1.4666 - val_accuracy: 0.0272\n",
            "Epoch 97/200\n",
            "133/133 [==============================] - 6s 43ms/step - loss: 1.5307 - accuracy: 0.0260 - val_loss: 1.4651 - val_accuracy: 0.0272\n",
            "Epoch 98/200\n",
            "133/133 [==============================] - 6s 43ms/step - loss: 1.5297 - accuracy: 0.0260 - val_loss: 1.4627 - val_accuracy: 0.0237\n",
            "Epoch 99/200\n",
            "133/133 [==============================] - 6s 43ms/step - loss: 1.5299 - accuracy: 0.0256 - val_loss: 1.4693 - val_accuracy: 0.0272\n",
            "Epoch 100/200\n",
            "133/133 [==============================] - 6s 43ms/step - loss: 1.5294 - accuracy: 0.0256 - val_loss: 1.4642 - val_accuracy: 0.0272\n",
            "Epoch 101/200\n",
            "133/133 [==============================] - 6s 42ms/step - loss: 1.5298 - accuracy: 0.0262 - val_loss: 1.4687 - val_accuracy: 0.0272\n",
            "Epoch 102/200\n",
            "133/133 [==============================] - 6s 43ms/step - loss: 1.5300 - accuracy: 0.0261 - val_loss: 1.4652 - val_accuracy: 0.0272\n",
            "Epoch 103/200\n",
            "133/133 [==============================] - 6s 43ms/step - loss: 1.5293 - accuracy: 0.0262 - val_loss: 1.4724 - val_accuracy: 0.0272\n",
            "Epoch 104/200\n",
            "133/133 [==============================] - 6s 42ms/step - loss: 1.5293 - accuracy: 0.0260 - val_loss: 1.4651 - val_accuracy: 0.0272\n",
            "Epoch 105/200\n",
            "133/133 [==============================] - 6s 43ms/step - loss: 1.5293 - accuracy: 0.0262 - val_loss: 1.4695 - val_accuracy: 0.0272\n",
            "Epoch 106/200\n",
            "133/133 [==============================] - 6s 43ms/step - loss: 1.5297 - accuracy: 0.0262 - val_loss: 1.4671 - val_accuracy: 0.0272\n",
            "Epoch 107/200\n",
            "133/133 [==============================] - 6s 43ms/step - loss: 1.5294 - accuracy: 0.0261 - val_loss: 1.4629 - val_accuracy: 0.0272\n",
            "Epoch 108/200\n",
            "133/133 [==============================] - 6s 43ms/step - loss: 1.5292 - accuracy: 0.0262 - val_loss: 1.4659 - val_accuracy: 0.0272\n",
            "Epoch 109/200\n",
            "133/133 [==============================] - 6s 43ms/step - loss: 1.5295 - accuracy: 0.0262 - val_loss: 1.4637 - val_accuracy: 0.0272\n",
            "Epoch 110/200\n",
            "133/133 [==============================] - 6s 43ms/step - loss: 1.5312 - accuracy: 0.0250 - val_loss: 1.4718 - val_accuracy: 0.0272\n",
            "Epoch 111/200\n",
            "133/133 [==============================] - 6s 43ms/step - loss: 1.5341 - accuracy: 0.0250 - val_loss: 1.4700 - val_accuracy: 0.0272\n",
            "Epoch 112/200\n",
            "133/133 [==============================] - 6s 43ms/step - loss: 1.5333 - accuracy: 0.0250 - val_loss: 1.4778 - val_accuracy: 0.0272\n",
            "Epoch 113/200\n",
            "133/133 [==============================] - 6s 43ms/step - loss: 1.5337 - accuracy: 0.0252 - val_loss: 1.4754 - val_accuracy: 0.0270\n",
            "Epoch 114/200\n",
            "133/133 [==============================] - 6s 43ms/step - loss: 1.5329 - accuracy: 0.0259 - val_loss: 1.4676 - val_accuracy: 0.0271\n",
            "Epoch 115/200\n",
            "133/133 [==============================] - 6s 43ms/step - loss: 1.5328 - accuracy: 0.0257 - val_loss: 1.4705 - val_accuracy: 0.0271\n",
            "Epoch 116/200\n",
            "133/133 [==============================] - 6s 43ms/step - loss: 1.5324 - accuracy: 0.0257 - val_loss: 1.4779 - val_accuracy: 0.0271\n",
            "Epoch 117/200\n",
            "133/133 [==============================] - 6s 43ms/step - loss: 1.5323 - accuracy: 0.0260 - val_loss: 1.4663 - val_accuracy: 0.0271\n",
            "Epoch 118/200\n",
            "133/133 [==============================] - 6s 43ms/step - loss: 1.5316 - accuracy: 0.0248 - val_loss: 1.4719 - val_accuracy: 0.0271\n",
            "Epoch 119/200\n",
            "133/133 [==============================] - 6s 43ms/step - loss: 1.5312 - accuracy: 0.0250 - val_loss: 1.4680 - val_accuracy: 0.0271\n",
            "Epoch 120/200\n",
            "133/133 [==============================] - 6s 43ms/step - loss: 1.5310 - accuracy: 0.0255 - val_loss: 1.4739 - val_accuracy: 0.0271\n",
            "Epoch 121/200\n",
            "133/133 [==============================] - 6s 43ms/step - loss: 1.5303 - accuracy: 0.0254 - val_loss: 1.4725 - val_accuracy: 0.0271\n",
            "Epoch 122/200\n",
            "133/133 [==============================] - 6s 42ms/step - loss: 1.5302 - accuracy: 0.0262 - val_loss: 1.4720 - val_accuracy: 0.0271\n",
            "Epoch 123/200\n",
            "133/133 [==============================] - 6s 42ms/step - loss: 1.5299 - accuracy: 0.0260 - val_loss: 1.4646 - val_accuracy: 0.0271\n",
            "Epoch 124/200\n",
            "133/133 [==============================] - 6s 43ms/step - loss: 1.5294 - accuracy: 0.0250 - val_loss: 1.4682 - val_accuracy: 0.0271\n",
            "Epoch 125/200\n",
            "133/133 [==============================] - 6s 43ms/step - loss: 1.5291 - accuracy: 0.0254 - val_loss: 1.4686 - val_accuracy: 0.0271\n",
            "Epoch 126/200\n",
            "133/133 [==============================] - 6s 43ms/step - loss: 1.5293 - accuracy: 0.0246 - val_loss: 1.4668 - val_accuracy: 0.0271\n",
            "Epoch 127/200\n",
            "133/133 [==============================] - 6s 43ms/step - loss: 1.5287 - accuracy: 0.0262 - val_loss: 1.4689 - val_accuracy: 0.0271\n",
            "Epoch 128/200\n",
            "133/133 [==============================] - 6s 43ms/step - loss: 1.5292 - accuracy: 0.0262 - val_loss: 1.4622 - val_accuracy: 0.0278\n",
            "Epoch 129/200\n",
            "133/133 [==============================] - 6s 43ms/step - loss: 1.5283 - accuracy: 0.0262 - val_loss: 1.4719 - val_accuracy: 0.0271\n",
            "Epoch 130/200\n",
            "133/133 [==============================] - 6s 43ms/step - loss: 1.5281 - accuracy: 0.0262 - val_loss: 1.4704 - val_accuracy: 0.0271\n",
            "Epoch 131/200\n",
            "133/133 [==============================] - 6s 43ms/step - loss: 1.5281 - accuracy: 0.0262 - val_loss: 1.4679 - val_accuracy: 0.0271\n",
            "Epoch 132/200\n",
            "133/133 [==============================] - 6s 43ms/step - loss: 1.5277 - accuracy: 0.0255 - val_loss: 1.4635 - val_accuracy: 0.0271\n",
            "Epoch 133/200\n",
            "133/133 [==============================] - 6s 43ms/step - loss: 1.5270 - accuracy: 0.0262 - val_loss: 1.4730 - val_accuracy: 0.0271\n",
            "Epoch 134/200\n",
            "133/133 [==============================] - 6s 43ms/step - loss: 1.5271 - accuracy: 0.0262 - val_loss: 1.4673 - val_accuracy: 0.0271\n",
            "Epoch 137/200\n",
            "133/133 [==============================] - 6s 43ms/step - loss: 1.5268 - accuracy: 0.0262 - val_loss: 1.4651 - val_accuracy: 0.0271\n",
            "Epoch 138/200\n",
            "133/133 [==============================] - 6s 43ms/step - loss: 1.5270 - accuracy: 0.0260 - val_loss: 1.4627 - val_accuracy: 0.0271\n",
            "Epoch 139/200\n",
            "133/133 [==============================] - 6s 43ms/step - loss: 1.5266 - accuracy: 0.0258 - val_loss: 1.4657 - val_accuracy: 0.0271\n",
            "Epoch 140/200\n",
            "133/133 [==============================] - 6s 43ms/step - loss: 1.5266 - accuracy: 0.0259 - val_loss: 1.4657 - val_accuracy: 0.0271\n",
            "Epoch 141/200\n",
            "133/133 [==============================] - 6s 43ms/step - loss: 1.5262 - accuracy: 0.0262 - val_loss: 1.4582 - val_accuracy: 0.0271\n",
            "Epoch 142/200\n",
            "133/133 [==============================] - 6s 43ms/step - loss: 1.5260 - accuracy: 0.0262 - val_loss: 1.4647 - val_accuracy: 0.0271\n",
            "Epoch 143/200\n",
            "133/133 [==============================] - 6s 43ms/step - loss: 1.5256 - accuracy: 0.0262 - val_loss: 1.4649 - val_accuracy: 0.0271\n",
            "Epoch 144/200\n",
            "133/133 [==============================] - 6s 43ms/step - loss: 1.5258 - accuracy: 0.0262 - val_loss: 1.4657 - val_accuracy: 0.0271\n",
            "Epoch 145/200\n",
            "133/133 [==============================] - 6s 43ms/step - loss: 1.5257 - accuracy: 0.0262 - val_loss: 1.4688 - val_accuracy: 0.0271\n",
            "Epoch 146/200\n",
            "133/133 [==============================] - 6s 43ms/step - loss: 1.5255 - accuracy: 0.0261 - val_loss: 1.4689 - val_accuracy: 0.0271\n",
            "Epoch 147/200\n",
            "133/133 [==============================] - 6s 43ms/step - loss: 1.5253 - accuracy: 0.0262 - val_loss: 1.4623 - val_accuracy: 0.0271\n",
            "Epoch 148/200\n",
            "133/133 [==============================] - 6s 43ms/step - loss: 1.5251 - accuracy: 0.0257 - val_loss: 1.4664 - val_accuracy: 0.0271\n",
            "Epoch 149/200\n",
            "133/133 [==============================] - 6s 43ms/step - loss: 1.5251 - accuracy: 0.0261 - val_loss: 1.4704 - val_accuracy: 0.0271\n",
            "Epoch 150/200\n",
            "133/133 [==============================] - ETA: 0s - loss: 1.5255 - accuracy: 0.0263"
          ]
        }
      ]
    },
    {
      "cell_type": "code",
      "source": [
        ""
      ],
      "metadata": {
        "id": "1nuWZu6R33nj"
      },
      "execution_count": null,
      "outputs": []
    },
    {
      "cell_type": "code",
      "source": [
        ""
      ],
      "metadata": {
        "id": "jCBgeMq_33q5"
      },
      "execution_count": null,
      "outputs": []
    },
    {
      "cell_type": "code",
      "source": [
        ""
      ],
      "metadata": {
        "id": "eHePbQTo33uG"
      },
      "execution_count": null,
      "outputs": []
    },
    {
      "cell_type": "code",
      "source": [
        ""
      ],
      "metadata": {
        "id": "Ve08QHcq33x5"
      },
      "execution_count": null,
      "outputs": []
    }
  ]
}