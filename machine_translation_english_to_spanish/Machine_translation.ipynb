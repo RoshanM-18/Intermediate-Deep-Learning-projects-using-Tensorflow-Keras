{
  "nbformat": 4,
  "nbformat_minor": 0,
  "metadata": {
    "colab": {
      "name": "Machine translation",
      "provenance": [],
      "machine_shape": "hm",
      "authorship_tag": "ABX9TyMNCuYOW94wjX50AHpZI4vj",
      "include_colab_link": true
    },
    "kernelspec": {
      "name": "python3",
      "display_name": "Python 3"
    },
    "language_info": {
      "name": "python"
    },
    "accelerator": "GPU"
  },
  "cells": [
    {
      "cell_type": "markdown",
      "metadata": {
        "id": "view-in-github",
        "colab_type": "text"
      },
      "source": [
        "<a href=\"https://colab.research.google.com/github/RoshanM-18/Intermediate-Deep-Learning-projects-using-Tensorflow-Keras/blob/main/Machine_translation.ipynb\" target=\"_parent\"><img src=\"https://colab.research.google.com/assets/colab-badge.svg\" alt=\"Open In Colab\"/></a>"
      ]
    },
    {
      "cell_type": "markdown",
      "source": [
        "#### Importing all the required libraries and downloading the dataset from Kaggle"
      ],
      "metadata": {
        "id": "yL0EhK6QR5Bz"
      }
    },
    {
      "cell_type": "code",
      "execution_count": null,
      "metadata": {
        "id": "y9FG0skPRAll"
      },
      "outputs": [],
      "source": [
        "import pandas as pd\n",
        "import numpy as np\n",
        "import matplotlib.pyplot as plt\n",
        "import seaborn as sns\n",
        "\n",
        "import tensorflow as tf\n",
        "from tensorflow import keras\n",
        "\n",
        "import re\n",
        "import os\n",
        "import zipfile\n",
        "import shutil\n",
        "import sys\n",
        "import random\n",
        "import time\n",
        "import string\n",
        "import unicodedata"
      ]
    },
    {
      "cell_type": "code",
      "source": [
        "os.environ[\"KAGGLE_CONFIG_DIR\"] = \"/content\""
      ],
      "metadata": {
        "id": "vXPx2ToNRalM"
      },
      "execution_count": null,
      "outputs": []
    },
    {
      "cell_type": "code",
      "source": [
        "!chmod 600 \"/content/kaggle.json\""
      ],
      "metadata": {
        "id": "MmW78qMRRicq"
      },
      "execution_count": null,
      "outputs": []
    },
    {
      "cell_type": "code",
      "source": [
        "!kaggle datasets download -d lonnieqin/englishspanish-translation-dataset"
      ],
      "metadata": {
        "colab": {
          "base_uri": "https://localhost:8080/"
        },
        "id": "7jdb41_nRfz3",
        "outputId": "9f0605fe-b2a0-44b7-8ed1-a6b1ba5d32e6"
      },
      "execution_count": null,
      "outputs": [
        {
          "output_type": "stream",
          "name": "stdout",
          "text": [
            "englishspanish-translation-dataset.zip: Skipping, found more recently modified local copy (use --force to force download)\n"
          ]
        }
      ]
    },
    {
      "cell_type": "code",
      "source": [
        "zip_ref = zipfile.ZipFile(\"/content/englishspanish-translation-dataset.zip\")\n",
        "zip_ref.extractall()\n",
        "zip_ref.close()"
      ],
      "metadata": {
        "id": "oexACzTARgm8"
      },
      "execution_count": null,
      "outputs": []
    },
    {
      "cell_type": "markdown",
      "source": [
        "#### Sneak-peek on the dataset and preparing two different lists for English and Spanish sentences"
      ],
      "metadata": {
        "id": "5Oo_aL5jRt8w"
      }
    },
    {
      "cell_type": "code",
      "source": [
        "data_dir = \"/content/data.csv\""
      ],
      "metadata": {
        "id": "LX1_xcEGSJRM"
      },
      "execution_count": null,
      "outputs": []
    },
    {
      "cell_type": "code",
      "source": [
        "df = pd.read_csv(data_dir)\n",
        "df.info()"
      ],
      "metadata": {
        "colab": {
          "base_uri": "https://localhost:8080/"
        },
        "id": "hJps1Gz6SM4d",
        "outputId": "bb68820f-d240-46ae-9db5-798ee3617b54"
      },
      "execution_count": null,
      "outputs": [
        {
          "output_type": "stream",
          "name": "stdout",
          "text": [
            "<class 'pandas.core.frame.DataFrame'>\n",
            "RangeIndex: 118964 entries, 0 to 118963\n",
            "Data columns (total 2 columns):\n",
            " #   Column   Non-Null Count   Dtype \n",
            "---  ------   --------------   ----- \n",
            " 0   english  118964 non-null  object\n",
            " 1   spanish  118964 non-null  object\n",
            "dtypes: object(2)\n",
            "memory usage: 1.8+ MB\n"
          ]
        }
      ]
    },
    {
      "cell_type": "code",
      "source": [
        "df.head(10)"
      ],
      "metadata": {
        "colab": {
          "base_uri": "https://localhost:8080/"
        },
        "id": "4qJN_GnISSE6",
        "outputId": "d527c1a6-a6f5-469c-ea03-82bc65a439f3"
      },
      "execution_count": null,
      "outputs": [
        {
          "output_type": "execute_result",
          "data": {
            "text/plain": [
              "  english     spanish\n",
              "0     Go.         Ve.\n",
              "1     Go.       Vete.\n",
              "2     Go.       Vaya.\n",
              "3     Go.     Váyase.\n",
              "4     Hi.       Hola.\n",
              "5    Run!     ¡Corre!\n",
              "6    Run.     Corred.\n",
              "7    Who?     ¿Quién?\n",
              "8   Fire!     ¡Fuego!\n",
              "9   Fire!  ¡Incendio!"
            ],
            "text/html": [
              "<div>\n",
              "<style scoped>\n",
              "    .dataframe tbody tr th:only-of-type {\n",
              "        vertical-align: middle;\n",
              "    }\n",
              "\n",
              "    .dataframe tbody tr th {\n",
              "        vertical-align: top;\n",
              "    }\n",
              "\n",
              "    .dataframe thead th {\n",
              "        text-align: right;\n",
              "    }\n",
              "</style>\n",
              "<table border=\"1\" class=\"dataframe\">\n",
              "  <thead>\n",
              "    <tr style=\"text-align: right;\">\n",
              "      <th></th>\n",
              "      <th>english</th>\n",
              "      <th>spanish</th>\n",
              "    </tr>\n",
              "  </thead>\n",
              "  <tbody>\n",
              "    <tr>\n",
              "      <th>0</th>\n",
              "      <td>Go.</td>\n",
              "      <td>Ve.</td>\n",
              "    </tr>\n",
              "    <tr>\n",
              "      <th>1</th>\n",
              "      <td>Go.</td>\n",
              "      <td>Vete.</td>\n",
              "    </tr>\n",
              "    <tr>\n",
              "      <th>2</th>\n",
              "      <td>Go.</td>\n",
              "      <td>Vaya.</td>\n",
              "    </tr>\n",
              "    <tr>\n",
              "      <th>3</th>\n",
              "      <td>Go.</td>\n",
              "      <td>Váyase.</td>\n",
              "    </tr>\n",
              "    <tr>\n",
              "      <th>4</th>\n",
              "      <td>Hi.</td>\n",
              "      <td>Hola.</td>\n",
              "    </tr>\n",
              "    <tr>\n",
              "      <th>5</th>\n",
              "      <td>Run!</td>\n",
              "      <td>¡Corre!</td>\n",
              "    </tr>\n",
              "    <tr>\n",
              "      <th>6</th>\n",
              "      <td>Run.</td>\n",
              "      <td>Corred.</td>\n",
              "    </tr>\n",
              "    <tr>\n",
              "      <th>7</th>\n",
              "      <td>Who?</td>\n",
              "      <td>¿Quién?</td>\n",
              "    </tr>\n",
              "    <tr>\n",
              "      <th>8</th>\n",
              "      <td>Fire!</td>\n",
              "      <td>¡Fuego!</td>\n",
              "    </tr>\n",
              "    <tr>\n",
              "      <th>9</th>\n",
              "      <td>Fire!</td>\n",
              "      <td>¡Incendio!</td>\n",
              "    </tr>\n",
              "  </tbody>\n",
              "</table>\n",
              "</div>"
            ]
          },
          "metadata": {},
          "execution_count": 8
        }
      ]
    },
    {
      "cell_type": "code",
      "source": [
        "df.tail(10)"
      ],
      "metadata": {
        "colab": {
          "base_uri": "https://localhost:8080/"
        },
        "id": "rTrcf8crSTnV",
        "outputId": "6e90d215-f9de-4ba3-a0c9-3c14aa43293b"
      },
      "execution_count": null,
      "outputs": [
        {
          "output_type": "execute_result",
          "data": {
            "text/plain": [
              "                                                  english  \\\n",
              "118954  You can't view Flash content on an iPad. Howev...   \n",
              "118955  A mistake young people often make is to start ...   \n",
              "118956  No matter how much you try to convince people ...   \n",
              "118957  In 1969, Roger Miller recorded a song called \"...   \n",
              "118958  A child who is a native speaker usually knows ...   \n",
              "118959  There are four main causes of alcohol-related ...   \n",
              "118960  There are mothers and fathers who will lie awa...   \n",
              "118961  A carbon footprint is the amount of carbon dio...   \n",
              "118962  Since there are usually multiple websites on a...   \n",
              "118963  If you want to sound like a native speaker, yo...   \n",
              "\n",
              "                                                  spanish  \n",
              "118954  No puedes ver contenido en Flash en un iPad. S...  \n",
              "118955  Un error que cometen a menudo los jóvenes es e...  \n",
              "118956  No importa cuánto insistas en convencer a la g...  \n",
              "118957  En 1969, Roger Miller grabó una canción llamad...  \n",
              "118958  Un niño que es hablante nativo normalmente sab...  \n",
              "118959  Hay cuatro causas principales de muertes relac...  \n",
              "118960  Hay madres y padres que se quedan despiertos d...  \n",
              "118961  Una huella de carbono es la cantidad de contam...  \n",
              "118962  Como suele haber varias páginas web sobre cual...  \n",
              "118963  Si quieres sonar como un hablante nativo, debe...  "
            ],
            "text/html": [
              "<div>\n",
              "<style scoped>\n",
              "    .dataframe tbody tr th:only-of-type {\n",
              "        vertical-align: middle;\n",
              "    }\n",
              "\n",
              "    .dataframe tbody tr th {\n",
              "        vertical-align: top;\n",
              "    }\n",
              "\n",
              "    .dataframe thead th {\n",
              "        text-align: right;\n",
              "    }\n",
              "</style>\n",
              "<table border=\"1\" class=\"dataframe\">\n",
              "  <thead>\n",
              "    <tr style=\"text-align: right;\">\n",
              "      <th></th>\n",
              "      <th>english</th>\n",
              "      <th>spanish</th>\n",
              "    </tr>\n",
              "  </thead>\n",
              "  <tbody>\n",
              "    <tr>\n",
              "      <th>118954</th>\n",
              "      <td>You can't view Flash content on an iPad. Howev...</td>\n",
              "      <td>No puedes ver contenido en Flash en un iPad. S...</td>\n",
              "    </tr>\n",
              "    <tr>\n",
              "      <th>118955</th>\n",
              "      <td>A mistake young people often make is to start ...</td>\n",
              "      <td>Un error que cometen a menudo los jóvenes es e...</td>\n",
              "    </tr>\n",
              "    <tr>\n",
              "      <th>118956</th>\n",
              "      <td>No matter how much you try to convince people ...</td>\n",
              "      <td>No importa cuánto insistas en convencer a la g...</td>\n",
              "    </tr>\n",
              "    <tr>\n",
              "      <th>118957</th>\n",
              "      <td>In 1969, Roger Miller recorded a song called \"...</td>\n",
              "      <td>En 1969, Roger Miller grabó una canción llamad...</td>\n",
              "    </tr>\n",
              "    <tr>\n",
              "      <th>118958</th>\n",
              "      <td>A child who is a native speaker usually knows ...</td>\n",
              "      <td>Un niño que es hablante nativo normalmente sab...</td>\n",
              "    </tr>\n",
              "    <tr>\n",
              "      <th>118959</th>\n",
              "      <td>There are four main causes of alcohol-related ...</td>\n",
              "      <td>Hay cuatro causas principales de muertes relac...</td>\n",
              "    </tr>\n",
              "    <tr>\n",
              "      <th>118960</th>\n",
              "      <td>There are mothers and fathers who will lie awa...</td>\n",
              "      <td>Hay madres y padres que se quedan despiertos d...</td>\n",
              "    </tr>\n",
              "    <tr>\n",
              "      <th>118961</th>\n",
              "      <td>A carbon footprint is the amount of carbon dio...</td>\n",
              "      <td>Una huella de carbono es la cantidad de contam...</td>\n",
              "    </tr>\n",
              "    <tr>\n",
              "      <th>118962</th>\n",
              "      <td>Since there are usually multiple websites on a...</td>\n",
              "      <td>Como suele haber varias páginas web sobre cual...</td>\n",
              "    </tr>\n",
              "    <tr>\n",
              "      <th>118963</th>\n",
              "      <td>If you want to sound like a native speaker, yo...</td>\n",
              "      <td>Si quieres sonar como un hablante nativo, debe...</td>\n",
              "    </tr>\n",
              "  </tbody>\n",
              "</table>\n",
              "</div>"
            ]
          },
          "metadata": {},
          "execution_count": 9
        }
      ]
    },
    {
      "cell_type": "code",
      "source": [
        "english_sentences = df.english.tolist()\n",
        "spanish_sentences = df.spanish.tolist()"
      ],
      "metadata": {
        "id": "pe8bxIGwSZ2j"
      },
      "execution_count": null,
      "outputs": []
    },
    {
      "cell_type": "markdown",
      "source": [
        "#### Text preprocessing"
      ],
      "metadata": {
        "id": "mfF4g-o6TZhe"
      }
    },
    {
      "cell_type": "code",
      "source": [
        "def clean_text(lines):\n",
        "\n",
        "  cleaned = []\n",
        "  table = str.maketrans(\"\", \"\", string.punctuation)\n",
        "  for line in lines:\n",
        "    # normalize unicode characters\n",
        "    line = unicodedata.normalize(\"NFD\", line).encode(\"ascii\", \"ignore\")\n",
        "    line = line.decode(\"UTF-8\")\n",
        "    # splitting the line into individual words\n",
        "    line = line.split()\n",
        "    # lowercase all the words\n",
        "    line = [word.lower() for word in line]\n",
        "    # remove punctuations from every sentence\n",
        "    line = [word.translate(table) for word in line]\n",
        "    # remove alphanumeric words\n",
        "    line = [word for word in line if word.isalpha()]\n",
        "    line = \" \".join(line)\n",
        "    cleaned.append(line)\n",
        "\n",
        "  return cleaned"
      ],
      "metadata": {
        "id": "_IuT2JsDH7PT"
      },
      "execution_count": null,
      "outputs": []
    },
    {
      "cell_type": "code",
      "source": [
        "input_size = 5000\n",
        "\n",
        "random_sentences = random.sample(list(range(0, len(df))), input_size)\n",
        "english_input = [english_sentences[x] for x in random_sentences]\n",
        "spanish_input = [spanish_sentences[x] for x in random_sentences]"
      ],
      "metadata": {
        "id": "MWCwFLpxUkxw"
      },
      "execution_count": null,
      "outputs": []
    },
    {
      "cell_type": "code",
      "source": [
        "english_input = clean_text(english_input)\n",
        "spanish_input = clean_text(spanish_input)"
      ],
      "metadata": {
        "id": "8AUhlrNTKBxP"
      },
      "execution_count": null,
      "outputs": []
    },
    {
      "cell_type": "code",
      "source": [
        "english_input[0], spanish_input[0]"
      ],
      "metadata": {
        "colab": {
          "base_uri": "https://localhost:8080/"
        },
        "id": "qRRaXoxRKJ34",
        "outputId": "4c9bb202-b49e-44a9-e562-5b415670a9da"
      },
      "execution_count": null,
      "outputs": [
        {
          "output_type": "execute_result",
          "data": {
            "text/plain": [
              "('i think ill turn in now', 'creo que me voy a ir a la cama ahora mismo')"
            ]
          },
          "metadata": {},
          "execution_count": 14
        }
      ]
    },
    {
      "cell_type": "code",
      "source": [
        "modified_spanish_input = []\n",
        "\n",
        "for sentence in spanish_input:\n",
        "  sent = \"<START> \" + sentence + \" <END>\"\n",
        "  modified_spanish_input.append(sent)"
      ],
      "metadata": {
        "id": "3HOlt-B1aGW5"
      },
      "execution_count": null,
      "outputs": []
    },
    {
      "cell_type": "code",
      "source": [
        "len(english_input), len(modified_spanish_input)"
      ],
      "metadata": {
        "colab": {
          "base_uri": "https://localhost:8080/"
        },
        "id": "ykmFJRsnVRcg",
        "outputId": "a8c1022c-8439-4b0d-b9f3-5f68d91be82f"
      },
      "execution_count": null,
      "outputs": [
        {
          "output_type": "execute_result",
          "data": {
            "text/plain": [
              "(5000, 5000)"
            ]
          },
          "metadata": {},
          "execution_count": 16
        }
      ]
    },
    {
      "cell_type": "code",
      "source": [
        "english_input[0], modified_spanish_input[0]"
      ],
      "metadata": {
        "colab": {
          "base_uri": "https://localhost:8080/"
        },
        "id": "kqOp_KdYV0ym",
        "outputId": "1805d2a3-ad8b-43c8-9c84-ecf02e6ae601"
      },
      "execution_count": null,
      "outputs": [
        {
          "output_type": "execute_result",
          "data": {
            "text/plain": [
              "('i think ill turn in now',\n",
              " '<START> creo que me voy a ir a la cama ahora mismo <END>')"
            ]
          },
          "metadata": {},
          "execution_count": 17
        }
      ]
    },
    {
      "cell_type": "code",
      "source": [
        "english_words = []\n",
        "spanish_words = []\n",
        "\n",
        "for sentence in english_input:\n",
        "  for word in sentence.split():\n",
        "    if word not in english_words:\n",
        "      english_words.append(word)\n",
        "\n",
        "for sentence in modified_spanish_input:\n",
        "  for word in sentence.split():\n",
        "    if word not in spanish_words:\n",
        "      spanish_words.append(word)"
      ],
      "metadata": {
        "id": "2lOPTwSpSp9D"
      },
      "execution_count": null,
      "outputs": []
    },
    {
      "cell_type": "code",
      "source": [
        "len(english_words), len(spanish_words)"
      ],
      "metadata": {
        "colab": {
          "base_uri": "https://localhost:8080/"
        },
        "id": "M1Y8U_dvTv_v",
        "outputId": "b5a5fcb2-d77e-4c6f-d86e-6f81c029a7fe"
      },
      "execution_count": null,
      "outputs": [
        {
          "output_type": "execute_result",
          "data": {
            "text/plain": [
              "(3507, 4978)"
            ]
          },
          "metadata": {},
          "execution_count": 19
        }
      ]
    },
    {
      "cell_type": "code",
      "source": [
        "english_words.append(\"<PAD>\")\n",
        "spanish_words.append(\"<PAD>\")"
      ],
      "metadata": {
        "id": "R0PJ2wsrqHca"
      },
      "execution_count": null,
      "outputs": []
    },
    {
      "cell_type": "code",
      "source": [
        "# english_words = sorted(english_words)\n",
        "# spanish_words = sorted(spanish_words)"
      ],
      "metadata": {
        "id": "3lBDbCTmUard"
      },
      "execution_count": null,
      "outputs": []
    },
    {
      "cell_type": "code",
      "source": [
        "english_words[0], spanish_words[0]"
      ],
      "metadata": {
        "colab": {
          "base_uri": "https://localhost:8080/"
        },
        "id": "sA3z6XlWWs4T",
        "outputId": "7c1743f5-32b8-4e76-beb9-82077d89a0b8"
      },
      "execution_count": null,
      "outputs": [
        {
          "output_type": "execute_result",
          "data": {
            "text/plain": [
              "('i', '<START>')"
            ]
          },
          "metadata": {},
          "execution_count": 22
        }
      ]
    },
    {
      "cell_type": "code",
      "source": [
        "num_encoder_tokens = len(english_words)+1\n",
        "num_decoder_tokens = len(spanish_words)+1"
      ],
      "metadata": {
        "id": "8bEPgYH9WwA-"
      },
      "execution_count": null,
      "outputs": []
    },
    {
      "cell_type": "code",
      "source": [
        "max_encoder_sequence_length = max([len(sentence.split()) for sentence in english_input])\n",
        "max_decoder_sequence_length = max([len(sentence.split()) for sentence in modified_spanish_input])"
      ],
      "metadata": {
        "id": "1MEtbLjUWwpj"
      },
      "execution_count": null,
      "outputs": []
    },
    {
      "cell_type": "code",
      "source": [
        "max_encoder_sequence_length, max_decoder_sequence_length"
      ],
      "metadata": {
        "colab": {
          "base_uri": "https://localhost:8080/"
        },
        "id": "-7IfZ0RiWwtB",
        "outputId": "7ed2a8bb-7281-42cb-bbf8-ee78a289cc92"
      },
      "execution_count": null,
      "outputs": [
        {
          "output_type": "execute_result",
          "data": {
            "text/plain": [
              "(27, 28)"
            ]
          },
          "metadata": {},
          "execution_count": 25
        }
      ]
    },
    {
      "cell_type": "code",
      "source": [
        "english_vocab_dict = {}\n",
        "spanish_vocab_dict = {}\n",
        "\n",
        "eng_count = 1\n",
        "for word in english_words:\n",
        "  english_vocab_dict[word] = eng_count\n",
        "  eng_count += 1\n",
        "\n",
        "spa_count = 1\n",
        "for word in spanish_words:\n",
        "  spanish_vocab_dict[word] = spa_count\n",
        "  spa_count += 1"
      ],
      "metadata": {
        "id": "x6slDg-xWwwT"
      },
      "execution_count": null,
      "outputs": []
    },
    {
      "cell_type": "code",
      "source": [
        "len(english_vocab_dict), len(spanish_vocab_dict)"
      ],
      "metadata": {
        "id": "ag6jh3PEWwz0",
        "colab": {
          "base_uri": "https://localhost:8080/"
        },
        "outputId": "5cefd700-781b-46d8-9544-6afcb708daac"
      },
      "execution_count": null,
      "outputs": [
        {
          "output_type": "execute_result",
          "data": {
            "text/plain": [
              "(3508, 4979)"
            ]
          },
          "metadata": {},
          "execution_count": 27
        }
      ]
    },
    {
      "cell_type": "markdown",
      "source": [
        "#### Creating encoder-decoder sequence data"
      ],
      "metadata": {
        "id": "CXkMtAEmWw3C"
      }
    },
    {
      "cell_type": "code",
      "source": [
        "encoder_input_data = np.zeros(\n",
        "    (len(english_input), max_encoder_sequence_length, num_encoder_tokens), dtype=\"float32\"\n",
        ")"
      ],
      "metadata": {
        "id": "OnUocvtdWw6I"
      },
      "execution_count": null,
      "outputs": []
    },
    {
      "cell_type": "code",
      "source": [
        "decoder_input_data = np.zeros(\n",
        "    (len(modified_spanish_input), max_decoder_sequence_length, num_decoder_tokens), dtype=\"float32\"\n",
        ")"
      ],
      "metadata": {
        "id": "zSxUQWTBcJ1u"
      },
      "execution_count": null,
      "outputs": []
    },
    {
      "cell_type": "code",
      "source": [
        "decoder_output_data = np.zeros(\n",
        "    (len(modified_spanish_input), max_decoder_sequence_length, num_decoder_tokens), dtype=\"float32\"\n",
        ")"
      ],
      "metadata": {
        "id": "kWS4EmgMcJ5K"
      },
      "execution_count": null,
      "outputs": []
    },
    {
      "cell_type": "code",
      "source": [
        "for i, (input_text, target_text) in enumerate(zip(english_input, modified_spanish_input)):\n",
        "\n",
        "  for index, word in enumerate(input_text.split()):\n",
        "    encoder_input_data[i, index, english_vocab_dict[word]] = 1.0\n",
        "  encoder_input_data[i, index+1:, english_vocab_dict[\"<PAD>\"]] = 1.0\n",
        "\n",
        "  for index, word in enumerate(target_text.split()):\n",
        "    # decoder_target_data is ahead of decoder_input_data by one timestep\n",
        "    decoder_input_data[i, index, spanish_vocab_dict[word]] = 1.0\n",
        "    if index>0:\n",
        "      # decoder_target_data will be ahead by one timestep and will not include the <START> token\n",
        "      decoder_output_data[i, index-1, spanish_vocab_dict[word]] = 1.0\n",
        "  decoder_input_data[i, index+1:, spanish_vocab_dict[\"<PAD>\"]] = 1.0\n",
        "  decoder_output_data[i, index:, spanish_vocab_dict[\"<PAD>\"]] = 1.0 "
      ],
      "metadata": {
        "id": "cimxpAomcJ8X"
      },
      "execution_count": null,
      "outputs": []
    },
    {
      "cell_type": "code",
      "source": [
        "encoder_input_data[0]"
      ],
      "metadata": {
        "colab": {
          "base_uri": "https://localhost:8080/"
        },
        "id": "syuqx_h07eAa",
        "outputId": "3804cf87-e553-4650-b882-f13dcf0fe352"
      },
      "execution_count": null,
      "outputs": [
        {
          "output_type": "execute_result",
          "data": {
            "text/plain": [
              "array([[0., 1., 0., ..., 0., 0., 0.],\n",
              "       [0., 0., 1., ..., 0., 0., 0.],\n",
              "       [0., 0., 0., ..., 0., 0., 0.],\n",
              "       ...,\n",
              "       [0., 0., 0., ..., 0., 0., 1.],\n",
              "       [0., 0., 0., ..., 0., 0., 1.],\n",
              "       [0., 0., 0., ..., 0., 0., 1.]], dtype=float32)"
            ]
          },
          "metadata": {},
          "execution_count": 33
        }
      ]
    },
    {
      "cell_type": "code",
      "source": [
        "decoder_input_data[0]"
      ],
      "metadata": {
        "id": "7bI2BMU8s75E",
        "colab": {
          "base_uri": "https://localhost:8080/"
        },
        "outputId": "c50f7a64-d3b6-4305-eeb5-4713bc156a16"
      },
      "execution_count": null,
      "outputs": [
        {
          "output_type": "execute_result",
          "data": {
            "text/plain": [
              "array([[0., 1., 0., ..., 0., 0., 0.],\n",
              "       [0., 0., 1., ..., 0., 0., 0.],\n",
              "       [0., 0., 0., ..., 0., 0., 0.],\n",
              "       ...,\n",
              "       [0., 0., 0., ..., 0., 0., 1.],\n",
              "       [0., 0., 0., ..., 0., 0., 1.],\n",
              "       [0., 0., 0., ..., 0., 0., 1.]], dtype=float32)"
            ]
          },
          "metadata": {},
          "execution_count": 34
        }
      ]
    },
    {
      "cell_type": "code",
      "source": [
        "decoder_output_data[0]"
      ],
      "metadata": {
        "id": "xlTGfZJJ7FSx",
        "colab": {
          "base_uri": "https://localhost:8080/"
        },
        "outputId": "a1d7ec7e-d5b0-4a98-e075-6832f1fb9303"
      },
      "execution_count": null,
      "outputs": [
        {
          "output_type": "execute_result",
          "data": {
            "text/plain": [
              "array([[0., 0., 1., ..., 0., 0., 0.],\n",
              "       [0., 0., 0., ..., 0., 0., 0.],\n",
              "       [0., 0., 0., ..., 0., 0., 0.],\n",
              "       ...,\n",
              "       [0., 0., 0., ..., 0., 0., 1.],\n",
              "       [0., 0., 0., ..., 0., 0., 1.],\n",
              "       [0., 0., 0., ..., 0., 0., 1.]], dtype=float32)"
            ]
          },
          "metadata": {},
          "execution_count": 35
        }
      ]
    },
    {
      "cell_type": "code",
      "source": [
        "np.where(decoder_input_data[0][0]==1.0)"
      ],
      "metadata": {
        "id": "8fe4ZihV7F_o",
        "colab": {
          "base_uri": "https://localhost:8080/"
        },
        "outputId": "b5445438-1c67-4892-baec-58890b688d2d"
      },
      "execution_count": null,
      "outputs": [
        {
          "output_type": "execute_result",
          "data": {
            "text/plain": [
              "(array([1]),)"
            ]
          },
          "metadata": {},
          "execution_count": 36
        }
      ]
    },
    {
      "cell_type": "code",
      "source": [
        "np.where(decoder_input_data[0][1]==1.0)"
      ],
      "metadata": {
        "id": "g5_I89eZ7GDs",
        "colab": {
          "base_uri": "https://localhost:8080/"
        },
        "outputId": "f20ed8fc-09a8-4ebe-defd-8ec2c96559c5"
      },
      "execution_count": null,
      "outputs": [
        {
          "output_type": "execute_result",
          "data": {
            "text/plain": [
              "(array([2]),)"
            ]
          },
          "metadata": {},
          "execution_count": 37
        }
      ]
    },
    {
      "cell_type": "code",
      "source": [
        "np.where(decoder_output_data[0][0]==1.0)"
      ],
      "metadata": {
        "id": "zN7J9-kZ7GH7",
        "colab": {
          "base_uri": "https://localhost:8080/"
        },
        "outputId": "d3f96708-452a-4760-e106-486dc9c9e5bc"
      },
      "execution_count": null,
      "outputs": [
        {
          "output_type": "execute_result",
          "data": {
            "text/plain": [
              "(array([2]),)"
            ]
          },
          "metadata": {},
          "execution_count": 38
        }
      ]
    },
    {
      "cell_type": "code",
      "source": [
        "encoder_input_data.shape, decoder_input_data.shape"
      ],
      "metadata": {
        "colab": {
          "base_uri": "https://localhost:8080/"
        },
        "id": "c7p92hJXOK17",
        "outputId": "c0e91490-1627-4fac-e8d4-a1a2bd6284a1"
      },
      "execution_count": null,
      "outputs": [
        {
          "output_type": "execute_result",
          "data": {
            "text/plain": [
              "((5000, 32, 3623), (5000, 35, 5097))"
            ]
          },
          "metadata": {},
          "execution_count": 41
        }
      ]
    },
    {
      "cell_type": "code",
      "source": [
        "decoder_output_data.shape"
      ],
      "metadata": {
        "colab": {
          "base_uri": "https://localhost:8080/"
        },
        "id": "9PkOx_rpOKzE",
        "outputId": "0ceb5697-e914-4c01-b41d-e28232549128"
      },
      "execution_count": null,
      "outputs": [
        {
          "output_type": "execute_result",
          "data": {
            "text/plain": [
              "(5000, 35, 5097)"
            ]
          },
          "metadata": {},
          "execution_count": 42
        }
      ]
    },
    {
      "cell_type": "markdown",
      "source": [
        "#### Build a sequence to sequence model for neural language translation"
      ],
      "metadata": {
        "id": "OV6TIQpe7GMG"
      }
    },
    {
      "cell_type": "code",
      "source": [
        "encoder_inputs = keras.layers.Input(shape=(None, num_encoder_tokens))\n",
        "encoder_lstm = keras.layers.LSTM(256, return_state=True)\n",
        "encoder_outputs, state_h, state_c = encoder_lstm(encoder_inputs)\n",
        "encoder_states = [state_h, state_c]\n",
        "\n",
        "decoder_inputs = keras.layers.Input(shape=(None, num_decoder_tokens))\n",
        "decoder_lstm = keras.layers.LSTM(256, return_sequences=True, return_state=True)\n",
        "decoder_outputs, _, _ = decoder_lstm(decoder_inputs, initial_state=encoder_states)\n",
        "decoder_dense = keras.layers.Dense(num_decoder_tokens, activation=\"softmax\")\n",
        "decoder_outputs = decoder_dense(decoder_outputs)\n",
        "\n",
        "model = keras.Model(inputs=[encoder_inputs, decoder_inputs], outputs=decoder_outputs)\n",
        "\n",
        "model.compile(loss=keras.losses.CategoricalCrossentropy(), optimizer=keras.optimizers.Adam(), \n",
        "              metrics=[\"accuracy\"])"
      ],
      "metadata": {
        "id": "NwRnN4C07GQL"
      },
      "execution_count": null,
      "outputs": []
    },
    {
      "cell_type": "code",
      "source": [
        "history = model.fit([encoder_input_data, decoder_input_data], decoder_output_data,\n",
        "                    epochs=100, batch_size=32, validation_split=0.15)"
      ],
      "metadata": {
        "id": "bLEME6lh7GTp",
        "colab": {
          "base_uri": "https://localhost:8080/"
        },
        "outputId": "381d90be-dec8-4b9a-d69d-9067e6c94841"
      },
      "execution_count": null,
      "outputs": [
        {
          "output_type": "stream",
          "name": "stdout",
          "text": [
            "Epoch 1/100\n",
            "133/133 [==============================] - 15s 57ms/step - loss: 2.3204 - accuracy: 0.7460 - val_loss: 1.7431 - val_accuracy: 0.7469\n",
            "Epoch 2/100\n",
            "133/133 [==============================] - 6s 45ms/step - loss: 1.6365 - accuracy: 0.7586 - val_loss: 1.6835 - val_accuracy: 0.7559\n",
            "Epoch 3/100\n",
            "133/133 [==============================] - 6s 45ms/step - loss: 1.5267 - accuracy: 0.7711 - val_loss: 1.6150 - val_accuracy: 0.7596\n",
            "Epoch 4/100\n",
            "133/133 [==============================] - 6s 45ms/step - loss: 1.4666 - accuracy: 0.7855 - val_loss: 1.5562 - val_accuracy: 0.7821\n",
            "Epoch 5/100\n",
            "133/133 [==============================] - 6s 45ms/step - loss: 1.4185 - accuracy: 0.7913 - val_loss: 1.5356 - val_accuracy: 0.7842\n",
            "Epoch 6/100\n",
            "133/133 [==============================] - 6s 45ms/step - loss: 1.3782 - accuracy: 0.7944 - val_loss: 1.5155 - val_accuracy: 0.7859\n",
            "Epoch 7/100\n",
            "133/133 [==============================] - 6s 45ms/step - loss: 1.3452 - accuracy: 0.7975 - val_loss: 1.4984 - val_accuracy: 0.7897\n",
            "Epoch 8/100\n",
            "133/133 [==============================] - 6s 45ms/step - loss: 1.3119 - accuracy: 0.8001 - val_loss: 1.4833 - val_accuracy: 0.7920\n",
            "Epoch 9/100\n",
            "133/133 [==============================] - 6s 45ms/step - loss: 1.2740 - accuracy: 0.8041 - val_loss: 1.4512 - val_accuracy: 0.7972\n",
            "Epoch 10/100\n",
            "133/133 [==============================] - 6s 45ms/step - loss: 1.2259 - accuracy: 0.8096 - val_loss: 1.4338 - val_accuracy: 0.7998\n",
            "Epoch 11/100\n",
            "133/133 [==============================] - 6s 45ms/step - loss: 1.2032 - accuracy: 0.8106 - val_loss: 1.4260 - val_accuracy: 0.8014\n",
            "Epoch 12/100\n",
            "133/133 [==============================] - 6s 45ms/step - loss: 1.1539 - accuracy: 0.8162 - val_loss: 1.4082 - val_accuracy: 0.8026\n",
            "Epoch 13/100\n",
            "133/133 [==============================] - 6s 45ms/step - loss: 1.1012 - accuracy: 0.8201 - val_loss: 1.3935 - val_accuracy: 0.8038\n",
            "Epoch 14/100\n",
            "133/133 [==============================] - 6s 45ms/step - loss: 1.0567 - accuracy: 0.8237 - val_loss: 1.3852 - val_accuracy: 0.8064\n",
            "Epoch 15/100\n",
            "133/133 [==============================] - 6s 45ms/step - loss: 1.0123 - accuracy: 0.8266 - val_loss: 1.3806 - val_accuracy: 0.8070\n",
            "Epoch 16/100\n",
            "133/133 [==============================] - 6s 45ms/step - loss: 0.9684 - accuracy: 0.8303 - val_loss: 1.3757 - val_accuracy: 0.8081\n",
            "Epoch 17/100\n",
            "133/133 [==============================] - 6s 45ms/step - loss: 0.9211 - accuracy: 0.8339 - val_loss: 1.3632 - val_accuracy: 0.8096\n",
            "Epoch 18/100\n",
            "133/133 [==============================] - 6s 45ms/step - loss: 0.8742 - accuracy: 0.8380 - val_loss: 1.3735 - val_accuracy: 0.8117\n",
            "Epoch 19/100\n",
            "133/133 [==============================] - 6s 45ms/step - loss: 0.8281 - accuracy: 0.8423 - val_loss: 1.3659 - val_accuracy: 0.8131\n",
            "Epoch 20/100\n",
            "133/133 [==============================] - 6s 45ms/step - loss: 0.7783 - accuracy: 0.8475 - val_loss: 1.3662 - val_accuracy: 0.8135\n",
            "Epoch 21/100\n",
            "133/133 [==============================] - 6s 45ms/step - loss: 0.7319 - accuracy: 0.8533 - val_loss: 1.3710 - val_accuracy: 0.8144\n",
            "Epoch 22/100\n",
            "133/133 [==============================] - 6s 45ms/step - loss: 0.6841 - accuracy: 0.8592 - val_loss: 1.3667 - val_accuracy: 0.8153\n",
            "Epoch 23/100\n",
            "133/133 [==============================] - 6s 45ms/step - loss: 0.6352 - accuracy: 0.8658 - val_loss: 1.3733 - val_accuracy: 0.8162\n",
            "Epoch 24/100\n",
            "133/133 [==============================] - 6s 45ms/step - loss: 0.5894 - accuracy: 0.8740 - val_loss: 1.3811 - val_accuracy: 0.8154\n",
            "Epoch 25/100\n",
            "133/133 [==============================] - 6s 46ms/step - loss: 0.5441 - accuracy: 0.8830 - val_loss: 1.3808 - val_accuracy: 0.8169\n",
            "Epoch 26/100\n",
            "133/133 [==============================] - 6s 45ms/step - loss: 0.5010 - accuracy: 0.8921 - val_loss: 1.3905 - val_accuracy: 0.8162\n",
            "Epoch 27/100\n",
            "133/133 [==============================] - 6s 45ms/step - loss: 0.4569 - accuracy: 0.9026 - val_loss: 1.3999 - val_accuracy: 0.8185\n",
            "Epoch 28/100\n",
            "133/133 [==============================] - 6s 45ms/step - loss: 0.4154 - accuracy: 0.9130 - val_loss: 1.4194 - val_accuracy: 0.8180\n",
            "Epoch 29/100\n",
            "133/133 [==============================] - 6s 45ms/step - loss: 0.3744 - accuracy: 0.9228 - val_loss: 1.4214 - val_accuracy: 0.8168\n",
            "Epoch 30/100\n",
            "133/133 [==============================] - 6s 45ms/step - loss: 0.3368 - accuracy: 0.9321 - val_loss: 1.4322 - val_accuracy: 0.8175\n",
            "Epoch 31/100\n",
            "133/133 [==============================] - 6s 45ms/step - loss: 0.3013 - accuracy: 0.9406 - val_loss: 1.4351 - val_accuracy: 0.8188\n",
            "Epoch 32/100\n",
            "133/133 [==============================] - 6s 45ms/step - loss: 0.2680 - accuracy: 0.9497 - val_loss: 1.4549 - val_accuracy: 0.8193\n",
            "Epoch 33/100\n",
            "133/133 [==============================] - 6s 45ms/step - loss: 0.2385 - accuracy: 0.9564 - val_loss: 1.4572 - val_accuracy: 0.8171\n",
            "Epoch 34/100\n",
            "133/133 [==============================] - 6s 45ms/step - loss: 0.2100 - accuracy: 0.9634 - val_loss: 1.4777 - val_accuracy: 0.8182\n",
            "Epoch 35/100\n",
            "133/133 [==============================] - 6s 45ms/step - loss: 0.1860 - accuracy: 0.9688 - val_loss: 1.4861 - val_accuracy: 0.8194\n",
            "Epoch 36/100\n",
            "133/133 [==============================] - 6s 45ms/step - loss: 0.1625 - accuracy: 0.9753 - val_loss: 1.5037 - val_accuracy: 0.8189\n",
            "Epoch 37/100\n",
            "133/133 [==============================] - 6s 45ms/step - loss: 0.1422 - accuracy: 0.9799 - val_loss: 1.5219 - val_accuracy: 0.8193\n",
            "Epoch 38/100\n",
            "133/133 [==============================] - 6s 45ms/step - loss: 0.1231 - accuracy: 0.9840 - val_loss: 1.5332 - val_accuracy: 0.8178\n",
            "Epoch 39/100\n",
            "133/133 [==============================] - 6s 46ms/step - loss: 0.1084 - accuracy: 0.9871 - val_loss: 1.5503 - val_accuracy: 0.8179\n",
            "Epoch 40/100\n",
            "133/133 [==============================] - 6s 46ms/step - loss: 0.0946 - accuracy: 0.9895 - val_loss: 1.5573 - val_accuracy: 0.8179\n",
            "Epoch 41/100\n",
            "133/133 [==============================] - 6s 45ms/step - loss: 0.0830 - accuracy: 0.9915 - val_loss: 1.5773 - val_accuracy: 0.8178\n",
            "Epoch 42/100\n",
            "133/133 [==============================] - 6s 46ms/step - loss: 0.0728 - accuracy: 0.9935 - val_loss: 1.5865 - val_accuracy: 0.8192\n",
            "Epoch 43/100\n",
            "133/133 [==============================] - 6s 45ms/step - loss: 0.0628 - accuracy: 0.9948 - val_loss: 1.5870 - val_accuracy: 0.8182\n",
            "Epoch 44/100\n",
            "133/133 [==============================] - 6s 46ms/step - loss: 0.0530 - accuracy: 0.9961 - val_loss: 1.6057 - val_accuracy: 0.8188\n",
            "Epoch 45/100\n",
            "133/133 [==============================] - 6s 45ms/step - loss: 0.0453 - accuracy: 0.9974 - val_loss: 1.6112 - val_accuracy: 0.8166\n",
            "Epoch 46/100\n",
            "133/133 [==============================] - 6s 45ms/step - loss: 0.0388 - accuracy: 0.9981 - val_loss: 1.6308 - val_accuracy: 0.8182\n",
            "Epoch 47/100\n",
            "133/133 [==============================] - 6s 45ms/step - loss: 0.0337 - accuracy: 0.9985 - val_loss: 1.6445 - val_accuracy: 0.8190\n",
            "Epoch 48/100\n",
            "133/133 [==============================] - 6s 45ms/step - loss: 0.0297 - accuracy: 0.9987 - val_loss: 1.6631 - val_accuracy: 0.8192\n",
            "Epoch 49/100\n",
            "133/133 [==============================] - 6s 45ms/step - loss: 0.0254 - accuracy: 0.9991 - val_loss: 1.6753 - val_accuracy: 0.8200\n",
            "Epoch 50/100\n",
            "133/133 [==============================] - 6s 46ms/step - loss: 0.0220 - accuracy: 0.9992 - val_loss: 1.6838 - val_accuracy: 0.8191\n",
            "Epoch 51/100\n",
            "133/133 [==============================] - 6s 45ms/step - loss: 0.0192 - accuracy: 0.9993 - val_loss: 1.6991 - val_accuracy: 0.8187\n",
            "Epoch 52/100\n",
            "133/133 [==============================] - 6s 45ms/step - loss: 0.0173 - accuracy: 0.9994 - val_loss: 1.6998 - val_accuracy: 0.8180\n",
            "Epoch 53/100\n",
            "133/133 [==============================] - 6s 45ms/step - loss: 0.0158 - accuracy: 0.9994 - val_loss: 1.7147 - val_accuracy: 0.8196\n",
            "Epoch 54/100\n",
            "133/133 [==============================] - 6s 46ms/step - loss: 0.0138 - accuracy: 0.9995 - val_loss: 1.7211 - val_accuracy: 0.8194\n",
            "Epoch 55/100\n",
            "133/133 [==============================] - 6s 45ms/step - loss: 0.0135 - accuracy: 0.9995 - val_loss: 1.7380 - val_accuracy: 0.8202\n",
            "Epoch 56/100\n",
            "133/133 [==============================] - 6s 46ms/step - loss: 0.0163 - accuracy: 0.9991 - val_loss: 1.7182 - val_accuracy: 0.8166\n",
            "Epoch 57/100\n",
            "133/133 [==============================] - 6s 46ms/step - loss: 0.0854 - accuracy: 0.9829 - val_loss: 1.6958 - val_accuracy: 0.8137\n",
            "Epoch 58/100\n",
            "133/133 [==============================] - 6s 46ms/step - loss: 0.0802 - accuracy: 0.9850 - val_loss: 1.6819 - val_accuracy: 0.8187\n",
            "Epoch 59/100\n",
            "133/133 [==============================] - 6s 46ms/step - loss: 0.0310 - accuracy: 0.9967 - val_loss: 1.6938 - val_accuracy: 0.8201\n",
            "Epoch 60/100\n",
            "133/133 [==============================] - 6s 46ms/step - loss: 0.0142 - accuracy: 0.9992 - val_loss: 1.7142 - val_accuracy: 0.8209\n",
            "Epoch 61/100\n",
            "133/133 [==============================] - 6s 46ms/step - loss: 0.0089 - accuracy: 0.9995 - val_loss: 1.7302 - val_accuracy: 0.8212\n",
            "Epoch 62/100\n",
            "133/133 [==============================] - 6s 46ms/step - loss: 0.0071 - accuracy: 0.9995 - val_loss: 1.7491 - val_accuracy: 0.8211\n",
            "Epoch 63/100\n",
            "133/133 [==============================] - 6s 45ms/step - loss: 0.0062 - accuracy: 0.9996 - val_loss: 1.7595 - val_accuracy: 0.8208\n",
            "Epoch 64/100\n",
            "133/133 [==============================] - 6s 45ms/step - loss: 0.0057 - accuracy: 0.9996 - val_loss: 1.7632 - val_accuracy: 0.8214\n",
            "Epoch 65/100\n",
            "133/133 [==============================] - 6s 45ms/step - loss: 0.0052 - accuracy: 0.9995 - val_loss: 1.7715 - val_accuracy: 0.8208\n",
            "Epoch 66/100\n",
            "133/133 [==============================] - 6s 45ms/step - loss: 0.0048 - accuracy: 0.9996 - val_loss: 1.7823 - val_accuracy: 0.8210\n",
            "Epoch 67/100\n",
            "133/133 [==============================] - 6s 45ms/step - loss: 0.0046 - accuracy: 0.9995 - val_loss: 1.7929 - val_accuracy: 0.8207\n",
            "Epoch 68/100\n",
            "133/133 [==============================] - 6s 46ms/step - loss: 0.0044 - accuracy: 0.9996 - val_loss: 1.7989 - val_accuracy: 0.8208\n",
            "Epoch 69/100\n",
            "133/133 [==============================] - 6s 46ms/step - loss: 0.0040 - accuracy: 0.9996 - val_loss: 1.8095 - val_accuracy: 0.8203\n",
            "Epoch 70/100\n",
            "133/133 [==============================] - 6s 46ms/step - loss: 0.0038 - accuracy: 0.9996 - val_loss: 1.8153 - val_accuracy: 0.8206\n",
            "Epoch 71/100\n",
            "133/133 [==============================] - 6s 45ms/step - loss: 0.0036 - accuracy: 0.9996 - val_loss: 1.8228 - val_accuracy: 0.8207\n",
            "Epoch 72/100\n",
            "133/133 [==============================] - 6s 46ms/step - loss: 0.0035 - accuracy: 0.9996 - val_loss: 1.8279 - val_accuracy: 0.8202\n",
            "Epoch 73/100\n",
            "133/133 [==============================] - 6s 46ms/step - loss: 0.0034 - accuracy: 0.9996 - val_loss: 1.8323 - val_accuracy: 0.8204\n",
            "Epoch 74/100\n",
            "133/133 [==============================] - 6s 45ms/step - loss: 0.0032 - accuracy: 0.9996 - val_loss: 1.8449 - val_accuracy: 0.8202\n",
            "Epoch 75/100\n",
            "133/133 [==============================] - 6s 46ms/step - loss: 0.0031 - accuracy: 0.9996 - val_loss: 1.8443 - val_accuracy: 0.8201\n",
            "Epoch 76/100\n",
            "133/133 [==============================] - 6s 46ms/step - loss: 0.0030 - accuracy: 0.9996 - val_loss: 1.8534 - val_accuracy: 0.8209\n",
            "Epoch 77/100\n",
            "133/133 [==============================] - 6s 46ms/step - loss: 0.0028 - accuracy: 0.9996 - val_loss: 1.8591 - val_accuracy: 0.8209\n",
            "Epoch 78/100\n",
            "133/133 [==============================] - 6s 46ms/step - loss: 0.0028 - accuracy: 0.9996 - val_loss: 1.8658 - val_accuracy: 0.8206\n",
            "Epoch 79/100\n",
            "133/133 [==============================] - 6s 45ms/step - loss: 0.0307 - accuracy: 0.9925 - val_loss: 1.7881 - val_accuracy: 0.8079\n",
            "Epoch 80/100\n",
            "133/133 [==============================] - 6s 45ms/step - loss: 0.1457 - accuracy: 0.9637 - val_loss: 1.7064 - val_accuracy: 0.8159\n",
            "Epoch 81/100\n",
            "133/133 [==============================] - 6s 46ms/step - loss: 0.0365 - accuracy: 0.9932 - val_loss: 1.7432 - val_accuracy: 0.8207\n",
            "Epoch 82/100\n",
            "133/133 [==============================] - 6s 45ms/step - loss: 0.0110 - accuracy: 0.9990 - val_loss: 1.7495 - val_accuracy: 0.8209\n",
            "Epoch 83/100\n",
            "133/133 [==============================] - 6s 45ms/step - loss: 0.0052 - accuracy: 0.9996 - val_loss: 1.7829 - val_accuracy: 0.8225\n",
            "Epoch 84/100\n",
            "133/133 [==============================] - 6s 45ms/step - loss: 0.0038 - accuracy: 0.9996 - val_loss: 1.7981 - val_accuracy: 0.8224\n",
            "Epoch 85/100\n",
            "133/133 [==============================] - 6s 46ms/step - loss: 0.0034 - accuracy: 0.9995 - val_loss: 1.8058 - val_accuracy: 0.8232\n",
            "Epoch 86/100\n",
            "133/133 [==============================] - 6s 46ms/step - loss: 0.0031 - accuracy: 0.9996 - val_loss: 1.8140 - val_accuracy: 0.8225\n",
            "Epoch 87/100\n",
            "133/133 [==============================] - 6s 45ms/step - loss: 0.0029 - accuracy: 0.9995 - val_loss: 1.8227 - val_accuracy: 0.8228\n",
            "Epoch 88/100\n",
            "133/133 [==============================] - 6s 46ms/step - loss: 0.0026 - accuracy: 0.9996 - val_loss: 1.8322 - val_accuracy: 0.8231\n",
            "Epoch 89/100\n",
            "133/133 [==============================] - 6s 46ms/step - loss: 0.0025 - accuracy: 0.9996 - val_loss: 1.8376 - val_accuracy: 0.8229\n",
            "Epoch 90/100\n",
            "133/133 [==============================] - 6s 46ms/step - loss: 0.0024 - accuracy: 0.9996 - val_loss: 1.8441 - val_accuracy: 0.8223\n",
            "Epoch 91/100\n",
            "133/133 [==============================] - 6s 45ms/step - loss: 0.0023 - accuracy: 0.9996 - val_loss: 1.8506 - val_accuracy: 0.8225\n",
            "Epoch 92/100\n",
            "133/133 [==============================] - 6s 45ms/step - loss: 0.0022 - accuracy: 0.9996 - val_loss: 1.8528 - val_accuracy: 0.8227\n",
            "Epoch 93/100\n",
            "133/133 [==============================] - 6s 46ms/step - loss: 0.0021 - accuracy: 0.9996 - val_loss: 1.8604 - val_accuracy: 0.8225\n",
            "Epoch 94/100\n",
            "133/133 [==============================] - 6s 46ms/step - loss: 0.0021 - accuracy: 0.9996 - val_loss: 1.8700 - val_accuracy: 0.8226\n",
            "Epoch 95/100\n",
            "133/133 [==============================] - 6s 45ms/step - loss: 0.0019 - accuracy: 0.9996 - val_loss: 1.8707 - val_accuracy: 0.8226\n",
            "Epoch 96/100\n",
            "133/133 [==============================] - 6s 46ms/step - loss: 0.0019 - accuracy: 0.9996 - val_loss: 1.8799 - val_accuracy: 0.8226\n",
            "Epoch 97/100\n",
            "133/133 [==============================] - 6s 45ms/step - loss: 0.0019 - accuracy: 0.9996 - val_loss: 1.8861 - val_accuracy: 0.8230\n",
            "Epoch 98/100\n",
            "133/133 [==============================] - 6s 46ms/step - loss: 0.0019 - accuracy: 0.9996 - val_loss: 1.8880 - val_accuracy: 0.8225\n",
            "Epoch 99/100\n",
            "133/133 [==============================] - 6s 45ms/step - loss: 0.0018 - accuracy: 0.9996 - val_loss: 1.8989 - val_accuracy: 0.8221\n",
            "Epoch 100/100\n",
            "133/133 [==============================] - 6s 45ms/step - loss: 0.0018 - accuracy: 0.9996 - val_loss: 1.9024 - val_accuracy: 0.8221\n"
          ]
        }
      ]
    },
    {
      "cell_type": "code",
      "source": [
        "tf.keras.utils.plot_model(model, show_shapes=True)"
      ],
      "metadata": {
        "colab": {
          "base_uri": "https://localhost:8080/",
          "height": 401
        },
        "id": "zfn1VSCxNj7R",
        "outputId": "1e3735e2-cfa0-4e16-d01f-ac687890c3f0"
      },
      "execution_count": null,
      "outputs": [
        {
          "output_type": "execute_result",
          "data": {
            "text/plain": [
              "<IPython.core.display.Image object>"
            ],
            "image/png": "[encoded data removed]"
          },
          "metadata": {},
          "execution_count": 39
        }
      ]
    },
    {
      "cell_type": "code",
      "source": [
        "pd.DataFrame(history.history)[[\"accuracy\", \"val_accuracy\"]].plot()"
      ],
      "metadata": {
        "colab": {
          "base_uri": "https://localhost:8080/",
          "height": 282
        },
        "id": "iTVrYl6WSxL3",
        "outputId": "61e309b8-5f6e-4437-c35c-e2460bd5b202"
      },
      "execution_count": null,
      "outputs": [
        {
          "output_type": "execute_result",
          "data": {
            "text/plain": [
              "<matplotlib.axes._subplots.AxesSubplot at 0x7ff0b96db410>"
            ]
          },
          "metadata": {},
          "execution_count": 40
        },
        {
          "output_type": "display_data",
          "data": {
            "text/plain": [
              "<Figure size 432x288 with 1 Axes>"
            ],
            "image/png": "[encoded data removed]"
          },
          "metadata": {
            "needs_background": "light"
          }
        }
      ]
    },
    {
      "cell_type": "code",
      "source": [
        "pd.DataFrame(history.history)[[\"loss\", \"val_loss\"]].plot()"
      ],
      "metadata": {
        "id": "4PYtPHmQS8G6",
        "colab": {
          "base_uri": "https://localhost:8080/",
          "height": 282
        },
        "outputId": "73107ed2-20f3-4d67-b04d-a8fbc1479608"
      },
      "execution_count": null,
      "outputs": [
        {
          "output_type": "execute_result",
          "data": {
            "text/plain": [
              "<matplotlib.axes._subplots.AxesSubplot at 0x7ff130428a10>"
            ]
          },
          "metadata": {},
          "execution_count": 41
        },
        {
          "output_type": "display_data",
          "data": {
            "text/plain": [
              "<Figure size 432x288 with 1 Axes>"
            ],
            "image/png": "[encoded data removed]"
          },
          "metadata": {
            "needs_background": "light"
          }
        }
      ]
    },
    {
      "cell_type": "markdown",
      "source": [
        "#### Inference mode "
      ],
      "metadata": {
        "id": "tugqOjxDNj--"
      }
    },
    {
      "cell_type": "code",
      "source": [
        "inverse_english_vocab = {y:x for x,y in english_vocab_dict.items()}\n",
        "inverse_spanish_vocab = {y:x for x,y in spanish_vocab_dict.items()}"
      ],
      "metadata": {
        "id": "7VCsIN2td6lf"
      },
      "execution_count": null,
      "outputs": []
    },
    {
      "cell_type": "markdown",
      "source": [
        "##### Inference mode TAKE-1"
      ],
      "metadata": {
        "id": "abUw8aJ8cLtB"
      }
    },
    {
      "cell_type": "code",
      "source": [
        "encoder_inputs = model.input[0] # input_1\n",
        "encoder_outputs, state_h_encoder, state_c_encoder = model.layers[2].output\n",
        "encoder_states = [state_h_encoder, state_c_encoder]\n",
        "encoder_model = keras.Model(encoder_inputs, encoder_states)\n",
        "\n",
        "decoder_inputs = model.input[1] # input_2\n",
        "decoder_state_input_h = keras.layers.Input(shape=(256,))\n",
        "decoder_state_input_c = keras.layers.Input(shape=(256,))\n",
        "decoder_state_inputs = [decoder_state_input_h, decoder_state_input_c]\n",
        "decoder_lstm = model.layers[3]\n",
        "decoder_outputs, state_h_decoder, state_c_decoder = decoder_lstm(decoder_inputs, initial_state=decoder_state_inputs)\n",
        "decoder_states = [state_h_decoder, state_c_decoder]\n",
        "decoder_dense = model.layers[4]\n",
        "decoder_outputs = decoder_dense(decoder_outputs)\n",
        "decoder_model = keras.Model(inputs=[decoder_inputs] + decoder_state_inputs,\n",
        "                            outputs=[decoder_outputs] + decoder_states)"
      ],
      "metadata": {
        "id": "dhYIPva7NkCJ"
      },
      "execution_count": null,
      "outputs": []
    },
    {
      "cell_type": "code",
      "source": [
        "def decode_sequence(input_sequence):\n",
        "\n",
        "  # input_sequence = clean_text(input_sequence)\n",
        "  states_value = encoder_model.predict(input_sequence)\n",
        "\n",
        "  target_sequence = np.zeros((1,1, num_decoder_tokens))\n",
        "  target_sequence[0, 0, spanish_vocab_dict[\"<START>\"]] = 1.0\n",
        "\n",
        "  stop_condition = False\n",
        "  decoded_sentence = \"\"\n",
        "  while not stop_condition:\n",
        "    output_tokens, hidden_vector, cell_vector = decoder_model.predict([target_sequence]+states_value)\n",
        "\n",
        "    sampled_token_index = np.argmax(output_tokens[0, -1, :])\n",
        "    sampled_char = inverse_spanish_vocab[sampled_token_index]\n",
        "    decoded_sentence += sampled_char\n",
        "\n",
        "    if sampled_char == \"<END>\" or len(decoded_sentence)>max_decoder_sequence_length:\n",
        "      stop_condition = True\n",
        "    \n",
        "    target_sequence = np.zeros((1, 1, num_decoder_tokens))\n",
        "    target_sequence[0, 0, sampled_token_index] = 1.0\n",
        "\n",
        "    states_value = [hidden_vector, cell_vector]\n",
        "\n",
        "  return decoded_sentence"
      ],
      "metadata": {
        "id": "CmWA29ZjVaWi"
      },
      "execution_count": null,
      "outputs": []
    },
    {
      "cell_type": "code",
      "source": [
        "for index in range(20):\n",
        "\n",
        "  input = encoder_input_data[index:index+1]\n",
        "  decoded_sentence = decode_sequence(input)\n",
        "  print(english_sentences[index])\n",
        "  print(decoded_sentence)\n",
        "  print(\"--------------------------------------------------------------\")"
      ],
      "metadata": {
        "id": "bC0EsavhVcYz",
        "colab": {
          "base_uri": "https://localhost:8080/"
        },
        "outputId": "7e0543da-8dbb-4642-aff3-e46d73623235"
      },
      "execution_count": null,
      "outputs": [
        {
          "output_type": "stream",
          "name": "stdout",
          "text": [
            "Go.\n",
            "creoquemevoyairalacamaahoramismo\n",
            "--------------------------------------------------------------\n",
            "Go.\n",
            "porfavorsirvemeunpocodete<END>\n",
            "--------------------------------------------------------------\n",
            "Go.\n",
            "esteremedioactuarapidamente<END>\n",
            "--------------------------------------------------------------\n",
            "Go.\n",
            "eltrenllegopuntual<END>\n",
            "--------------------------------------------------------------\n",
            "Hi.\n",
            "quientequerriamatar<END>\n",
            "--------------------------------------------------------------\n",
            "Run!\n",
            "nodesvelosusecreto<END>\n",
            "--------------------------------------------------------------\n",
            "Run.\n",
            "nopuedooirle<END>\n",
            "--------------------------------------------------------------\n",
            "Who?\n",
            "elesmasinteligentequeellos<END>\n",
            "--------------------------------------------------------------\n",
            "Fire!\n",
            "yotegustaba<END>\n",
            "--------------------------------------------------------------\n",
            "Fire!\n",
            "yonomeejercitomuchoestosdias<END>\n",
            "--------------------------------------------------------------\n",
            "Fire!\n",
            "hubounaexplosion<END>\n",
            "--------------------------------------------------------------\n",
            "Help!\n",
            "ciertasestrellassonapenasvisibles\n",
            "--------------------------------------------------------------\n",
            "Help!\n",
            "esperoqueestecaballonopatee<END>\n",
            "--------------------------------------------------------------\n",
            "Help!\n",
            "puedesquedarteunpocomas<END>\n",
            "--------------------------------------------------------------\n",
            "Jump!\n",
            "esteartistamuriojoven<END>\n",
            "--------------------------------------------------------------\n",
            "Jump.\n",
            "elartenoesunlujosinounanecesidad\n",
            "--------------------------------------------------------------\n",
            "Stop!\n",
            "quieresunpocomasdetarta<END>\n",
            "--------------------------------------------------------------\n",
            "Stop!\n",
            "megustariacasarmeconalguiencomo\n",
            "--------------------------------------------------------------\n",
            "Stop!\n",
            "ellacasillegotardealcolegio<END>\n",
            "--------------------------------------------------------------\n",
            "Wait!\n",
            "tomyyovamosjuntosanadartresveces\n",
            "--------------------------------------------------------------\n"
          ]
        }
      ]
    },
    {
      "cell_type": "markdown",
      "source": [
        "##### Inference mode Take-2"
      ],
      "metadata": {
        "id": "ilPdwBMTaHdF"
      }
    },
    {
      "cell_type": "code",
      "source": [
        "encoder_model = keras.Model(encoder_inputs, encoder_states)\n",
        "\n",
        "decoder_state_input_h = keras.layers.Input(shape=(256,))\n",
        "decoder_state_input_c = keras.layers.Input(shape=(256,))\n",
        "decoder_states_inputs = [decoder_state_input_h, decoder_state_input_c]\n",
        "decoder_outputs, state_h_decoder, state_c_decoder = decoder_lstm(decoder_inputs, initial_state=decoder_states_inputs)\n",
        "\n",
        "decoder_states = [state_h_decoder, state_c_decoder]\n",
        "decoder_outputs = decoder_dense(decoder_outputs)\n",
        "decoder_model = keras.Model([decoder_inputs]+decoder_states_inputs,\n",
        "                            [decoder_outputs]+decoder_states)"
      ],
      "metadata": {
        "id": "tVjeItPVcUw-"
      },
      "execution_count": null,
      "outputs": []
    },
    {
      "cell_type": "code",
      "source": [
        "def create_encoder_data(input_seq):\n",
        "\n",
        "  text = clean_text([input_seq])\n",
        "  encoder_input_inf = np.zeros((1, max_encoder_sequence_length, num_encoder_tokens))\n",
        "\n",
        "  for i, word in enumerate(text[0].split()):\n",
        "    encoder_input_inf[0, i, english_vocab_dict[word]] == 1.0\n",
        "  encoder_input_inf[0, i+1:, english_vocab_dict[\"<PAD>\"]] = 1.0\n",
        "\n",
        "  return encoder_input_inf"
      ],
      "metadata": {
        "id": "PQxwhifLdqj4"
      },
      "execution_count": null,
      "outputs": []
    },
    {
      "cell_type": "code",
      "source": [
        "def decode_sequence(input_seq):\n",
        "    \n",
        "    input_seq = create_encoder_data(input_seq)\n",
        "    states_value = encoder_model.predict(input_seq)\n",
        "\n",
        "    target_seq = np.zeros((1, 1, num_decoder_tokens))\n",
        "    target_seq[0, 0, spanish_vocab_dict[\"<START>\"]] = 1.0\n",
        "\n",
        "    stop_condition = False\n",
        "    decoded_sentence = []\n",
        "    while not stop_condition:\n",
        "        output_tokens, h, c = decoder_model.predict([target_seq] + states_value)\n",
        "\n",
        "        sampled_token_index = np.argmax(output_tokens[0, -1, :])\n",
        "        sampled_char = inverse_spanish_vocab[sampled_token_index]\n",
        "        decoded_sentence.append(sampled_char)\n",
        "\n",
        "        if sampled_char == \"<END>\" or len(decoded_sentence) >= max_decoder_sequence_length:\n",
        "            stop_condition = True\n",
        "\n",
        "        # Update the target sequence (of length 1).\n",
        "        target_seq = np.zeros((1, 1, num_decoder_tokens))\n",
        "        target_seq[0, 0, sampled_token_index] = 1.0\n",
        "\n",
        "        # Update states\n",
        "        states_value = [h, c]\n",
        "\n",
        "    return \" \".join(decoded_sentence[:-1])"
      ],
      "metadata": {
        "id": "z7fPrLM0gmjq"
      },
      "execution_count": null,
      "outputs": []
    },
    {
      "cell_type": "code",
      "source": [
        "input_sent = \"I enjoy running and playing\"\n",
        "decoded_sentence = decode_sequence(input_sent)\n",
        "print(decoded_sentence)"
      ],
      "metadata": {
        "colab": {
          "base_uri": "https://localhost:8080/"
        },
        "id": "ybArwxtAd8Ku",
        "outputId": "97ea4c89-82b1-44e2-f6bd-9e51bd0f111d"
      },
      "execution_count": null,
      "outputs": [
        {
          "output_type": "stream",
          "name": "stdout",
          "text": [
            "me encanta la musica\n"
          ]
        }
      ]
    },
    {
      "cell_type": "code",
      "source": [
        ""
      ],
      "metadata": {
        "id": "tSJse7wesJHl"
      },
      "execution_count": null,
      "outputs": []
    }
  ]
}