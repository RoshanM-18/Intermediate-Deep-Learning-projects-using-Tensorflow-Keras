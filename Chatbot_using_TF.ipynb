{
  "nbformat": 4,
  "nbformat_minor": 0,
  "metadata": {
    "colab": {
      "name": "Chatbot using TF",
      "provenance": [],
      "collapsed_sections": [
        "Zi-1uyTYyAEf"
      ],
      "machine_shape": "hm",
      "authorship_tag": "ABX9TyMDJ3GIhE+Jtwsa1BFM3J6w",
      "include_colab_link": true
    },
    "kernelspec": {
      "name": "python3",
      "display_name": "Python 3"
    },
    "language_info": {
      "name": "python"
    },
    "accelerator": "GPU"
  },
  "cells": [
    {
      "cell_type": "markdown",
      "metadata": {
        "id": "view-in-github",
        "colab_type": "text"
      },
      "source": [
        "<a href=\"https://colab.research.google.com/github/RoshanM-18/Intermediate-Deep-Learning-projects-using-Tensorflow-Keras/blob/main/Chatbot_using_TF.ipynb\" target=\"_parent\"><img src=\"https://colab.research.google.com/assets/colab-badge.svg\" alt=\"Open In Colab\"/></a>"
      ]
    },
    {
      "cell_type": "code",
      "source": [
        "!nvidia-smi -L"
      ],
      "metadata": {
        "colab": {
          "base_uri": "https://localhost:8080/"
        },
        "id": "GwyVNITE6XR8",
        "outputId": "de8b82d1-da0c-4456-e9fb-b33a6ff3ba2b"
      },
      "execution_count": null,
      "outputs": [
        {
          "output_type": "stream",
          "name": "stdout",
          "text": [
            "GPU 0: Tesla P100-PCIE-16GB (UUID: GPU-524be291-631d-3b00-57cf-8e0d9abfd7b1)\n"
          ]
        }
      ]
    },
    {
      "cell_type": "markdown",
      "source": [
        "#### Importing the required libraries and downloading the dataset from Kaggle"
      ],
      "metadata": {
        "id": "cLFhE58jyDU1"
      }
    },
    {
      "cell_type": "code",
      "execution_count": null,
      "metadata": {
        "id": "8H_MvUPRuZCr"
      },
      "outputs": [],
      "source": [
        "import pandas as pd\n",
        "import numpy as np\n",
        "import matplotlib.pyplot as plt\n",
        "import seaborn as sns\n",
        "import nltk\n",
        "import re\n",
        "\n",
        "import tensorflow as tf\n",
        "from tensorflow import keras\n",
        "\n",
        "import os\n",
        "import shutil\n",
        "import zipfile\n",
        "import random\n",
        "import time\n",
        "import string\n",
        "import sys"
      ]
    },
    {
      "cell_type": "code",
      "source": [
        "os.environ[\"KAGGLE_CONFIG_DIR\"] = \"/content\""
      ],
      "metadata": {
        "id": "bcuSxdvpxBEr"
      },
      "execution_count": null,
      "outputs": []
    },
    {
      "cell_type": "code",
      "source": [
        "!chmod 600 \"/content/kaggle.json\""
      ],
      "metadata": {
        "id": "4wnM4UpOxuwa"
      },
      "execution_count": null,
      "outputs": []
    },
    {
      "cell_type": "code",
      "source": [
        "!kaggle datasets download -d tovarischsukhov/southparklines"
      ],
      "metadata": {
        "colab": {
          "base_uri": "https://localhost:8080/"
        },
        "id": "dgQgDt_Ixtjn",
        "outputId": "c5ae9e56-41df-4fab-e4ba-ed32dea7ceb8"
      },
      "execution_count": null,
      "outputs": [
        {
          "output_type": "stream",
          "name": "stdout",
          "text": [
            "Downloading southparklines.zip to /content\n",
            "\r  0% 0.00/1.81M [00:00<?, ?B/s]\n",
            "\r100% 1.81M/1.81M [00:00<00:00, 63.6MB/s]\n"
          ]
        }
      ]
    },
    {
      "cell_type": "code",
      "source": [
        "zip_ref = zipfile.ZipFile(\"/content/southparklines.zip\")\n",
        "zip_ref.extractall()\n",
        "zip_ref.close()"
      ],
      "metadata": {
        "id": "RFxq8at3x0Le"
      },
      "execution_count": null,
      "outputs": []
    },
    {
      "cell_type": "markdown",
      "source": [
        "#### Reading the dataset and performing some basic EDA "
      ],
      "metadata": {
        "id": "Zi-1uyTYyAEf"
      }
    },
    {
      "cell_type": "code",
      "source": [
        "df = pd.read_csv(\"/content/All-seasons.csv\")\n",
        "df.head()"
      ],
      "metadata": {
        "colab": {
          "base_uri": "https://localhost:8080/"
        },
        "id": "uneppcCyyaoj",
        "outputId": "97401d0f-f9d5-42d8-aab8-1ee4541fafaa"
      },
      "execution_count": null,
      "outputs": [
        {
          "output_type": "execute_result",
          "data": {
            "text/html": [
              "\n",
              "  <div id=\"df-22507f1c-877f-46a9-93e4-4d85bd5304a9\">\n",
              "    <div class=\"colab-df-container\">\n",
              "      <div>\n",
              "<style scoped>\n",
              "    .dataframe tbody tr th:only-of-type {\n",
              "        vertical-align: middle;\n",
              "    }\n",
              "\n",
              "    .dataframe tbody tr th {\n",
              "        vertical-align: top;\n",
              "    }\n",
              "\n",
              "    .dataframe thead th {\n",
              "        text-align: right;\n",
              "    }\n",
              "</style>\n",
              "<table border=\"1\" class=\"dataframe\">\n",
              "  <thead>\n",
              "    <tr style=\"text-align: right;\">\n",
              "      <th></th>\n",
              "      <th>Season</th>\n",
              "      <th>Episode</th>\n",
              "      <th>Character</th>\n",
              "      <th>Line</th>\n",
              "    </tr>\n",
              "  </thead>\n",
              "  <tbody>\n",
              "    <tr>\n",
              "      <th>0</th>\n",
              "      <td>10</td>\n",
              "      <td>1</td>\n",
              "      <td>Stan</td>\n",
              "      <td>You guys, you guys! Chef is going away. \\n</td>\n",
              "    </tr>\n",
              "    <tr>\n",
              "      <th>1</th>\n",
              "      <td>10</td>\n",
              "      <td>1</td>\n",
              "      <td>Kyle</td>\n",
              "      <td>Going away? For how long?\\n</td>\n",
              "    </tr>\n",
              "    <tr>\n",
              "      <th>2</th>\n",
              "      <td>10</td>\n",
              "      <td>1</td>\n",
              "      <td>Stan</td>\n",
              "      <td>Forever.\\n</td>\n",
              "    </tr>\n",
              "    <tr>\n",
              "      <th>3</th>\n",
              "      <td>10</td>\n",
              "      <td>1</td>\n",
              "      <td>Chef</td>\n",
              "      <td>I'm sorry boys.\\n</td>\n",
              "    </tr>\n",
              "    <tr>\n",
              "      <th>4</th>\n",
              "      <td>10</td>\n",
              "      <td>1</td>\n",
              "      <td>Stan</td>\n",
              "      <td>Chef said he's been bored, so he joining a gro...</td>\n",
              "    </tr>\n",
              "  </tbody>\n",
              "</table>\n",
              "</div>\n",
              "      <button class=\"colab-df-convert\" onclick=\"convertToInteractive('df-22507f1c-877f-46a9-93e4-4d85bd5304a9')\"\n",
              "              title=\"Convert this dataframe to an interactive table.\"\n",
              "              style=\"display:none;\">\n",
              "        \n",
              "  <svg xmlns=\"http://www.w3.org/2000/svg\" height=\"24px\"viewBox=\"0 0 24 24\"\n",
              "       width=\"24px\">\n",
              "    <path d=\"M0 0h24v24H0V0z\" fill=\"none\"/>\n",
              "    <path d=\"M18.56 5.44l.94 2.06.94-2.06 2.06-.94-2.06-.94-.94-2.06-.94 2.06-2.06.94zm-11 1L8.5 8.5l.94-2.06 2.06-.94-2.06-.94L8.5 2.5l-.94 2.06-2.06.94zm10 10l.94 2.06.94-2.06 2.06-.94-2.06-.94-.94-2.06-.94 2.06-2.06.94z\"/><path d=\"M17.41 7.96l-1.37-1.37c-.4-.4-.92-.59-1.43-.59-.52 0-1.04.2-1.43.59L10.3 9.45l-7.72 7.72c-.78.78-.78 2.05 0 2.83L4 21.41c.39.39.9.59 1.41.59.51 0 1.02-.2 1.41-.59l7.78-7.78 2.81-2.81c.8-.78.8-2.07 0-2.86zM5.41 20L4 18.59l7.72-7.72 1.47 1.35L5.41 20z\"/>\n",
              "  </svg>\n",
              "      </button>\n",
              "      \n",
              "  <style>\n",
              "    .colab-df-container {\n",
              "      display:flex;\n",
              "      flex-wrap:wrap;\n",
              "      gap: 12px;\n",
              "    }\n",
              "\n",
              "    .colab-df-convert {\n",
              "      background-color: #E8F0FE;\n",
              "      border: none;\n",
              "      border-radius: 50%;\n",
              "      cursor: pointer;\n",
              "      display: none;\n",
              "      fill: #1967D2;\n",
              "      height: 32px;\n",
              "      padding: 0 0 0 0;\n",
              "      width: 32px;\n",
              "    }\n",
              "\n",
              "    .colab-df-convert:hover {\n",
              "      background-color: #E2EBFA;\n",
              "      box-shadow: 0px 1px 2px rgba(60, 64, 67, 0.3), 0px 1px 3px 1px rgba(60, 64, 67, 0.15);\n",
              "      fill: #174EA6;\n",
              "    }\n",
              "\n",
              "    [theme=dark] .colab-df-convert {\n",
              "      background-color: #3B4455;\n",
              "      fill: #D2E3FC;\n",
              "    }\n",
              "\n",
              "    [theme=dark] .colab-df-convert:hover {\n",
              "      background-color: #434B5C;\n",
              "      box-shadow: 0px 1px 3px 1px rgba(0, 0, 0, 0.15);\n",
              "      filter: drop-shadow(0px 1px 2px rgba(0, 0, 0, 0.3));\n",
              "      fill: #FFFFFF;\n",
              "    }\n",
              "  </style>\n",
              "\n",
              "      <script>\n",
              "        const buttonEl =\n",
              "          document.querySelector('#df-22507f1c-877f-46a9-93e4-4d85bd5304a9 button.colab-df-convert');\n",
              "        buttonEl.style.display =\n",
              "          google.colab.kernel.accessAllowed ? 'block' : 'none';\n",
              "\n",
              "        async function convertToInteractive(key) {\n",
              "          const element = document.querySelector('#df-22507f1c-877f-46a9-93e4-4d85bd5304a9');\n",
              "          const dataTable =\n",
              "            await google.colab.kernel.invokeFunction('convertToInteractive',\n",
              "                                                     [key], {});\n",
              "          if (!dataTable) return;\n",
              "\n",
              "          const docLinkHtml = 'Like what you see? Visit the ' +\n",
              "            '<a target=\"_blank\" href=https://colab.research.google.com/notebooks/data_table.ipynb>data table notebook</a>'\n",
              "            + ' to learn more about interactive tables.';\n",
              "          element.innerHTML = '';\n",
              "          dataTable['output_type'] = 'display_data';\n",
              "          await google.colab.output.renderOutput(dataTable, element);\n",
              "          const docLink = document.createElement('div');\n",
              "          docLink.innerHTML = docLinkHtml;\n",
              "          element.appendChild(docLink);\n",
              "        }\n",
              "      </script>\n",
              "    </div>\n",
              "  </div>\n",
              "  "
            ],
            "text/plain": [
              "  Season Episode Character                                               Line\n",
              "0     10       1      Stan         You guys, you guys! Chef is going away. \\n\n",
              "1     10       1      Kyle                        Going away? For how long?\\n\n",
              "2     10       1      Stan                                         Forever.\\n\n",
              "3     10       1      Chef                                  I'm sorry boys.\\n\n",
              "4     10       1      Stan  Chef said he's been bored, so he joining a gro..."
            ]
          },
          "metadata": {},
          "execution_count": 7
        }
      ]
    },
    {
      "cell_type": "code",
      "source": [
        "df.info()"
      ],
      "metadata": {
        "colab": {
          "base_uri": "https://localhost:8080/"
        },
        "id": "93HAOxooyrBj",
        "outputId": "f0e59571-15d1-4bd8-a186-7a988e952795"
      },
      "execution_count": null,
      "outputs": [
        {
          "output_type": "stream",
          "name": "stdout",
          "text": [
            "<class 'pandas.core.frame.DataFrame'>\n",
            "RangeIndex: 70896 entries, 0 to 70895\n",
            "Data columns (total 4 columns):\n",
            " #   Column     Non-Null Count  Dtype \n",
            "---  ------     --------------  ----- \n",
            " 0   Season     70896 non-null  object\n",
            " 1   Episode    70896 non-null  object\n",
            " 2   Character  70896 non-null  object\n",
            " 3   Line       70896 non-null  object\n",
            "dtypes: object(4)\n",
            "memory usage: 2.2+ MB\n"
          ]
        }
      ]
    },
    {
      "cell_type": "code",
      "source": [
        "df.columns = [x.lower() for x in df.columns]"
      ],
      "metadata": {
        "id": "9aGd1wjnzXj9"
      },
      "execution_count": null,
      "outputs": []
    },
    {
      "cell_type": "code",
      "source": [
        "dialogues = df.line.tolist()"
      ],
      "metadata": {
        "id": "AKVKGlf29sBb"
      },
      "execution_count": null,
      "outputs": []
    },
    {
      "cell_type": "code",
      "source": [
        "dialogues[105:145]"
      ],
      "metadata": {
        "colab": {
          "base_uri": "https://localhost:8080/"
        },
        "id": "7yAqaISI9tj7",
        "outputId": "c5df8969-ae0f-40bc-abb9-d47f8489b2ab"
      },
      "execution_count": null,
      "outputs": [
        {
          "output_type": "execute_result",
          "data": {
            "text/plain": [
              "[\"Well look: he spent the last three months with that adventurers' club. Maybe they know what happened to him.\\n\",\n",
              " '(Yeah! I think...)\\n',\n",
              " 'Yeah!\\n',\n",
              " 'All right, come on guys!\\n',\n",
              " \"Hey you guys, you know what they call a Jewish woman's boobs? Jewbs. \\n\",\n",
              " 'May I help you.\\n',\n",
              " 'Ahh, hi, can we speak to the head guy or something?\\n',\n",
              " 'Right this way. \\n',\n",
              " \"Now, the upper rim of Kilimanjaro should be quite a trek, and so we'll need to have a-\\n\",\n",
              " 'Excuse me, sir. These boys wanted to speak with you.\\n',\n",
              " \"Ahh yes, splendid! Good afternoon, lads! I'm Head Adventurer William P. Connolly, Esquire! Welcome, to the Super Adventure Club!\\n\",\n",
              " 'Tally ho!\\n',\n",
              " 'Indeed!\\n',\n",
              " 'Uh, hi. Our friend joined your club a while back, and now he wants to molest kids. \\n',\n",
              " \"What? Well... well yes, of course! That's what the Super Adventure Club does!\\n\",\n",
              " '...Huh?\\n',\n",
              " 'We travel the world and have sex with children!\\n',\n",
              " 'Yes, what else would we do?\\n',\n",
              " 'Well, we thought you went exploring and like, hunting and stuff!\\n',\n",
              " \"Noo, no, that's the Adventure Club. We're the Super Adventure Club!  Next week, we'll be heading to the outer banks of the Amazon, where we will make camp and have sex with children of the Ugani tribe, then it's off to the mighty Himalayas, where we will climb K-2, and molest several Tibetan children on the east summit.\\n\",\n",
              " '...Dude!\\n',\n",
              " \"I know, but it gets even better! From there we will kayak to the fruitful banks of the Mele River in Africa, where the secret and mysterious Hanimi people have children who have never seen a white man's erect penis. Of course, we're always looking for kids to have sex with on the plane rides over to these places, so how would you ALL like to join the Super Adventure Club!\\n\",\n",
              " 'NO!!\\n',\n",
              " 'No? Oh really? Perhaps I should ask you again?  How would you like to join the Super Adventure Club? \\n',\n",
              " 'No! \\n',\n",
              " 'Dude, what are you doing?!\\n',\n",
              " \"Oh well, it doesn't work on everybody.  Well, so long then.\\n\",\n",
              " 'Just what the hell is that thing?!\\n',\n",
              " \"What? What thing? I don't see anything.\\n\",\n",
              " 'HA! I knew it!\\n',\n",
              " 'Knew what?\\n',\n",
              " \"The reason Chef has been saying those terrible things about us is because he's been brainwashed! By this- fruity little club!\\n\",\n",
              " 'Oh, son of a bitch!\\n',\n",
              " \"Come on, children. Let's all go home and make love.\\n\",\n",
              " \"You need to see a psychiatrist, Chef. It's for your own good.\\n\",\n",
              " 'I just like to make love up your butt.\\n',\n",
              " 'Oh my God!\\n',\n",
              " 'Mr. Chef, is it?\\n',\n",
              " 'All right, come on. \\n',\n",
              " \"Hello, I'm Dr. Neeland. What can I do for you today?\\n\"]"
            ]
          },
          "metadata": {},
          "execution_count": 11
        }
      ]
    },
    {
      "cell_type": "markdown",
      "source": [
        "#### Text preprocessing"
      ],
      "metadata": {
        "id": "iHTOgoTU-vU4"
      }
    },
    {
      "cell_type": "code",
      "source": [
        "def clean_text(text):\n",
        "\n",
        "  text = text.lower()\n",
        "\n",
        "  text = re.sub(r\"\\n\", \"\", text)\n",
        "  text = re.sub(r\"[-()]\", \"\", text)\n",
        "  text = re.sub(r\"\\.\", \" .\", text)\n",
        "  text = re.sub(r\"\\!\", \" !\", text)\n",
        "  text = re.sub(r\"\\,\", \" ,\", text)\n",
        "  text = re.sub(r\"\\?\", \" ?\", text)\n",
        "  text = re.sub(r\"-\", \" \", text)\n",
        "  text = re.sub(r\":\", \"\", text)\n",
        "  text = re.sub(r\"let's\", \"let us\", text)\n",
        "  text = re.sub(r\"ma'am\", \"madam\", text)\n",
        "  text = re.sub(r\"i'm\", \"i am\", text)\n",
        "  text = re.sub(r\"that's\", \"that is\", text)\n",
        "  text = re.sub(r\"what's\", \"what is\", text)\n",
        "  text = re.sub(r\"he's\", \"he is\", text)\n",
        "  text = re.sub(r\"she's\", \"she is\", text)\n",
        "  text = re.sub(r\"it's\", \"it is\", text)\n",
        "  text = re.sub(r\"won't\", \"will not\", text)\n",
        "  text = re.sub(r\"can't\", \"cannot\", text)\n",
        "  text = re.sub(r\"don't\", \"do not\", text)\n",
        "  text = re.sub(r\"\\'d\", \" would\", text)\n",
        "  text = re.sub(r\"\\'ll\", \" will\", text)\n",
        "  text = re.sub(r\"\\'re\", \" are\", text)\n",
        "  text = re.sub(r\"\\'s\", \" is\", text)\n",
        "  text = re.sub(r\"\\'ve\", \" have\", text)\n",
        "  text = re.sub(r\"n't\", \" not\", text)\n",
        "  text = re.sub(r\"n'\", \"ng\", text)\n",
        "  text = re.sub(r\"ohhhhhh\", \"oh\", text)\n",
        "  text = re.sub(r\"uh\", \"\", text)\n",
        "  text = re.sub(r\"ohh\", \"oh\", text)\n",
        "  text = re.sub(r\"ohhh\", \"oh\", text)\n",
        "  text = re.sub(r\"ohhhh\", \"oh\", text)\n",
        "  text = re.sub(r\"ohhhhh\", \"oh\", text)\n",
        "  text = re.sub(r\"ahh\", \"\", text)\n",
        "  text = re.sub(r\"ah\", \"\", text)\n",
        "  text = re.sub(r\"\\xa0\", \"\", text)\n",
        "\n",
        "  return text"
      ],
      "metadata": {
        "id": "kPnXDPIs-0Dw"
      },
      "execution_count": null,
      "outputs": []
    },
    {
      "cell_type": "code",
      "source": [
        "text = []\n",
        "\n",
        "for line in dialogues:\n",
        "  text.append(clean_text(line))"
      ],
      "metadata": {
        "id": "QKRXNPm3B74A"
      },
      "execution_count": null,
      "outputs": []
    },
    {
      "cell_type": "code",
      "source": [
        "text[:10]"
      ],
      "metadata": {
        "colab": {
          "base_uri": "https://localhost:8080/"
        },
        "id": "tBNi-q-gCN4E",
        "outputId": "7e0eb1f7-2fbe-4d48-ea95-b2602c939ce8"
      },
      "execution_count": null,
      "outputs": [
        {
          "output_type": "execute_result",
          "data": {
            "text/plain": [
              "['you guys , you guys ! chef is going away . ',\n",
              " 'going away ? for how long ?',\n",
              " 'forever .',\n",
              " 'i am sorry boys .',\n",
              " 'chef said he is been bored , so he joining a group called the super adventure club . ',\n",
              " 'wow !',\n",
              " 'chef ? ? what kind of questions do you think adventuring around the world is gonna answer ? !',\n",
              " 'what is the meaning of life ? why are we here ?',\n",
              " 'i hope you are making the right choice .',\n",
              " 'i am gonna miss him .  i am gonna miss chef and i . . .and i do not know how to tell him ! ']"
            ]
          },
          "metadata": {},
          "execution_count": 14
        }
      ]
    },
    {
      "cell_type": "code",
      "source": [
        "for _ in range(25):\n",
        "  random_text = random.randint(0, len(text))\n",
        "  print(text[random_text])\n",
        "  print(\"-\"*40)"
      ],
      "metadata": {
        "colab": {
          "base_uri": "https://localhost:8080/"
        },
        "id": "QkW8DKdgCRDm",
        "outputId": "da21b0dd-b6ac-4afc-a76b-f02a81964352"
      },
      "execution_count": null,
      "outputs": [
        {
          "output_type": "stream",
          "name": "stdout",
          "text": [
            "buddha , will you lay off that stuff already ? ! it is getting to be a problem .\n",
            "----------------------------------------\n",
            "what do you know ?\n",
            "----------------------------------------\n",
            "my name is sid greenfield . i am the director from los angeles for america is most wanted .\n",
            "----------------------------------------\n",
            "okay , if you guys just wait here a sec we are gonna have a quickening with the council of geniuses . see what we can do for you .\n",
            "----------------------------------------\n",
            "i heard it , too .\n",
            "----------------------------------------\n",
            "awwww \n",
            "----------------------------------------\n",
            "i am not playing around , kyle ! if we survive this , i do not intend to live in poverty ! give me your jew gold now !\n",
            "----------------------------------------\n",
            "you are welcome ! ! now leave us alone ! !  my fellow gingers ! i envision a world in which there is no hate ! a world where everyone is ginger ! and so , we must gather together every child who is not ginger , and exterminate them !\n",
            "----------------------------------------\n",
            "it is been four hours now , and tom cruise still will not come out of the closet . hundreds of onlookers here have gathered here in hopes that the celebrity will finally give in .\n",
            "----------------------------------------\n",
            "h ?\n",
            "----------------------------------------\n",
            "yes , there is something that you all need to know . the truth about the red cow . we have all been  so sorry , hang on .  hello ?\n",
            "----------------------------------------\n",
            "the necronomicon ?\n",
            "----------------------------------------\n",
            "righto . pip . righto .\n",
            "----------------------------------------\n",
            "because if those people all think you are the reincarnation of l . ron hubbard , then they will all buy your new writings , and you and i together will make three million dollars !\n",
            "----------------------------------------\n",
            "oh who cares about some oil spill environment crap ? !\n",
            "----------------------------------------\n",
            "then , let us do token is report on how global warming is going to kill everyone in the fifth grade .\n",
            "----------------------------------------\n",
            "liver medicine ?\n",
            "----------------------------------------\n",
            "well , so then wwe will recruit us and not them .\n",
            "----------------------------------------\n",
            "there is only one answer eat eric roberts . \n",
            "----------------------------------------\n",
            "you just love pushing me around ! is that what you wanna do , kyle ? ! kick the baby ? ! well alrighty bro ! come on , kyle ! kick the baby ! come on bro ! kick the fucking baby ! let us see you try it , wuss !\n",
            "----------------------------------------\n",
            "i am not \"jel\" , and i happen to be the biggest feminist at this school !\n",
            "----------------------------------------\n",
            "ye , it is ms . choksondik alright .\n",
            "----------------------------------------\n",
            "you know that big statue in the town square of pioneer john wesley powell ? i snuck over there with a hacksaw and  , and i cut off his head !  haa , ye !\n",
            "----------------------------------------\n",
            "do not , do not act for me , stan ! really ? ! because every minute i am watching this video become less about awareness and more about you !\n",
            "----------------------------------------\n",
            "you know what these guys look like to me ? a bunch of winners !\n",
            "----------------------------------------\n"
          ]
        }
      ]
    },
    {
      "cell_type": "code",
      "source": [
        ""
      ],
      "metadata": {
        "id": "O-j7J2NtDRPZ"
      },
      "execution_count": null,
      "outputs": []
    },
    {
      "cell_type": "code",
      "source": [
        "sentences_lengths = []\n",
        "\n",
        "for line in text:\n",
        "  sentences_lengths.append(len(line.split()))\n",
        "\n",
        "lengths_df = pd.DataFrame({\"sent_length\": sentences_lengths})\n",
        "lengths_df.describe()"
      ],
      "metadata": {
        "colab": {
          "base_uri": "https://localhost:8080/"
        },
        "id": "Ygolg4NdFRNW",
        "outputId": "3f1e259e-51bb-4002-e436-88977fdf3197"
      },
      "execution_count": null,
      "outputs": [
        {
          "output_type": "execute_result",
          "data": {
            "text/html": [
              "\n",
              "  <div id=\"df-d9205e40-6d50-4275-bc86-51718426626d\">\n",
              "    <div class=\"colab-df-container\">\n",
              "      <div>\n",
              "<style scoped>\n",
              "    .dataframe tbody tr th:only-of-type {\n",
              "        vertical-align: middle;\n",
              "    }\n",
              "\n",
              "    .dataframe tbody tr th {\n",
              "        vertical-align: top;\n",
              "    }\n",
              "\n",
              "    .dataframe thead th {\n",
              "        text-align: right;\n",
              "    }\n",
              "</style>\n",
              "<table border=\"1\" class=\"dataframe\">\n",
              "  <thead>\n",
              "    <tr style=\"text-align: right;\">\n",
              "      <th></th>\n",
              "      <th>sent_length</th>\n",
              "    </tr>\n",
              "  </thead>\n",
              "  <tbody>\n",
              "    <tr>\n",
              "      <th>count</th>\n",
              "      <td>70896.000000</td>\n",
              "    </tr>\n",
              "    <tr>\n",
              "      <th>mean</th>\n",
              "      <td>15.005938</td>\n",
              "    </tr>\n",
              "    <tr>\n",
              "      <th>std</th>\n",
              "      <td>16.201729</td>\n",
              "    </tr>\n",
              "    <tr>\n",
              "      <th>min</th>\n",
              "      <td>0.000000</td>\n",
              "    </tr>\n",
              "    <tr>\n",
              "      <th>25%</th>\n",
              "      <td>6.000000</td>\n",
              "    </tr>\n",
              "    <tr>\n",
              "      <th>50%</th>\n",
              "      <td>11.000000</td>\n",
              "    </tr>\n",
              "    <tr>\n",
              "      <th>75%</th>\n",
              "      <td>19.000000</td>\n",
              "    </tr>\n",
              "    <tr>\n",
              "      <th>max</th>\n",
              "      <td>398.000000</td>\n",
              "    </tr>\n",
              "  </tbody>\n",
              "</table>\n",
              "</div>\n",
              "      <button class=\"colab-df-convert\" onclick=\"convertToInteractive('df-d9205e40-6d50-4275-bc86-51718426626d')\"\n",
              "              title=\"Convert this dataframe to an interactive table.\"\n",
              "              style=\"display:none;\">\n",
              "        \n",
              "  <svg xmlns=\"http://www.w3.org/2000/svg\" height=\"24px\"viewBox=\"0 0 24 24\"\n",
              "       width=\"24px\">\n",
              "    <path d=\"M0 0h24v24H0V0z\" fill=\"none\"/>\n",
              "    <path d=\"M18.56 5.44l.94 2.06.94-2.06 2.06-.94-2.06-.94-.94-2.06-.94 2.06-2.06.94zm-11 1L8.5 8.5l.94-2.06 2.06-.94-2.06-.94L8.5 2.5l-.94 2.06-2.06.94zm10 10l.94 2.06.94-2.06 2.06-.94-2.06-.94-.94-2.06-.94 2.06-2.06.94z\"/><path d=\"M17.41 7.96l-1.37-1.37c-.4-.4-.92-.59-1.43-.59-.52 0-1.04.2-1.43.59L10.3 9.45l-7.72 7.72c-.78.78-.78 2.05 0 2.83L4 21.41c.39.39.9.59 1.41.59.51 0 1.02-.2 1.41-.59l7.78-7.78 2.81-2.81c.8-.78.8-2.07 0-2.86zM5.41 20L4 18.59l7.72-7.72 1.47 1.35L5.41 20z\"/>\n",
              "  </svg>\n",
              "      </button>\n",
              "      \n",
              "  <style>\n",
              "    .colab-df-container {\n",
              "      display:flex;\n",
              "      flex-wrap:wrap;\n",
              "      gap: 12px;\n",
              "    }\n",
              "\n",
              "    .colab-df-convert {\n",
              "      background-color: #E8F0FE;\n",
              "      border: none;\n",
              "      border-radius: 50%;\n",
              "      cursor: pointer;\n",
              "      display: none;\n",
              "      fill: #1967D2;\n",
              "      height: 32px;\n",
              "      padding: 0 0 0 0;\n",
              "      width: 32px;\n",
              "    }\n",
              "\n",
              "    .colab-df-convert:hover {\n",
              "      background-color: #E2EBFA;\n",
              "      box-shadow: 0px 1px 2px rgba(60, 64, 67, 0.3), 0px 1px 3px 1px rgba(60, 64, 67, 0.15);\n",
              "      fill: #174EA6;\n",
              "    }\n",
              "\n",
              "    [theme=dark] .colab-df-convert {\n",
              "      background-color: #3B4455;\n",
              "      fill: #D2E3FC;\n",
              "    }\n",
              "\n",
              "    [theme=dark] .colab-df-convert:hover {\n",
              "      background-color: #434B5C;\n",
              "      box-shadow: 0px 1px 3px 1px rgba(0, 0, 0, 0.15);\n",
              "      filter: drop-shadow(0px 1px 2px rgba(0, 0, 0, 0.3));\n",
              "      fill: #FFFFFF;\n",
              "    }\n",
              "  </style>\n",
              "\n",
              "      <script>\n",
              "        const buttonEl =\n",
              "          document.querySelector('#df-d9205e40-6d50-4275-bc86-51718426626d button.colab-df-convert');\n",
              "        buttonEl.style.display =\n",
              "          google.colab.kernel.accessAllowed ? 'block' : 'none';\n",
              "\n",
              "        async function convertToInteractive(key) {\n",
              "          const element = document.querySelector('#df-d9205e40-6d50-4275-bc86-51718426626d');\n",
              "          const dataTable =\n",
              "            await google.colab.kernel.invokeFunction('convertToInteractive',\n",
              "                                                     [key], {});\n",
              "          if (!dataTable) return;\n",
              "\n",
              "          const docLinkHtml = 'Like what you see? Visit the ' +\n",
              "            '<a target=\"_blank\" href=https://colab.research.google.com/notebooks/data_table.ipynb>data table notebook</a>'\n",
              "            + ' to learn more about interactive tables.';\n",
              "          element.innerHTML = '';\n",
              "          dataTable['output_type'] = 'display_data';\n",
              "          await google.colab.output.renderOutput(dataTable, element);\n",
              "          const docLink = document.createElement('div');\n",
              "          docLink.innerHTML = docLinkHtml;\n",
              "          element.appendChild(docLink);\n",
              "        }\n",
              "      </script>\n",
              "    </div>\n",
              "  </div>\n",
              "  "
            ],
            "text/plain": [
              "        sent_length\n",
              "count  70896.000000\n",
              "mean      15.005938\n",
              "std       16.201729\n",
              "min        0.000000\n",
              "25%        6.000000\n",
              "50%       11.000000\n",
              "75%       19.000000\n",
              "max      398.000000"
            ]
          },
          "metadata": {},
          "execution_count": 16
        }
      ]
    },
    {
      "cell_type": "code",
      "source": [
        "text[lengths_df.idxmax().tolist()[0]]"
      ],
      "metadata": {
        "colab": {
          "base_uri": "https://localhost:8080/"
        },
        "id": "QMOtCIfXFRfS",
        "outputId": "7eac38a7-b7e6-4724-8392-f1d84f254ec9"
      },
      "execution_count": null,
      "outputs": [
        {
          "output_type": "execute_result",
          "data": {
            "application/vnd.google.colaboratory.intrinsic+json": {
              "type": "string"
            },
            "text/plain": [
              "\"okay , first of all , i am not aquaman , i am a recovering . . . gay fish . yes , i have met aquaman . i have hung out with aquaman . but the only thing i have in common with aquaman anymore is my love for the sea .now !there have been malicious rumors , started at this elementary school , that my beautiful fiancée is a hobbit . that is not funny , and it is not true .alright ? ! yes , kim is heavier than most of her pictures show her to be . yes , she gets her hair lasered off her body . yes , she has a friend named gandalf who happens to be a wizard .i am sorry , excuse me a minute .bitch , how are you not a hobbit again ? ye . ye ye ye right . rightrightrightrightright , ye . okay . yep . yep . let me get okay . yep , i got it . okay , love you too .okay , if my fiancée kim… is… a hobbit , then how come… it  how c then , okay , if she is a hobbit , then how come she do not live in a hole in the ground ? boooooom ! all y'all just got lit up , cuz ! she do not live in no hole in the ground , she lives in a bigass mansion , with me , in her room , that is slightly below ground ! so , you can… she , she is sexy , and womanly , and she smokes a pipe . she can blow them rings that go up over her head , and… hold up .bitch , you not a hobbit , right ?  . . . no , i know , you just , you smoke that long pipe sometimes when you sit by the fire . . . oh it is a oh , okay . got it , got it what do you call it ? yep . yep , got it . okay . yep , love you too .that is not a hobbit pipe , for your information ! it is a personal oral humidifier to keep all the wrinkles around her mouth from showing . so ha , all you haters , ha !\""
            ]
          },
          "metadata": {},
          "execution_count": 17
        }
      ]
    },
    {
      "cell_type": "code",
      "source": [
        "np.percentile(sentences_lengths, 90)"
      ],
      "metadata": {
        "colab": {
          "base_uri": "https://localhost:8080/"
        },
        "id": "mDX4td5FFRjU",
        "outputId": "dafe98bc-4b12-4413-a8c5-decb7d886577"
      },
      "execution_count": null,
      "outputs": [
        {
          "output_type": "execute_result",
          "data": {
            "text/plain": [
              "30.0"
            ]
          },
          "metadata": {},
          "execution_count": 18
        }
      ]
    },
    {
      "cell_type": "code",
      "source": [
        "np.percentile(sentences_lengths, 95)"
      ],
      "metadata": {
        "colab": {
          "base_uri": "https://localhost:8080/"
        },
        "id": "yrfSlx75FRnA",
        "outputId": "15271bc3-3006-4575-b3dd-5ce2e77e3348"
      },
      "execution_count": null,
      "outputs": [
        {
          "output_type": "execute_result",
          "data": {
            "text/plain": [
              "42.0"
            ]
          },
          "metadata": {},
          "execution_count": 19
        }
      ]
    },
    {
      "cell_type": "code",
      "source": [
        ""
      ],
      "metadata": {
        "id": "N56UbB38FRqR"
      },
      "execution_count": null,
      "outputs": []
    },
    {
      "cell_type": "code",
      "source": [
        "max_len = np.percentile(sentences_lengths, 95)\n",
        "\n",
        "short_text = []\n",
        "\n",
        "for line in text:\n",
        "  if len(line.split()) <= max_len:\n",
        "    short_text.append(line)"
      ],
      "metadata": {
        "id": "XoNY6LQhRyQ9"
      },
      "execution_count": null,
      "outputs": []
    },
    {
      "cell_type": "code",
      "source": [
        "len(text), len(short_text)"
      ],
      "metadata": {
        "colab": {
          "base_uri": "https://localhost:8080/"
        },
        "id": "UFRnc2ETSJIx",
        "outputId": "a21898a6-b9d9-4d37-e7b6-0b1105e27769"
      },
      "execution_count": null,
      "outputs": [
        {
          "output_type": "execute_result",
          "data": {
            "text/plain": [
              "(70896, 67522)"
            ]
          },
          "metadata": {},
          "execution_count": 21
        }
      ]
    },
    {
      "cell_type": "code",
      "source": [
        "vocabulary = {}\n",
        "\n",
        "for line in short_text:\n",
        "  for word in line.split():\n",
        "    if word not in vocabulary:\n",
        "      vocabulary[word] = 1\n",
        "    else:\n",
        "      vocabulary[word] += 1"
      ],
      "metadata": {
        "id": "dM4GfFv4SK4f"
      },
      "execution_count": null,
      "outputs": []
    },
    {
      "cell_type": "code",
      "source": [
        "len(vocabulary)"
      ],
      "metadata": {
        "colab": {
          "base_uri": "https://localhost:8080/"
        },
        "id": "ijmAwP4BSOdi",
        "outputId": "c033d04d-0ae6-4bd5-a11f-d56165c35a7f"
      },
      "execution_count": null,
      "outputs": [
        {
          "output_type": "execute_result",
          "data": {
            "text/plain": [
              "25385"
            ]
          },
          "metadata": {},
          "execution_count": 23
        }
      ]
    },
    {
      "cell_type": "code",
      "source": [
        "threshold = 3\n",
        "count = 0\n",
        "\n",
        "for key, value in vocabulary.items():\n",
        "  if value >= threshold:\n",
        "    count += 1"
      ],
      "metadata": {
        "id": "QEIcg8_pSo-5"
      },
      "execution_count": null,
      "outputs": []
    },
    {
      "cell_type": "code",
      "source": [
        "count, len(vocabulary)"
      ],
      "metadata": {
        "colab": {
          "base_uri": "https://localhost:8080/"
        },
        "id": "PzmGNXhlTEhC",
        "outputId": "8967e8d6-6dad-41bd-ee49-976010ee8c79"
      },
      "execution_count": null,
      "outputs": [
        {
          "output_type": "execute_result",
          "data": {
            "text/plain": [
              "(9079, 25385)"
            ]
          },
          "metadata": {},
          "execution_count": 25
        }
      ]
    },
    {
      "cell_type": "code",
      "source": [
        ""
      ],
      "metadata": {
        "id": "6jgAMpoGTGT1"
      },
      "execution_count": null,
      "outputs": []
    },
    {
      "cell_type": "code",
      "source": [
        "source_vocab_to_int = {}\n",
        "\n",
        "word_count_source = 0\n",
        "for key, value in vocabulary.items():\n",
        "  if value >= threshold:\n",
        "    source_vocab_to_int[key] = word_count_source\n",
        "    word_count_source += 1\n",
        "\n",
        "target_vocab_to_int = {}\n",
        "\n",
        "word_count_target = 0\n",
        "for key, value in vocabulary.items():\n",
        "  if value >= threshold:\n",
        "    target_vocab_to_int[key] = word_count_target\n",
        "    word_count_target += 1"
      ],
      "metadata": {
        "id": "H18iJh8xUE0k"
      },
      "execution_count": null,
      "outputs": []
    },
    {
      "cell_type": "code",
      "source": [
        "len(source_vocab_to_int), len(target_vocab_to_int), word_count_source, word_count_target"
      ],
      "metadata": {
        "colab": {
          "base_uri": "https://localhost:8080/"
        },
        "id": "InGPAgiZUE-O",
        "outputId": "eacfe670-5f51-4cc1-e1f6-a6c1bb1da327"
      },
      "execution_count": null,
      "outputs": [
        {
          "output_type": "execute_result",
          "data": {
            "text/plain": [
              "(9079, 9079, 9079, 9079)"
            ]
          },
          "metadata": {},
          "execution_count": 27
        }
      ]
    },
    {
      "cell_type": "code",
      "source": [
        ""
      ],
      "metadata": {
        "id": "h5CDl2b4U3eI"
      },
      "execution_count": null,
      "outputs": []
    },
    {
      "cell_type": "code",
      "source": [
        "source_text = short_text[:-1]\n",
        "target_text = short_text[1:]"
      ],
      "metadata": {
        "id": "kIaSNmSbVHz7"
      },
      "execution_count": null,
      "outputs": []
    },
    {
      "cell_type": "code",
      "source": [
        "source_text[-1], target_text[-1]"
      ],
      "metadata": {
        "colab": {
          "base_uri": "https://localhost:8080/"
        },
        "id": "wdxLcE6aXpNz",
        "outputId": "8a328396-743b-4efd-d128-aa2ac68e1d8a"
      },
      "execution_count": null,
      "outputs": [
        {
          "output_type": "execute_result",
          "data": {
            "text/plain": [
              "('right right . does vodka count ?', 'dad !')"
            ]
          },
          "metadata": {},
          "execution_count": 29
        }
      ]
    },
    {
      "cell_type": "code",
      "source": [
        "source_text[0], target_text[0]"
      ],
      "metadata": {
        "colab": {
          "base_uri": "https://localhost:8080/"
        },
        "id": "n_NfJ4HAX2wi",
        "outputId": "35dfcd9b-99c4-4f20-b1b1-f3f5a3f72051"
      },
      "execution_count": null,
      "outputs": [
        {
          "output_type": "execute_result",
          "data": {
            "text/plain": [
              "('you guys , you guys ! chef is going away . ', 'going away ? for how long ?')"
            ]
          },
          "metadata": {},
          "execution_count": 30
        }
      ]
    },
    {
      "cell_type": "code",
      "source": [
        "source_text[1], target_text[1]"
      ],
      "metadata": {
        "colab": {
          "base_uri": "https://localhost:8080/"
        },
        "id": "tu4tjIl7X6Lf",
        "outputId": "f78bc165-9266-40a2-b663-ac2aa556f708"
      },
      "execution_count": null,
      "outputs": [
        {
          "output_type": "execute_result",
          "data": {
            "text/plain": [
              "('going away ? for how long ?', 'forever .')"
            ]
          },
          "metadata": {},
          "execution_count": 31
        }
      ]
    },
    {
      "cell_type": "code",
      "source": [
        ""
      ],
      "metadata": {
        "id": "Z8Yu8rPaYCTx"
      },
      "execution_count": null,
      "outputs": []
    },
    {
      "cell_type": "code",
      "source": [
        "tokens = [\"<PAD>\", \"<EOS>\", \"<SOS>\", \"<UNK>\"]\n",
        "\n",
        "for token in tokens:\n",
        "  source_vocab_to_int[token] = len(source_vocab_to_int) + 1\n",
        "  target_vocab_to_int[token] = len(target_vocab_to_int) + 1"
      ],
      "metadata": {
        "id": "NF-OtXcyYM8B"
      },
      "execution_count": null,
      "outputs": []
    },
    {
      "cell_type": "code",
      "source": [
        "len(source_vocab_to_int), len(target_vocab_to_int)"
      ],
      "metadata": {
        "colab": {
          "base_uri": "https://localhost:8080/"
        },
        "id": "_c5NPkzCddIi",
        "outputId": "3534ac08-38b1-452b-e183-551ae120fa86"
      },
      "execution_count": null,
      "outputs": [
        {
          "output_type": "execute_result",
          "data": {
            "text/plain": [
              "(9083, 9083)"
            ]
          },
          "metadata": {},
          "execution_count": 33
        }
      ]
    },
    {
      "cell_type": "code",
      "source": [
        ""
      ],
      "metadata": {
        "id": "F8MpLK9Tdipx"
      },
      "execution_count": null,
      "outputs": []
    },
    {
      "cell_type": "code",
      "source": [
        "source_int_to_vocab = {y:x for x,y in source_vocab_to_int.items()}\n",
        "target_int_to_vocab = {y:x for x,y in target_vocab_to_int.items()}"
      ],
      "metadata": {
        "id": "Qk3YA3YUdniF"
      },
      "execution_count": null,
      "outputs": []
    },
    {
      "cell_type": "code",
      "source": [
        "modified_target_text = []\n",
        "\n",
        "for sentence in range(len(target_text)):\n",
        "  new_sentence = \"<SOS> \" + target_text[sentence] + \" <EOS>\"\n",
        "  modified_target_text.append(new_sentence)"
      ],
      "metadata": {
        "id": "62Qz7Mwqdnmq"
      },
      "execution_count": null,
      "outputs": []
    },
    {
      "cell_type": "code",
      "source": [
        "modified_target_text[:10]"
      ],
      "metadata": {
        "colab": {
          "base_uri": "https://localhost:8080/"
        },
        "id": "NB4MnwmTdnqJ",
        "outputId": "291ba8ae-71c5-4661-e5e0-b90bd0c34980"
      },
      "execution_count": null,
      "outputs": [
        {
          "output_type": "execute_result",
          "data": {
            "text/plain": [
              "['<SOS> going away ? for how long ? <EOS>',\n",
              " '<SOS> forever . <EOS>',\n",
              " '<SOS> i am sorry boys . <EOS>',\n",
              " '<SOS> chef said he is been bored , so he joining a group called the super adventure club .  <EOS>',\n",
              " '<SOS> wow ! <EOS>',\n",
              " '<SOS> chef ? ? what kind of questions do you think adventuring around the world is gonna answer ? ! <EOS>',\n",
              " '<SOS> what is the meaning of life ? why are we here ? <EOS>',\n",
              " '<SOS> i hope you are making the right choice . <EOS>',\n",
              " '<SOS> i am gonna miss him .  i am gonna miss chef and i . . .and i do not know how to tell him !  <EOS>',\n",
              " '<SOS> dude , how are we gonna go on ? chef was our f . . .fffriend .  <EOS>']"
            ]
          },
          "metadata": {},
          "execution_count": 36
        }
      ]
    },
    {
      "cell_type": "code",
      "source": [
        ""
      ],
      "metadata": {
        "id": "qD139CkHLUbq"
      },
      "execution_count": null,
      "outputs": []
    },
    {
      "cell_type": "code",
      "source": [
        "source_int = []\n",
        "\n",
        "for line in source_text:\n",
        "  sentence = []\n",
        "  for word in line.split():\n",
        "    if word not in source_vocab_to_int:\n",
        "      sentence.append(source_vocab_to_int[\"<UNK>\"])\n",
        "    else:\n",
        "      sentence.append(source_vocab_to_int[word])\n",
        "  \n",
        "  source_int.append(sentence)"
      ],
      "metadata": {
        "id": "STpE_mR9LWx4"
      },
      "execution_count": null,
      "outputs": []
    },
    {
      "cell_type": "code",
      "source": [
        "target_int = []\n",
        "\n",
        "for line in modified_target_text:\n",
        "  sentence = [] \n",
        "  for word in line.split():\n",
        "    if word not in target_vocab_to_int:\n",
        "      sentence.append(target_vocab_to_int[\"<UNK>\"])\n",
        "    else:\n",
        "      sentence.append(target_vocab_to_int[word])\n",
        "    \n",
        "  target_int.append(sentence)"
      ],
      "metadata": {
        "id": "erD40UmUMBMk"
      },
      "execution_count": null,
      "outputs": []
    },
    {
      "cell_type": "code",
      "source": [
        "source_int[:2]"
      ],
      "metadata": {
        "colab": {
          "base_uri": "https://localhost:8080/"
        },
        "id": "RFRTAHkwMVa2",
        "outputId": "09844b2f-9b6b-4eb2-c92e-457435dbc20c"
      },
      "execution_count": null,
      "outputs": [
        {
          "output_type": "execute_result",
          "data": {
            "text/plain": [
              "[[0, 1, 2, 0, 1, 3, 4, 5, 6, 7, 8], [6, 7, 9, 10, 11, 12, 9]]"
            ]
          },
          "metadata": {},
          "execution_count": 39
        }
      ]
    },
    {
      "cell_type": "code",
      "source": [
        "target_int[:2]"
      ],
      "metadata": {
        "colab": {
          "base_uri": "https://localhost:8080/"
        },
        "id": "EVPeLpNFMW2X",
        "outputId": "5f0bed15-322c-4015-9c6e-2c8bc2347dbc"
      },
      "execution_count": null,
      "outputs": [
        {
          "output_type": "execute_result",
          "data": {
            "text/plain": [
              "[[9082, 6, 7, 9, 10, 11, 12, 9, 9081], [9082, 13, 8, 9081]]"
            ]
          },
          "metadata": {},
          "execution_count": 40
        }
      ]
    },
    {
      "cell_type": "code",
      "source": [
        ""
      ],
      "metadata": {
        "id": "tFdNwDUdMYYI"
      },
      "execution_count": null,
      "outputs": []
    },
    {
      "cell_type": "markdown",
      "source": [
        "#### Preparing the data to feed the model"
      ],
      "metadata": {
        "id": "D3Yuy4-LPhuV"
      }
    },
    {
      "cell_type": "code",
      "source": [
        "# encoder_input_data = np.zeros((len(source_text), 42, len(source_vocab_to_int)))\n",
        "\n",
        "# encoder_input_data = np.zeros((32, 42, len(source_vocab_to_int)))\n",
        "# decoder_input_data = np.zeros((32, 42, len(target_vocab_to_int)))\n",
        "# decoder_output_data = np.zeros((32, 42, len(target_vocab_to_int)))"
      ],
      "metadata": {
        "id": "BNQnAt_SPmA8"
      },
      "execution_count": null,
      "outputs": []
    },
    {
      "cell_type": "code",
      "source": [
        "source_text_sample = source_text[:5]\n",
        "target_text_sample = target_text[:5]\n",
        "\n",
        "new_source_dict = {}\n",
        "new_target_dict = {}\n",
        "\n",
        "count_source = 1\n",
        "for sentence in source_text_sample:\n",
        "  for word in sentence.split():\n",
        "    if word not in new_source_dict:\n",
        "      new_source_dict[word] = count_source\n",
        "      count_source += 1\n",
        "    else:\n",
        "      continue\n",
        "\n",
        "count_target = 1\n",
        "for sentence in target_text_sample:\n",
        "  for word in sentence.split():\n",
        "    if word not in new_target_dict:\n",
        "      new_target_dict[word] = count_target\n",
        "      count_target += 1\n",
        "    else:\n",
        "      continue"
      ],
      "metadata": {
        "id": "kkpSqSH2QT6F"
      },
      "execution_count": null,
      "outputs": []
    },
    {
      "cell_type": "code",
      "source": [
        "source_text_sample, target_text_sample"
      ],
      "metadata": {
        "colab": {
          "base_uri": "https://localhost:8080/"
        },
        "id": "Taemma_7RdH3",
        "outputId": "469b56ce-7dcc-455b-8b44-6d4e68d287a8"
      },
      "execution_count": null,
      "outputs": [
        {
          "output_type": "execute_result",
          "data": {
            "text/plain": [
              "(['you guys , you guys ! chef is going away . ',\n",
              "  'going away ? for how long ?',\n",
              "  'forever .',\n",
              "  'i am sorry boys .',\n",
              "  'chef said he is been bored , so he joining a group called the super adventure club . '],\n",
              " ['going away ? for how long ?',\n",
              "  'forever .',\n",
              "  'i am sorry boys .',\n",
              "  'chef said he is been bored , so he joining a group called the super adventure club . ',\n",
              "  'wow !'])"
            ]
          },
          "metadata": {},
          "execution_count": 70
        }
      ]
    },
    {
      "cell_type": "code",
      "source": [
        "new_source_dict"
      ],
      "metadata": {
        "colab": {
          "base_uri": "https://localhost:8080/"
        },
        "id": "FSfBkTQpRdEq",
        "outputId": "ef3008fb-25c6-474d-a25a-792b7c229d3d"
      },
      "execution_count": null,
      "outputs": [
        {
          "output_type": "execute_result",
          "data": {
            "text/plain": [
              "{'!': 4,\n",
              " ',': 3,\n",
              " '.': 9,\n",
              " '?': 10,\n",
              " 'a': 25,\n",
              " 'adventure': 30,\n",
              " 'am': 16,\n",
              " 'away': 8,\n",
              " 'been': 21,\n",
              " 'bored': 22,\n",
              " 'boys': 18,\n",
              " 'called': 27,\n",
              " 'chef': 5,\n",
              " 'club': 31,\n",
              " 'for': 11,\n",
              " 'forever': 14,\n",
              " 'going': 7,\n",
              " 'group': 26,\n",
              " 'guys': 2,\n",
              " 'he': 20,\n",
              " 'how': 12,\n",
              " 'i': 15,\n",
              " 'is': 6,\n",
              " 'joining': 24,\n",
              " 'long': 13,\n",
              " 'said': 19,\n",
              " 'so': 23,\n",
              " 'sorry': 17,\n",
              " 'super': 29,\n",
              " 'the': 28,\n",
              " 'you': 1}"
            ]
          },
          "metadata": {},
          "execution_count": 71
        }
      ]
    },
    {
      "cell_type": "code",
      "source": [
        "new_target_dict"
      ],
      "metadata": {
        "colab": {
          "base_uri": "https://localhost:8080/"
        },
        "id": "AGicP2rHRdBB",
        "outputId": "240eb8ec-0d9b-4582-d0e9-3313df8342e5"
      },
      "execution_count": null,
      "outputs": [
        {
          "output_type": "execute_result",
          "data": {
            "text/plain": [
              "{'!': 30,\n",
              " ',': 19,\n",
              " '.': 8,\n",
              " '?': 3,\n",
              " 'a': 22,\n",
              " 'adventure': 27,\n",
              " 'am': 10,\n",
              " 'away': 2,\n",
              " 'been': 17,\n",
              " 'bored': 18,\n",
              " 'boys': 12,\n",
              " 'called': 24,\n",
              " 'chef': 13,\n",
              " 'club': 28,\n",
              " 'for': 4,\n",
              " 'forever': 7,\n",
              " 'going': 1,\n",
              " 'group': 23,\n",
              " 'he': 15,\n",
              " 'how': 5,\n",
              " 'i': 9,\n",
              " 'is': 16,\n",
              " 'joining': 21,\n",
              " 'long': 6,\n",
              " 'said': 14,\n",
              " 'so': 20,\n",
              " 'sorry': 11,\n",
              " 'super': 26,\n",
              " 'the': 25,\n",
              " 'wow': 29}"
            ]
          },
          "metadata": {},
          "execution_count": 72
        }
      ]
    },
    {
      "cell_type": "code",
      "source": [
        "max_len_sample_source = 0\n",
        "max_len_sample_target = 0\n",
        "\n",
        "for sentence in source_text_sample:\n",
        "  if len(sentence.split()) >= max_len_sample_source:\n",
        "    max_len_sample_source = len(sentence.split())\n",
        "\n",
        "for sentence in target_text_sample:\n",
        "  if len(sentence.split()) >= max_len_sample_target:\n",
        "    max_len_sample_target = len(sentence.split())"
      ],
      "metadata": {
        "id": "a4jRviyjSGSr"
      },
      "execution_count": null,
      "outputs": []
    },
    {
      "cell_type": "code",
      "source": [
        "max_len_sample_source, max_len_sample_target"
      ],
      "metadata": {
        "colab": {
          "base_uri": "https://localhost:8080/"
        },
        "id": "fhmZiieiSsEO",
        "outputId": "5b8ec920-e9f5-4b24-e5e0-cb1ba028a58c"
      },
      "execution_count": null,
      "outputs": [
        {
          "output_type": "execute_result",
          "data": {
            "text/plain": [
              "(18, 18)"
            ]
          },
          "metadata": {},
          "execution_count": 74
        }
      ]
    },
    {
      "cell_type": "code",
      "source": [
        "encoder_input_data_sample = np.zeros((len(source_text_sample), max_len_sample_source, len(new_source_dict)+1))\n",
        "decoder_input_data_sample = np.zeros((len(target_text_sample), max_len_sample_target, len(new_target_dict)+1))\n",
        "decoder_output_data_sample = np.zeros((len(target_text_sample), max_len_sample_target, len(new_target_dict)+1))"
      ],
      "metadata": {
        "id": "SCdnLR-xSCXF"
      },
      "execution_count": null,
      "outputs": []
    },
    {
      "cell_type": "code",
      "source": [
        ""
      ],
      "metadata": {
        "id": "KsIgyTj5Rc1T"
      },
      "execution_count": null,
      "outputs": []
    },
    {
      "cell_type": "code",
      "source": [
        "for line, (input_line, target_line) in enumerate(zip(source_text_sample, target_text_sample)):\n",
        "\n",
        "    for timestep, token in enumerate(re.findall(r\"[\\w']+|[^\\s\\w]\", input_line)):\n",
        "        \n",
        "      encoder_input_data_sample[line, timestep, new_source_dict[token]] = 1\n",
        "    \n",
        "    for timestep, token in enumerate(target_line.split()):\n",
        "\n",
        "      decoder_input_data_sample[line, timestep, new_target_dict[token]] = 1\n",
        "      if timestep > 0:\n",
        "          decoder_output_data_sample[line, timestep - 1, new_target_dict[token]] = 1"
      ],
      "metadata": {
        "id": "9iD9d5t0P9yy"
      },
      "execution_count": null,
      "outputs": []
    },
    {
      "cell_type": "code",
      "source": [
        "re.findall(r\"[\\w']+|[^\\s\\w]\", \"hello how are you\")"
      ],
      "metadata": {
        "colab": {
          "base_uri": "https://localhost:8080/"
        },
        "id": "g9921T4ZY2c0",
        "outputId": "218ee213-85f7-4694-d26a-bd638455c6f1"
      },
      "execution_count": null,
      "outputs": [
        {
          "output_type": "execute_result",
          "data": {
            "text/plain": [
              "['hello', 'how', 'are', 'you']"
            ]
          },
          "metadata": {},
          "execution_count": 98
        }
      ]
    },
    {
      "cell_type": "code",
      "source": [
        "encoder_input_data_sample[0]"
      ],
      "metadata": {
        "colab": {
          "base_uri": "https://localhost:8080/"
        },
        "id": "k4hRyt5mIIy4",
        "outputId": "7ff39e8f-bec0-421a-8fbf-0d7344423ad9"
      },
      "execution_count": null,
      "outputs": [
        {
          "output_type": "execute_result",
          "data": {
            "text/plain": [
              "array([[0., 1., 0., 0., 0., 0., 0., 0., 0., 0., 0., 0., 0., 0., 0., 0.,\n",
              "        0., 0., 0., 0., 0., 0., 0., 0., 0., 0., 0., 0., 0., 0., 0., 0.],\n",
              "       [0., 0., 1., 0., 0., 0., 0., 0., 0., 0., 0., 0., 0., 0., 0., 0.,\n",
              "        0., 0., 0., 0., 0., 0., 0., 0., 0., 0., 0., 0., 0., 0., 0., 0.],\n",
              "       [0., 0., 0., 1., 0., 0., 0., 0., 0., 0., 0., 0., 0., 0., 0., 0.,\n",
              "        0., 0., 0., 0., 0., 0., 0., 0., 0., 0., 0., 0., 0., 0., 0., 0.],\n",
              "       [0., 1., 0., 0., 0., 0., 0., 0., 0., 0., 0., 0., 0., 0., 0., 0.,\n",
              "        0., 0., 0., 0., 0., 0., 0., 0., 0., 0., 0., 0., 0., 0., 0., 0.],\n",
              "       [0., 0., 1., 0., 0., 0., 0., 0., 0., 0., 0., 0., 0., 0., 0., 0.,\n",
              "        0., 0., 0., 0., 0., 0., 0., 0., 0., 0., 0., 0., 0., 0., 0., 0.],\n",
              "       [0., 0., 0., 0., 1., 0., 0., 0., 0., 0., 0., 0., 0., 0., 0., 0.,\n",
              "        0., 0., 0., 0., 0., 0., 0., 0., 0., 0., 0., 0., 0., 0., 0., 0.],\n",
              "       [0., 0., 0., 0., 0., 1., 0., 0., 0., 0., 0., 0., 0., 0., 0., 0.,\n",
              "        0., 0., 0., 0., 0., 0., 0., 0., 0., 0., 0., 0., 0., 0., 0., 0.],\n",
              "       [0., 0., 0., 0., 0., 0., 1., 0., 0., 0., 0., 0., 0., 0., 0., 0.,\n",
              "        0., 0., 0., 0., 0., 0., 0., 0., 0., 0., 0., 0., 0., 0., 0., 0.],\n",
              "       [0., 0., 0., 0., 0., 0., 0., 1., 0., 0., 0., 0., 0., 0., 0., 0.,\n",
              "        0., 0., 0., 0., 0., 0., 0., 0., 0., 0., 0., 0., 0., 0., 0., 0.],\n",
              "       [0., 0., 0., 0., 0., 0., 0., 0., 1., 0., 0., 0., 0., 0., 0., 0.,\n",
              "        0., 0., 0., 0., 0., 0., 0., 0., 0., 0., 0., 0., 0., 0., 0., 0.],\n",
              "       [0., 0., 0., 0., 0., 0., 0., 0., 0., 1., 0., 0., 0., 0., 0., 0.,\n",
              "        0., 0., 0., 0., 0., 0., 0., 0., 0., 0., 0., 0., 0., 0., 0., 0.],\n",
              "       [0., 0., 0., 0., 0., 0., 0., 0., 0., 0., 0., 0., 0., 0., 0., 0.,\n",
              "        0., 0., 0., 0., 0., 0., 0., 0., 0., 0., 0., 0., 0., 0., 0., 0.],\n",
              "       [0., 0., 0., 0., 0., 0., 0., 0., 0., 0., 0., 0., 0., 0., 0., 0.,\n",
              "        0., 0., 0., 0., 0., 0., 0., 0., 0., 0., 0., 0., 0., 0., 0., 0.],\n",
              "       [0., 0., 0., 0., 0., 0., 0., 0., 0., 0., 0., 0., 0., 0., 0., 0.,\n",
              "        0., 0., 0., 0., 0., 0., 0., 0., 0., 0., 0., 0., 0., 0., 0., 0.],\n",
              "       [0., 0., 0., 0., 0., 0., 0., 0., 0., 0., 0., 0., 0., 0., 0., 0.,\n",
              "        0., 0., 0., 0., 0., 0., 0., 0., 0., 0., 0., 0., 0., 0., 0., 0.],\n",
              "       [0., 0., 0., 0., 0., 0., 0., 0., 0., 0., 0., 0., 0., 0., 0., 0.,\n",
              "        0., 0., 0., 0., 0., 0., 0., 0., 0., 0., 0., 0., 0., 0., 0., 0.],\n",
              "       [0., 0., 0., 0., 0., 0., 0., 0., 0., 0., 0., 0., 0., 0., 0., 0.,\n",
              "        0., 0., 0., 0., 0., 0., 0., 0., 0., 0., 0., 0., 0., 0., 0., 0.],\n",
              "       [0., 0., 0., 0., 0., 0., 0., 0., 0., 0., 0., 0., 0., 0., 0., 0.,\n",
              "        0., 0., 0., 0., 0., 0., 0., 0., 0., 0., 0., 0., 0., 0., 0., 0.]])"
            ]
          },
          "metadata": {},
          "execution_count": 97
        }
      ]
    },
    {
      "cell_type": "code",
      "source": [
        "decoder_input_data_sample[0]"
      ],
      "metadata": {
        "colab": {
          "base_uri": "https://localhost:8080/"
        },
        "id": "G01uWnRsII6Y",
        "outputId": "72d87b5a-b9b9-43c4-fc18-078a1054b164"
      },
      "execution_count": null,
      "outputs": [
        {
          "output_type": "execute_result",
          "data": {
            "text/plain": [
              "array([[0., 1., 0., 0., 0., 0., 0., 0., 0., 0., 0., 0., 0., 0., 0., 0.,\n",
              "        0., 0., 0., 0., 0., 0., 0., 0., 0., 0., 0., 0., 0., 0., 0.],\n",
              "       [0., 0., 1., 0., 0., 0., 0., 0., 0., 0., 0., 0., 0., 0., 0., 0.,\n",
              "        0., 0., 0., 0., 0., 0., 0., 0., 0., 0., 0., 0., 0., 0., 0.],\n",
              "       [0., 0., 0., 1., 0., 0., 0., 0., 0., 0., 0., 0., 0., 0., 0., 0.,\n",
              "        0., 0., 0., 0., 0., 0., 0., 0., 0., 0., 0., 0., 0., 0., 0.],\n",
              "       [0., 0., 0., 0., 1., 0., 0., 0., 0., 0., 0., 0., 0., 0., 0., 0.,\n",
              "        0., 0., 0., 0., 0., 0., 0., 0., 0., 0., 0., 0., 0., 0., 0.],\n",
              "       [0., 0., 0., 0., 0., 1., 0., 0., 0., 0., 0., 0., 0., 0., 0., 0.,\n",
              "        0., 0., 0., 0., 0., 0., 0., 0., 0., 0., 0., 0., 0., 0., 0.],\n",
              "       [0., 0., 0., 0., 0., 0., 1., 0., 0., 0., 0., 0., 0., 0., 0., 0.,\n",
              "        0., 0., 0., 0., 0., 0., 0., 0., 0., 0., 0., 0., 0., 0., 0.],\n",
              "       [0., 0., 0., 1., 0., 0., 0., 0., 0., 0., 0., 0., 0., 0., 0., 0.,\n",
              "        0., 0., 0., 0., 0., 0., 0., 0., 0., 0., 0., 0., 0., 0., 0.],\n",
              "       [0., 0., 0., 0., 0., 0., 0., 0., 0., 0., 0., 0., 0., 0., 0., 0.,\n",
              "        0., 0., 0., 0., 0., 0., 0., 0., 0., 0., 0., 0., 0., 0., 0.],\n",
              "       [0., 0., 0., 0., 0., 0., 0., 0., 0., 0., 0., 0., 0., 0., 0., 0.,\n",
              "        0., 0., 0., 0., 0., 0., 0., 0., 0., 0., 0., 0., 0., 0., 0.],\n",
              "       [0., 0., 0., 0., 0., 0., 0., 0., 0., 0., 0., 0., 0., 0., 0., 0.,\n",
              "        0., 0., 0., 0., 0., 0., 0., 0., 0., 0., 0., 0., 0., 0., 0.],\n",
              "       [0., 0., 0., 0., 0., 0., 0., 0., 0., 0., 0., 0., 0., 0., 0., 0.,\n",
              "        0., 0., 0., 0., 0., 0., 0., 0., 0., 0., 0., 0., 0., 0., 0.],\n",
              "       [0., 0., 0., 0., 0., 0., 0., 0., 0., 0., 0., 0., 0., 0., 0., 0.,\n",
              "        0., 0., 0., 0., 0., 0., 0., 0., 0., 0., 0., 0., 0., 0., 0.],\n",
              "       [0., 0., 0., 0., 0., 0., 0., 0., 0., 0., 0., 0., 0., 0., 0., 0.,\n",
              "        0., 0., 0., 0., 0., 0., 0., 0., 0., 0., 0., 0., 0., 0., 0.],\n",
              "       [0., 0., 0., 0., 0., 0., 0., 0., 0., 0., 0., 0., 0., 0., 0., 0.,\n",
              "        0., 0., 0., 0., 0., 0., 0., 0., 0., 0., 0., 0., 0., 0., 0.],\n",
              "       [0., 0., 0., 0., 0., 0., 0., 0., 0., 0., 0., 0., 0., 0., 0., 0.,\n",
              "        0., 0., 0., 0., 0., 0., 0., 0., 0., 0., 0., 0., 0., 0., 0.],\n",
              "       [0., 0., 0., 0., 0., 0., 0., 0., 0., 0., 0., 0., 0., 0., 0., 0.,\n",
              "        0., 0., 0., 0., 0., 0., 0., 0., 0., 0., 0., 0., 0., 0., 0.],\n",
              "       [0., 0., 0., 0., 0., 0., 0., 0., 0., 0., 0., 0., 0., 0., 0., 0.,\n",
              "        0., 0., 0., 0., 0., 0., 0., 0., 0., 0., 0., 0., 0., 0., 0.],\n",
              "       [0., 0., 0., 0., 0., 0., 0., 0., 0., 0., 0., 0., 0., 0., 0., 0.,\n",
              "        0., 0., 0., 0., 0., 0., 0., 0., 0., 0., 0., 0., 0., 0., 0.]])"
            ]
          },
          "metadata": {},
          "execution_count": 94
        }
      ]
    },
    {
      "cell_type": "code",
      "source": [
        "decoder_output_data_sample[0]"
      ],
      "metadata": {
        "colab": {
          "base_uri": "https://localhost:8080/"
        },
        "id": "aYq4BL7aPm2q",
        "outputId": "fa5f3e24-eabc-42ac-c53b-1ce5608d8739"
      },
      "execution_count": null,
      "outputs": [
        {
          "output_type": "execute_result",
          "data": {
            "text/plain": [
              "array([[0., 0., 1., 0., 0., 0., 0., 0., 0., 0., 0., 0., 0., 0., 0., 0.,\n",
              "        0., 0., 0., 0., 0., 0., 0., 0., 0., 0., 0., 0., 0., 0., 0.],\n",
              "       [0., 0., 0., 1., 0., 0., 0., 0., 0., 0., 0., 0., 0., 0., 0., 0.,\n",
              "        0., 0., 0., 0., 0., 0., 0., 0., 0., 0., 0., 0., 0., 0., 0.],\n",
              "       [0., 0., 0., 0., 1., 0., 0., 0., 0., 0., 0., 0., 0., 0., 0., 0.,\n",
              "        0., 0., 0., 0., 0., 0., 0., 0., 0., 0., 0., 0., 0., 0., 0.],\n",
              "       [0., 0., 0., 0., 0., 1., 0., 0., 0., 0., 0., 0., 0., 0., 0., 0.,\n",
              "        0., 0., 0., 0., 0., 0., 0., 0., 0., 0., 0., 0., 0., 0., 0.],\n",
              "       [0., 0., 0., 0., 0., 0., 1., 0., 0., 0., 0., 0., 0., 0., 0., 0.,\n",
              "        0., 0., 0., 0., 0., 0., 0., 0., 0., 0., 0., 0., 0., 0., 0.],\n",
              "       [0., 0., 0., 1., 0., 0., 0., 0., 0., 0., 0., 0., 0., 0., 0., 0.,\n",
              "        0., 0., 0., 0., 0., 0., 0., 0., 0., 0., 0., 0., 0., 0., 0.],\n",
              "       [0., 0., 0., 0., 0., 0., 0., 0., 0., 0., 0., 0., 0., 0., 0., 0.,\n",
              "        0., 0., 0., 0., 0., 0., 0., 0., 0., 0., 0., 0., 0., 0., 0.],\n",
              "       [0., 0., 0., 0., 0., 0., 0., 0., 0., 0., 0., 0., 0., 0., 0., 0.,\n",
              "        0., 0., 0., 0., 0., 0., 0., 0., 0., 0., 0., 0., 0., 0., 0.],\n",
              "       [0., 0., 0., 0., 0., 0., 0., 0., 0., 0., 0., 0., 0., 0., 0., 0.,\n",
              "        0., 0., 0., 0., 0., 0., 0., 0., 0., 0., 0., 0., 0., 0., 0.],\n",
              "       [0., 0., 0., 0., 0., 0., 0., 0., 0., 0., 0., 0., 0., 0., 0., 0.,\n",
              "        0., 0., 0., 0., 0., 0., 0., 0., 0., 0., 0., 0., 0., 0., 0.],\n",
              "       [0., 0., 0., 0., 0., 0., 0., 0., 0., 0., 0., 0., 0., 0., 0., 0.,\n",
              "        0., 0., 0., 0., 0., 0., 0., 0., 0., 0., 0., 0., 0., 0., 0.],\n",
              "       [0., 0., 0., 0., 0., 0., 0., 0., 0., 0., 0., 0., 0., 0., 0., 0.,\n",
              "        0., 0., 0., 0., 0., 0., 0., 0., 0., 0., 0., 0., 0., 0., 0.],\n",
              "       [0., 0., 0., 0., 0., 0., 0., 0., 0., 0., 0., 0., 0., 0., 0., 0.,\n",
              "        0., 0., 0., 0., 0., 0., 0., 0., 0., 0., 0., 0., 0., 0., 0.],\n",
              "       [0., 0., 0., 0., 0., 0., 0., 0., 0., 0., 0., 0., 0., 0., 0., 0.,\n",
              "        0., 0., 0., 0., 0., 0., 0., 0., 0., 0., 0., 0., 0., 0., 0.],\n",
              "       [0., 0., 0., 0., 0., 0., 0., 0., 0., 0., 0., 0., 0., 0., 0., 0.,\n",
              "        0., 0., 0., 0., 0., 0., 0., 0., 0., 0., 0., 0., 0., 0., 0.],\n",
              "       [0., 0., 0., 0., 0., 0., 0., 0., 0., 0., 0., 0., 0., 0., 0., 0.,\n",
              "        0., 0., 0., 0., 0., 0., 0., 0., 0., 0., 0., 0., 0., 0., 0.],\n",
              "       [0., 0., 0., 0., 0., 0., 0., 0., 0., 0., 0., 0., 0., 0., 0., 0.,\n",
              "        0., 0., 0., 0., 0., 0., 0., 0., 0., 0., 0., 0., 0., 0., 0.],\n",
              "       [0., 0., 0., 0., 0., 0., 0., 0., 0., 0., 0., 0., 0., 0., 0., 0.,\n",
              "        0., 0., 0., 0., 0., 0., 0., 0., 0., 0., 0., 0., 0., 0., 0.]])"
            ]
          },
          "metadata": {},
          "execution_count": 95
        }
      ]
    },
    {
      "cell_type": "code",
      "source": [
        ""
      ],
      "metadata": {
        "id": "zA-lkDamPnMj"
      },
      "execution_count": null,
      "outputs": []
    },
    {
      "cell_type": "code",
      "source": [
        "encoder_input_data_batches = []\n",
        "decoder_input_data_batches = []\n",
        "decoder_output_data_batches = []"
      ],
      "metadata": {
        "id": "8EhSHHTChAsF"
      },
      "execution_count": null,
      "outputs": []
    },
    {
      "cell_type": "code",
      "source": [
        "count_var = 0\n",
        "batches_encoder = 0\n",
        "while count_var <= len(source_text)-1:\n",
        "  encoder_inp = np.zeros((count_var+32, 42, len(source_int_to_vocab)))\n",
        "  encoder_input_data_batches.append(encoder_inp)\n",
        "  count_var += 32\n",
        "  batches_encoder += 1"
      ],
      "metadata": {
        "id": "IadgahOMhAoM"
      },
      "execution_count": null,
      "outputs": []
    },
    {
      "cell_type": "code",
      "source": [
        ""
      ],
      "metadata": {
        "id": "QKuwNc-shAmS"
      },
      "execution_count": null,
      "outputs": []
    },
    {
      "cell_type": "markdown",
      "source": [
        "#### Downsampling the source text and target text and recreating the vocabulary dictionaries "
      ],
      "metadata": {
        "id": "dzYek02thAdw"
      }
    },
    {
      "cell_type": "code",
      "source": [
        "selected_samples = random.sample(list(range(0, len(source_text))), 5000)"
      ],
      "metadata": {
        "id": "iPJXBrNEhAa2"
      },
      "execution_count": null,
      "outputs": []
    },
    {
      "cell_type": "code",
      "source": [
        "source_text_downsampled = []\n",
        "target_text_downsampled = []\n",
        "\n",
        "for x in selected_samples:\n",
        "  source_text_downsampled.append(source_text[x])\n",
        "  target_text_downsampled.append(target_text[x])"
      ],
      "metadata": {
        "id": "_Xvy08vGp9C9"
      },
      "execution_count": null,
      "outputs": []
    },
    {
      "cell_type": "code",
      "source": [
        "len(source_text_downsampled), len(target_text_downsampled)"
      ],
      "metadata": {
        "colab": {
          "base_uri": "https://localhost:8080/"
        },
        "id": "j2RlmfelqDry",
        "outputId": "8f17dfda-3e2d-4aa1-9880-be8877fe1587"
      },
      "execution_count": null,
      "outputs": [
        {
          "output_type": "execute_result",
          "data": {
            "text/plain": [
              "(5000, 5000)"
            ]
          },
          "metadata": {},
          "execution_count": 43
        }
      ]
    },
    {
      "cell_type": "markdown",
      "source": [
        "##### Trying the tokenizer way and making use of the PAD token\n"
      ],
      "metadata": {
        "id": "qkGK7ysjjnQ4"
      }
    },
    {
      "cell_type": "markdown",
      "source": [
        "###### Preparing the input data for Encoder `(encoder_input_data)`\n",
        "\n",
        "1. tokenizing the sentences in `source_text`\n",
        "2. finding the maximum length for `encoder_input_data`\n",
        "3. **Padding the `tokenized_source_text` to maximum length**\n",
        "4. Finding the vocabulary size for the source text"
      ],
      "metadata": {
        "id": "j_x31xaUlnWN"
      }
    },
    {
      "cell_type": "code",
      "source": [
        "source_tokenizer = keras.preprocessing.text.Tokenizer()\n",
        "source_tokenizer.fit_on_texts(source_text_downsampled)\n",
        "tokenized_source_text = source_tokenizer.texts_to_sequences(source_text_downsampled)"
      ],
      "metadata": {
        "id": "M6Rn6pAilnSB"
      },
      "execution_count": null,
      "outputs": []
    },
    {
      "cell_type": "code",
      "source": [
        "print(tokenized_source_text[:3], sep=\"\\n\")"
      ],
      "metadata": {
        "colab": {
          "base_uri": "https://localhost:8080/"
        },
        "id": "eMuqYSXXnkka",
        "outputId": "33b8644a-477c-450b-a5cf-7371b80bb434"
      },
      "execution_count": null,
      "outputs": [
        {
          "output_type": "stream",
          "name": "stdout",
          "text": [
            "[[164, 1541, 1164, 45, 120, 39, 68, 8, 45, 31, 7, 291, 16, 99, 81, 164, 8, 45], [221, 11, 182, 3, 4, 1542, 182, 18, 4, 1165], [324, 1543, 18, 20, 2466, 2467, 9, 29, 440, 5, 57, 25, 1543, 2468]]\n"
          ]
        }
      ]
    },
    {
      "cell_type": "code",
      "source": [
        "max_length_source_text_downsampled = 0\n",
        "\n",
        "for sentence in tokenized_source_text:\n",
        "  if len(sentence) >= max_length_source_text_downsampled:\n",
        "    max_length_source_text_downsampled = len(sentence)"
      ],
      "metadata": {
        "id": "7BYBvK1wlnLj"
      },
      "execution_count": null,
      "outputs": []
    },
    {
      "cell_type": "code",
      "source": [
        "max_length_source_text_downsampled"
      ],
      "metadata": {
        "colab": {
          "base_uri": "https://localhost:8080/"
        },
        "id": "e4nAQmCilnIz",
        "outputId": "45cc8929-c660-47dd-a53d-9ac1c04ce523"
      },
      "execution_count": null,
      "outputs": [
        {
          "output_type": "execute_result",
          "data": {
            "text/plain": [
              "38"
            ]
          },
          "metadata": {},
          "execution_count": 47
        }
      ]
    },
    {
      "cell_type": "code",
      "source": [
        "padded_source_text_downsampled = keras.preprocessing.sequence.pad_sequences(tokenized_source_text, \n",
        "                                  maxlen=max_length_source_text_downsampled, padding=\"post\")\n",
        "encoder_input_data_ds = np.array(padded_source_text_downsampled)"
      ],
      "metadata": {
        "id": "AVovFWS4oHNe"
      },
      "execution_count": null,
      "outputs": []
    },
    {
      "cell_type": "code",
      "source": [
        "encoder_input_data_ds.shape"
      ],
      "metadata": {
        "colab": {
          "base_uri": "https://localhost:8080/"
        },
        "id": "Er_M1daLoHKB",
        "outputId": "be651496-dad0-40e1-c71a-c495f19b627d"
      },
      "execution_count": null,
      "outputs": [
        {
          "output_type": "execute_result",
          "data": {
            "text/plain": [
              "(5000, 38)"
            ]
          },
          "metadata": {},
          "execution_count": 49
        }
      ]
    },
    {
      "cell_type": "code",
      "source": [
        "encoder_input_data_ds[0]"
      ],
      "metadata": {
        "colab": {
          "base_uri": "https://localhost:8080/"
        },
        "id": "sD94BZiRoHG7",
        "outputId": "75af54d4-4b94-43ed-e8a8-22d190030242"
      },
      "execution_count": null,
      "outputs": [
        {
          "output_type": "execute_result",
          "data": {
            "text/plain": [
              "array([ 164, 1541, 1164,   45,  120,   39,   68,    8,   45,   31,    7,\n",
              "        291,   16,   99,   81,  164,    8,   45,    0,    0,    0,    0,\n",
              "          0,    0,    0,    0,    0,    0,    0,    0,    0,    0,    0,\n",
              "          0,    0,    0,    0,    0], dtype=int32)"
            ]
          },
          "metadata": {},
          "execution_count": 50
        }
      ]
    },
    {
      "cell_type": "code",
      "source": [
        "source_text_downsampled_vocab_dict = source_tokenizer.word_index\n",
        "num_encoder_tokens = len(source_text_downsampled_vocab_dict) + 1"
      ],
      "metadata": {
        "id": "37uDc94QoHC_"
      },
      "execution_count": null,
      "outputs": []
    },
    {
      "cell_type": "code",
      "source": [
        "num_encoder_tokens"
      ],
      "metadata": {
        "colab": {
          "base_uri": "https://localhost:8080/"
        },
        "id": "97eRKlbtoG_t",
        "outputId": "4fc5ba5e-7448-452d-e263-465c7b67dae4"
      },
      "execution_count": null,
      "outputs": [
        {
          "output_type": "execute_result",
          "data": {
            "text/plain": [
              "5902"
            ]
          },
          "metadata": {},
          "execution_count": 52
        }
      ]
    },
    {
      "cell_type": "markdown",
      "source": [
        "###### Preparing input data for the decoder `(decoder_input_data)`\n",
        "\n",
        "1. Append `<START>` token at the start of each sentence and `<END>` token at the end of each sentence \n",
        "2. tokenizing the sentence in `target_text`\n",
        "3. finding the maximum length for `decoder_input_data`\n",
        "4. **Padding the `tokenized_target_text` to maximum length**\n",
        "5. Finding the vocbulary size for the target text"
      ],
      "metadata": {
        "id": "cTnkbJoboG8M"
      }
    },
    {
      "cell_type": "code",
      "source": [
        "modified_target_text_downsampled = []\n",
        "\n",
        "for line in target_text_downsampled:\n",
        "  sent = \"<START> \" + line + \" <END>\"\n",
        "  modified_target_text_downsampled.append(sent)"
      ],
      "metadata": {
        "id": "2Qfyi9QroG5W"
      },
      "execution_count": null,
      "outputs": []
    },
    {
      "cell_type": "code",
      "source": [
        "modified_target_text_downsampled[:4]"
      ],
      "metadata": {
        "colab": {
          "base_uri": "https://localhost:8080/"
        },
        "id": "j20iCENEqNNw",
        "outputId": "90020ab6-6ff9-4fa1-dcb1-f92253a4ce97"
      },
      "execution_count": null,
      "outputs": [
        {
          "output_type": "execute_result",
          "data": {
            "text/plain": [
              "['<START> ngoh .  <END>',\n",
              " '<START> pamphlet . pamphlet . here you go , kids ,  take a pamphlet .  <END>',\n",
              " '<START> do not worry , mr . twig . even though mr . hat rescued me from prison , i am still going to stick with you . <END>',\n",
              " '<START> congratulations , bridon . guess we will be working a lot together . <END>']"
            ]
          },
          "metadata": {},
          "execution_count": 54
        }
      ]
    },
    {
      "cell_type": "code",
      "source": [
        "target_tokenizer = keras.preprocessing.text.Tokenizer()\n",
        "target_tokenizer.fit_on_texts(target_text_downsampled)\n",
        "tokenized_target_text = target_tokenizer.texts_to_sequences(target_text_downsampled)"
      ],
      "metadata": {
        "id": "viHhvflvqNRp"
      },
      "execution_count": null,
      "outputs": []
    },
    {
      "cell_type": "code",
      "source": [
        "max_len_target_text_downsampled = 0\n",
        "\n",
        "for sentence in tokenized_target_text:\n",
        "  if len(sentence) >= max_len_target_text_downsampled:\n",
        "    max_len_target_text_downsampled = len(sentence)"
      ],
      "metadata": {
        "id": "mg8s4sQeqNUi"
      },
      "execution_count": null,
      "outputs": []
    },
    {
      "cell_type": "code",
      "source": [
        "max_len_target_text_downsampled"
      ],
      "metadata": {
        "colab": {
          "base_uri": "https://localhost:8080/"
        },
        "id": "Ln051uOuqNX6",
        "outputId": "0e8c224b-440c-4608-e0dd-dff1f99e4fcb"
      },
      "execution_count": null,
      "outputs": [
        {
          "output_type": "execute_result",
          "data": {
            "text/plain": [
              "38"
            ]
          },
          "metadata": {},
          "execution_count": 57
        }
      ]
    },
    {
      "cell_type": "code",
      "source": [
        "padded_target_text_downsampled = keras.preprocessing.sequence.pad_sequences(tokenized_target_text, \n",
        "                                  maxlen=max_len_target_text_downsampled, padding=\"post\")\n",
        "decoder_input_data_ds = np.array(padded_target_text_downsampled)"
      ],
      "metadata": {
        "id": "sZAUAyULqNbA"
      },
      "execution_count": null,
      "outputs": []
    },
    {
      "cell_type": "code",
      "source": [
        "decoder_input_data_ds.shape"
      ],
      "metadata": {
        "colab": {
          "base_uri": "https://localhost:8080/"
        },
        "id": "u-aHSAAMoG14",
        "outputId": "59666dc3-d8ef-4a6a-e95c-e7e7b96c2f75"
      },
      "execution_count": null,
      "outputs": [
        {
          "output_type": "execute_result",
          "data": {
            "text/plain": [
              "(5000, 38)"
            ]
          },
          "metadata": {},
          "execution_count": 59
        }
      ]
    },
    {
      "cell_type": "code",
      "source": [
        "decoder_input_data_ds[0]"
      ],
      "metadata": {
        "colab": {
          "base_uri": "https://localhost:8080/"
        },
        "id": "eAGfJoMOYnyi",
        "outputId": "0d0f9a64-72e3-41a5-ec03-906fae40823c"
      },
      "execution_count": null,
      "outputs": [
        {
          "output_type": "execute_result",
          "data": {
            "text/plain": [
              "array([2449,    0,    0,    0,    0,    0,    0,    0,    0,    0,    0,\n",
              "          0,    0,    0,    0,    0,    0,    0,    0,    0,    0,    0,\n",
              "          0,    0,    0,    0,    0,    0,    0,    0,    0,    0,    0,\n",
              "          0,    0,    0,    0,    0], dtype=int32)"
            ]
          },
          "metadata": {},
          "execution_count": 60
        }
      ]
    },
    {
      "cell_type": "code",
      "source": [
        "target_text_downsampled_vocab_dict = target_tokenizer.word_index \n",
        "num_decoder_tokens = len(target_text_downsampled_vocab_dict) + 1"
      ],
      "metadata": {
        "id": "dyJEDWgdsaA0"
      },
      "execution_count": null,
      "outputs": []
    },
    {
      "cell_type": "code",
      "source": [
        "num_decoder_tokens"
      ],
      "metadata": {
        "colab": {
          "base_uri": "https://localhost:8080/"
        },
        "id": "6XC017oQsZ8P",
        "outputId": "097baf4c-fb78-4ae3-ffc0-55df86665d99"
      },
      "execution_count": null,
      "outputs": [
        {
          "output_type": "execute_result",
          "data": {
            "text/plain": [
              "5775"
            ]
          },
          "metadata": {},
          "execution_count": 62
        }
      ]
    },
    {
      "cell_type": "markdown",
      "source": [
        "###### Preparing target data for decoder `(decoder_output_data)`\n",
        "\n",
        "1. Remove only the `<START>` tag from each sentence \n",
        "2. Convert the modified `padded_target_text` to one hot vectors"
      ],
      "metadata": {
        "id": "J__d__8yvfsc"
      }
    },
    {
      "cell_type": "code",
      "source": [
        "decoder_output_target_data = []\n",
        "\n",
        "for sentence in tokenized_target_text:\n",
        "  decoder_output_target_data.append(sentence[1:])"
      ],
      "metadata": {
        "id": "xO_OMqG_vfT1"
      },
      "execution_count": null,
      "outputs": []
    },
    {
      "cell_type": "code",
      "source": [
        "padded_decoder_output_data = keras.preprocessing.sequence.pad_sequences(decoder_output_target_data,\n",
        "                              maxlen=max_len_target_text_downsampled, padding=\"post\")\n",
        "\n",
        "one_hot_encoding_target_data = tf.keras.utils.to_categorical(padded_decoder_output_data, num_decoder_tokens)\n",
        "decoder_output_data_ds = np.array(one_hot_encoding_target_data)"
      ],
      "metadata": {
        "id": "_7MPf546ve_l"
      },
      "execution_count": null,
      "outputs": []
    },
    {
      "cell_type": "code",
      "source": [
        "decoder_output_data_ds[0]"
      ],
      "metadata": {
        "id": "3jHncFiesZ4_",
        "colab": {
          "base_uri": "https://localhost:8080/"
        },
        "outputId": "110d0e51-2114-4c3a-b14d-fdb2cee81c98"
      },
      "execution_count": null,
      "outputs": [
        {
          "output_type": "execute_result",
          "data": {
            "text/plain": [
              "array([[1., 0., 0., ..., 0., 0., 0.],\n",
              "       [1., 0., 0., ..., 0., 0., 0.],\n",
              "       [1., 0., 0., ..., 0., 0., 0.],\n",
              "       ...,\n",
              "       [1., 0., 0., ..., 0., 0., 0.],\n",
              "       [1., 0., 0., ..., 0., 0., 0.],\n",
              "       [1., 0., 0., ..., 0., 0., 0.]], dtype=float32)"
            ]
          },
          "metadata": {},
          "execution_count": 65
        }
      ]
    },
    {
      "cell_type": "code",
      "source": [
        ""
      ],
      "metadata": {
        "id": "30rpUTIKlnFj"
      },
      "execution_count": null,
      "outputs": []
    },
    {
      "cell_type": "markdown",
      "source": [
        "##### Using the traditional way to create vocab dict and inverse vocab dict"
      ],
      "metadata": {
        "id": "mgyON8cJjfJ5"
      }
    },
    {
      "cell_type": "code",
      "source": [
        "modified_target_text_downsampled = []\n",
        "\n",
        "for sentence in target_text_downsampled:\n",
        "  sent = \"<SOS> \" + sentence + \" <EOS>\"\n",
        "  modified_target_text_downsampled.append(sent)"
      ],
      "metadata": {
        "id": "3G8mtNCLzbzI"
      },
      "execution_count": null,
      "outputs": []
    },
    {
      "cell_type": "code",
      "source": [
        ""
      ],
      "metadata": {
        "id": "SSd0CluNsxqo"
      },
      "execution_count": null,
      "outputs": []
    },
    {
      "cell_type": "code",
      "source": [
        "source_vocab_threshold_downsampled = {}\n",
        "target_vocab_threshold_downsampled = {}\n",
        "\n",
        "for sentence in source_text_downsampled:\n",
        "  for word in sentence.split():\n",
        "    if word not in source_vocab_threshold_downsampled:\n",
        "      source_vocab_threshold_downsampled[word] = 1\n",
        "    else:\n",
        "      source_vocab_threshold_downsampled[word] += 1\n",
        "\n",
        "for sentence in modified_target_text_downsampled:\n",
        "  for word in sentence.split():\n",
        "    if word not in target_vocab_threshold_downsampled:\n",
        "      target_vocab_threshold_downsampled[word] = 1\n",
        "    else:\n",
        "      target_vocab_threshold_downsampled[word] += 1"
      ],
      "metadata": {
        "id": "dL0ofNm5uz5d"
      },
      "execution_count": null,
      "outputs": []
    },
    {
      "cell_type": "code",
      "source": [
        "len(source_vocab_threshold_downsampled), len(target_vocab_threshold_downsampled)"
      ],
      "metadata": {
        "colab": {
          "base_uri": "https://localhost:8080/"
        },
        "id": "oxVBqe0FvZcc",
        "outputId": "8bfa2fe0-799e-469a-d753-63b6b21ef9c9"
      },
      "execution_count": null,
      "outputs": [
        {
          "output_type": "execute_result",
          "data": {
            "text/plain": [
              "(7714, 7662)"
            ]
          },
          "metadata": {},
          "execution_count": 46
        }
      ]
    },
    {
      "cell_type": "code",
      "source": [
        "threshold = 2\n",
        "\n",
        "source_vocab_to_int_downsampled = {}\n",
        "target_vocab_to_int_downsampled = {}\n",
        "\n",
        "count_source = 0\n",
        "for key, values in source_vocab_threshold_downsampled.items():\n",
        "  if values>=threshold:\n",
        "    source_vocab_to_int_downsampled[key] = count_source\n",
        "    count_source += 1\n",
        "  else:\n",
        "    continue\n",
        "\n",
        "count_target = 0\n",
        "for key, values in target_vocab_threshold_downsampled.items():\n",
        "  if values>=threshold:\n",
        "    target_vocab_to_int_downsampled[key] = count_target\n",
        "    count_target += 1\n",
        "  else:\n",
        "    continue"
      ],
      "metadata": {
        "id": "PKJnsAJ8tbj7"
      },
      "execution_count": null,
      "outputs": []
    },
    {
      "cell_type": "code",
      "source": [
        "tokens = [\"<SOS>\", \"<EOS>\", \"<PAD>\", \"<UNK>\"]\n",
        "\n",
        "for token in tokens:\n",
        "  source_vocab_to_int_downsampled[token] = len(source_vocab_to_int_downsampled)+1\n",
        "\n",
        "for token in tokens:\n",
        "  if token not in target_vocab_to_int_downsampled:\n",
        "    target_vocab_to_int_downsampled[token] = len(target_vocab_to_int_downsampled)+1"
      ],
      "metadata": {
        "id": "AnpDTl4M0fB-"
      },
      "execution_count": null,
      "outputs": []
    },
    {
      "cell_type": "code",
      "source": [
        "len(source_vocab_to_int_downsampled), len(target_vocab_to_int_downsampled)"
      ],
      "metadata": {
        "colab": {
          "base_uri": "https://localhost:8080/"
        },
        "id": "RVB1AgqDtboM",
        "outputId": "273b1427-e189-4bba-eabc-37b1ef46dc2b"
      },
      "execution_count": null,
      "outputs": [
        {
          "output_type": "execute_result",
          "data": {
            "text/plain": [
              "(2500, 2437)"
            ]
          },
          "metadata": {},
          "execution_count": 54
        }
      ]
    },
    {
      "cell_type": "code",
      "source": [
        "inv_source_vocab_downsampled = {y:x for x,y in source_vocab_to_int_downsampled.items()}\n",
        "inv_target_vocab_downsampled = {y:x for x,y in target_vocab_to_int_downsampled.items()}"
      ],
      "metadata": {
        "id": "HXTivW7rtbrh"
      },
      "execution_count": null,
      "outputs": []
    },
    {
      "cell_type": "code",
      "source": [
        "max_len_source_downsampled = 0\n",
        "max_len_target_downsampled = 0\n",
        "\n",
        "for sentence in source_text_downsampled:\n",
        "  length = len(sentence.split())\n",
        "  if length >= max_len_source_downsampled:\n",
        "    max_len_source_downsampled = length\n",
        "\n",
        "for sentence in target_text_downsampled:\n",
        "  length = len(sentence.split())\n",
        "  if length >= max_len_target_downsampled:\n",
        "    max_len_target_downsampled = length"
      ],
      "metadata": {
        "id": "NMwD47xqsyfO"
      },
      "execution_count": null,
      "outputs": []
    },
    {
      "cell_type": "code",
      "source": [
        "max_len_source_downsampled, max_len_target_downsampled"
      ],
      "metadata": {
        "colab": {
          "base_uri": "https://localhost:8080/"
        },
        "id": "hpkzOeWuum9c",
        "outputId": "5da01fe2-ba5a-4637-8625-1238af85969f"
      },
      "execution_count": null,
      "outputs": [
        {
          "output_type": "execute_result",
          "data": {
            "text/plain": [
              "(42, 42)"
            ]
          },
          "metadata": {},
          "execution_count": 57
        }
      ]
    },
    {
      "cell_type": "markdown",
      "source": [
        "##### Using numpy arrays to create a sparse matrix for encoder and decoder input-output data"
      ],
      "metadata": {
        "id": "-iM2RGhXunBD"
      }
    },
    {
      "cell_type": "code",
      "source": [
        "encoder_input_data_downsampled = np.zeros((len(source_text_downsampled), max_len_source_downsampled, len(source_vocab_to_int_downsampled)), \n",
        "                                          dtype=\"float32\")\n",
        "\n",
        "decoder_input_data_downsampled = np.zeros((len(target_text_downsampled), max_len_target_downsampled, len(target_vocab_to_int_downsampled)),\n",
        "                                          dtype=\"float32\")\n",
        "\n",
        "decoder_output_data_downsampled = np.zeros((len(target_text_downsampled), max_len_target_downsampled, len(target_vocab_to_int_downsampled)),\n",
        "                                          dtype=\"float32\")"
      ],
      "metadata": {
        "id": "WqUX_0O2unEf"
      },
      "execution_count": null,
      "outputs": []
    },
    {
      "cell_type": "code",
      "source": [
        "for line, (input_line, target_line) in enumerate(zip(source_text_downsampled, target_text_downsampled)):\n",
        "\n",
        "  for timestep, token in enumerate(input_line.split()):\n",
        "\n",
        "    if token in source_vocab_to_int_downsampled:\n",
        "      encoder_input_data_downsampled[line, timestep, source_vocab_to_int_downsampled[token]] = 1\n",
        "    else:\n",
        "      encoder_input_data_downsampled[line, timestep, source_vocab_to_int_downsampled[\"<UNK>\"]-1] = 1\n",
        "\n",
        "  for timestep, token in enumerate(target_line.split()):\n",
        "\n",
        "    if token in target_vocab_to_int_downsampled:\n",
        "      decoder_input_data_downsampled[line, timestep, target_vocab_to_int_downsampled[token]] = 1\n",
        "      if timestep>0:\n",
        "        decoder_output_data_downsampled[line, timestep-1, target_vocab_to_int_downsampled[token]] = 1\n",
        "    else:\n",
        "      decoder_input_data_downsampled[line, timestep, target_vocab_to_int_downsampled[\"<UNK>\"]-1] = 1\n",
        "      if timestep>0:\n",
        "        decoder_output_data_downsampled[line, timestep, target_vocab_to_int_downsampled[\"<UNK>\"]-1] = 1"
      ],
      "metadata": {
        "id": "l6XYXoJDunLu"
      },
      "execution_count": null,
      "outputs": []
    },
    {
      "cell_type": "code",
      "source": [
        ""
      ],
      "metadata": {
        "id": "XsSt7CIZgMAC"
      },
      "execution_count": null,
      "outputs": []
    },
    {
      "cell_type": "markdown",
      "source": [
        "#### The Encoder-Decoder model"
      ],
      "metadata": {
        "id": "YdlsCAlI2YKg"
      }
    },
    {
      "cell_type": "code",
      "source": [
        "encoder_inputs = keras.layers.Input(shape=(None, ))\n",
        "encoder_emb = keras.layers.Embedding(num_encoder_tokens, 256, mask_zero=True)(encoder_inputs)\n",
        "encoder_lstm = keras.layers.LSTM(256, return_state=True)\n",
        "encoder_outputs, hidden_state, cell_state = encoder_lstm(encoder_emb)\n",
        "encoder_states = [hidden_state, cell_state]\n",
        "\n",
        "decoder_inputs = keras.layers.Input(shape=(None, ))\n",
        "decoder_emb = keras.layers.Embedding(num_decoder_tokens, 256, mask_zero=True)(decoder_inputs)\n",
        "decoder_lstm = keras.layers.LSTM(256, return_sequences=True, return_state=True)\n",
        "decoder_outputs, state_h, state_c = decoder_lstm(decoder_emb, initial_state=encoder_states)\n",
        "decoder_dense = keras.layers.Dense(num_decoder_tokens, activation=\"softmax\")\n",
        "decoder_outputs = decoder_dense(decoder_outputs)\n",
        "\n",
        "model = keras.Model(inputs=[encoder_inputs, decoder_inputs], outputs=decoder_outputs)\n",
        "\n",
        "model.compile(loss=keras.losses.CategoricalCrossentropy(), metrics=[\"accuracy\"],\n",
        "              optimizer=keras.optimizers.RMSprop())"
      ],
      "metadata": {
        "id": "utHC74kx3IYY"
      },
      "execution_count": null,
      "outputs": []
    },
    {
      "cell_type": "code",
      "source": [
        "tf.keras.utils.plot_model(model, show_shapes=True)"
      ],
      "metadata": {
        "colab": {
          "base_uri": "https://localhost:8080/",
          "height": 499
        },
        "id": "1UBVkNZw6tNZ",
        "outputId": "c741b101-107b-47b4-d8cf-d231c4484983"
      },
      "execution_count": null,
      "outputs": [
        {
          "output_type": "execute_result",
          "data": {
            "image/png": "[encoded data removed]",
            "text/plain": [
              "<IPython.core.display.Image object>"
            ]
          },
          "metadata": {},
          "execution_count": 67
        }
      ]
    },
    {
      "cell_type": "code",
      "source": [
        "history = model.fit([encoder_input_data_ds, decoder_input_data_ds], decoder_output_data_ds,\n",
        "                    batch_size=64, epochs=200, validation_split=0.15)"
      ],
      "metadata": {
        "id": "G60uY1JM33kE",
        "colab": {
          "base_uri": "https://localhost:8080/"
        },
        "outputId": "28a28e5d-a11a-4717-b645-a7c989444172"
      },
      "execution_count": null,
      "outputs": [
        {
          "output_type": "stream",
          "name": "stdout",
          "text": [
            "Epoch 1/200\n",
            "67/67 [==============================] - 19s 124ms/step - loss: 1.6448 - accuracy: 0.1004 - val_loss: 1.5366 - val_accuracy: 0.1040\n",
            "Epoch 2/200\n",
            "67/67 [==============================] - 5s 75ms/step - loss: 1.5291 - accuracy: 0.1020 - val_loss: 1.5354 - val_accuracy: 0.1067\n",
            "Epoch 3/200\n",
            "67/67 [==============================] - 5s 73ms/step - loss: 1.4914 - accuracy: 0.1096 - val_loss: 1.5115 - val_accuracy: 0.1162\n",
            "Epoch 4/200\n",
            "67/67 [==============================] - 5s 75ms/step - loss: 1.4480 - accuracy: 0.1289 - val_loss: 1.4816 - val_accuracy: 0.1384\n",
            "Epoch 5/200\n",
            "67/67 [==============================] - 5s 74ms/step - loss: 1.4059 - accuracy: 0.1438 - val_loss: 1.4602 - val_accuracy: 0.1505\n",
            "Epoch 6/200\n",
            "67/67 [==============================] - 5s 73ms/step - loss: 1.3703 - accuracy: 0.1549 - val_loss: 1.4485 - val_accuracy: 0.1566\n",
            "Epoch 7/200\n",
            "67/67 [==============================] - 5s 74ms/step - loss: 1.3393 - accuracy: 0.1638 - val_loss: 1.4383 - val_accuracy: 0.1612\n",
            "Epoch 8/200\n",
            "67/67 [==============================] - 5s 75ms/step - loss: 1.3108 - accuracy: 0.1713 - val_loss: 1.4320 - val_accuracy: 0.1659\n",
            "Epoch 9/200\n",
            "67/67 [==============================] - 5s 77ms/step - loss: 1.2839 - accuracy: 0.1772 - val_loss: 1.4288 - val_accuracy: 0.1685\n",
            "Epoch 10/200\n",
            "67/67 [==============================] - 5s 73ms/step - loss: 1.2578 - accuracy: 0.1846 - val_loss: 1.4285 - val_accuracy: 0.1730\n",
            "Epoch 11/200\n",
            "67/67 [==============================] - 5s 74ms/step - loss: 1.2328 - accuracy: 0.1910 - val_loss: 1.4251 - val_accuracy: 0.1773\n",
            "Epoch 12/200\n",
            "67/67 [==============================] - 5s 75ms/step - loss: 1.2088 - accuracy: 0.1969 - val_loss: 1.4314 - val_accuracy: 0.1764\n",
            "Epoch 13/200\n",
            "67/67 [==============================] - 5s 76ms/step - loss: 1.1852 - accuracy: 0.2018 - val_loss: 1.4367 - val_accuracy: 0.1796\n",
            "Epoch 14/200\n",
            "67/67 [==============================] - 5s 74ms/step - loss: 1.1622 - accuracy: 0.2081 - val_loss: 1.4393 - val_accuracy: 0.1780\n",
            "Epoch 15/200\n",
            "67/67 [==============================] - 5s 74ms/step - loss: 1.1390 - accuracy: 0.2132 - val_loss: 1.4403 - val_accuracy: 0.1794\n",
            "Epoch 16/200\n",
            "67/67 [==============================] - 5s 74ms/step - loss: 1.1176 - accuracy: 0.2194 - val_loss: 1.4476 - val_accuracy: 0.1778\n",
            "Epoch 17/200\n",
            "67/67 [==============================] - 5s 75ms/step - loss: 1.0946 - accuracy: 0.2250 - val_loss: 1.4534 - val_accuracy: 0.1780\n",
            "Epoch 18/200\n",
            "67/67 [==============================] - 5s 75ms/step - loss: 1.0722 - accuracy: 0.2326 - val_loss: 1.4630 - val_accuracy: 0.1736\n",
            "Epoch 19/200\n",
            "67/67 [==============================] - 5s 74ms/step - loss: 1.0507 - accuracy: 0.2370 - val_loss: 1.4679 - val_accuracy: 0.1747\n",
            "Epoch 20/200\n",
            "67/67 [==============================] - 5s 74ms/step - loss: 1.0284 - accuracy: 0.2445 - val_loss: 1.4768 - val_accuracy: 0.1683\n",
            "Epoch 21/200\n",
            "67/67 [==============================] - 5s 75ms/step - loss: 1.0059 - accuracy: 0.2536 - val_loss: 1.4854 - val_accuracy: 0.1693\n",
            "Epoch 22/200\n",
            "67/67 [==============================] - 5s 76ms/step - loss: 0.9843 - accuracy: 0.2601 - val_loss: 1.4904 - val_accuracy: 0.1689\n",
            "Epoch 23/200\n",
            "67/67 [==============================] - 5s 74ms/step - loss: 0.9611 - accuracy: 0.2705 - val_loss: 1.5030 - val_accuracy: 0.1673\n",
            "Epoch 24/200\n",
            "67/67 [==============================] - 5s 75ms/step - loss: 0.9391 - accuracy: 0.2783 - val_loss: 1.5085 - val_accuracy: 0.1597\n",
            "Epoch 25/200\n",
            "67/67 [==============================] - 5s 74ms/step - loss: 0.9160 - accuracy: 0.2883 - val_loss: 1.5225 - val_accuracy: 0.1698\n",
            "Epoch 26/200\n",
            "67/67 [==============================] - 5s 74ms/step - loss: 0.8937 - accuracy: 0.3000 - val_loss: 1.5298 - val_accuracy: 0.1651\n",
            "Epoch 27/200\n",
            "67/67 [==============================] - 5s 74ms/step - loss: 0.8703 - accuracy: 0.3120 - val_loss: 1.5377 - val_accuracy: 0.1591\n",
            "Epoch 28/200\n",
            "67/67 [==============================] - 5s 75ms/step - loss: 0.8483 - accuracy: 0.3243 - val_loss: 1.5420 - val_accuracy: 0.1559\n",
            "Epoch 29/200\n",
            "67/67 [==============================] - 5s 75ms/step - loss: 0.8265 - accuracy: 0.3370 - val_loss: 1.5577 - val_accuracy: 0.1573\n",
            "Epoch 30/200\n",
            "67/67 [==============================] - 5s 73ms/step - loss: 0.8037 - accuracy: 0.3490 - val_loss: 1.5653 - val_accuracy: 0.1583\n",
            "Epoch 31/200\n",
            "67/67 [==============================] - 5s 75ms/step - loss: 0.7813 - accuracy: 0.3640 - val_loss: 1.5838 - val_accuracy: 0.1477\n",
            "Epoch 32/200\n",
            "67/67 [==============================] - 5s 75ms/step - loss: 0.7579 - accuracy: 0.3819 - val_loss: 1.5997 - val_accuracy: 0.1473\n",
            "Epoch 33/200\n",
            "67/67 [==============================] - 5s 74ms/step - loss: 0.7358 - accuracy: 0.3951 - val_loss: 1.6119 - val_accuracy: 0.1521\n",
            "Epoch 34/200\n",
            "67/67 [==============================] - 5s 74ms/step - loss: 0.7136 - accuracy: 0.4146 - val_loss: 1.6207 - val_accuracy: 0.1470\n",
            "Epoch 35/200\n",
            "67/67 [==============================] - 5s 74ms/step - loss: 0.6909 - accuracy: 0.4322 - val_loss: 1.6320 - val_accuracy: 0.1490\n",
            "Epoch 36/200\n",
            "67/67 [==============================] - 5s 75ms/step - loss: 0.6685 - accuracy: 0.4506 - val_loss: 1.6423 - val_accuracy: 0.1447\n",
            "Epoch 37/200\n",
            "67/67 [==============================] - 5s 75ms/step - loss: 0.6464 - accuracy: 0.4683 - val_loss: 1.6493 - val_accuracy: 0.1384\n",
            "Epoch 38/200\n",
            "67/67 [==============================] - 5s 76ms/step - loss: 0.6246 - accuracy: 0.4859 - val_loss: 1.6695 - val_accuracy: 0.1415\n",
            "Epoch 39/200\n",
            "67/67 [==============================] - 5s 75ms/step - loss: 0.6031 - accuracy: 0.5066 - val_loss: 1.6839 - val_accuracy: 0.1419\n",
            "Epoch 40/200\n",
            "67/67 [==============================] - 5s 75ms/step - loss: 0.5827 - accuracy: 0.5244 - val_loss: 1.6957 - val_accuracy: 0.1420\n",
            "Epoch 41/200\n",
            "67/67 [==============================] - 5s 74ms/step - loss: 0.5609 - accuracy: 0.5427 - val_loss: 1.7107 - val_accuracy: 0.1386\n",
            "Epoch 42/200\n",
            "67/67 [==============================] - 5s 74ms/step - loss: 0.5411 - accuracy: 0.5600 - val_loss: 1.7243 - val_accuracy: 0.1394\n",
            "Epoch 43/200\n",
            "67/67 [==============================] - 5s 74ms/step - loss: 0.5204 - accuracy: 0.5797 - val_loss: 1.7392 - val_accuracy: 0.1365\n",
            "Epoch 44/200\n",
            "67/67 [==============================] - 5s 75ms/step - loss: 0.5004 - accuracy: 0.5976 - val_loss: 1.7553 - val_accuracy: 0.1359\n",
            "Epoch 45/200\n",
            "67/67 [==============================] - 5s 76ms/step - loss: 0.4805 - accuracy: 0.6176 - val_loss: 1.7648 - val_accuracy: 0.1379\n",
            "Epoch 46/200\n",
            "67/67 [==============================] - 5s 73ms/step - loss: 0.4623 - accuracy: 0.6323 - val_loss: 1.7725 - val_accuracy: 0.1305\n",
            "Epoch 47/200\n",
            "67/67 [==============================] - 5s 75ms/step - loss: 0.4436 - accuracy: 0.6505 - val_loss: 1.7833 - val_accuracy: 0.1290\n",
            "Epoch 48/200\n",
            "67/67 [==============================] - 5s 74ms/step - loss: 0.4242 - accuracy: 0.6686 - val_loss: 1.8055 - val_accuracy: 0.1345\n",
            "Epoch 49/200\n",
            "67/67 [==============================] - 5s 74ms/step - loss: 0.4074 - accuracy: 0.6832 - val_loss: 1.8253 - val_accuracy: 0.1333\n",
            "Epoch 50/200\n",
            "67/67 [==============================] - 5s 75ms/step - loss: 0.3891 - accuracy: 0.7002 - val_loss: 1.8340 - val_accuracy: 0.1319\n",
            "Epoch 51/200\n",
            "67/67 [==============================] - 5s 74ms/step - loss: 0.3722 - accuracy: 0.7153 - val_loss: 1.8452 - val_accuracy: 0.1281\n",
            "Epoch 52/200\n",
            "67/67 [==============================] - 5s 75ms/step - loss: 0.3554 - accuracy: 0.7333 - val_loss: 1.8656 - val_accuracy: 0.1295\n",
            "Epoch 53/200\n",
            "67/67 [==============================] - 5s 74ms/step - loss: 0.3391 - accuracy: 0.7480 - val_loss: 1.8782 - val_accuracy: 0.1241\n",
            "Epoch 54/200\n",
            "67/67 [==============================] - 5s 74ms/step - loss: 0.3230 - accuracy: 0.7621 - val_loss: 1.8966 - val_accuracy: 0.1240\n",
            "Epoch 55/200\n",
            "67/67 [==============================] - 5s 75ms/step - loss: 0.3084 - accuracy: 0.7764 - val_loss: 1.9096 - val_accuracy: 0.1268\n",
            "Epoch 56/200\n",
            "67/67 [==============================] - 5s 74ms/step - loss: 0.2933 - accuracy: 0.7901 - val_loss: 1.9313 - val_accuracy: 0.1233\n",
            "Epoch 57/200\n",
            "67/67 [==============================] - 5s 74ms/step - loss: 0.2789 - accuracy: 0.8035 - val_loss: 1.9346 - val_accuracy: 0.1229\n",
            "Epoch 58/200\n",
            "67/67 [==============================] - 5s 74ms/step - loss: 0.2650 - accuracy: 0.8147 - val_loss: 1.9625 - val_accuracy: 0.1236\n",
            "Epoch 59/200\n",
            "67/67 [==============================] - 5s 75ms/step - loss: 0.2519 - accuracy: 0.8263 - val_loss: 1.9659 - val_accuracy: 0.1181\n",
            "Epoch 60/200\n",
            "67/67 [==============================] - 5s 74ms/step - loss: 0.2394 - accuracy: 0.8397 - val_loss: 1.9892 - val_accuracy: 0.1172\n",
            "Epoch 61/200\n",
            "67/67 [==============================] - 5s 75ms/step - loss: 0.2254 - accuracy: 0.8524 - val_loss: 2.0035 - val_accuracy: 0.1177\n",
            "Epoch 62/200\n",
            "67/67 [==============================] - 5s 74ms/step - loss: 0.2136 - accuracy: 0.8609 - val_loss: 2.0194 - val_accuracy: 0.1190\n",
            "Epoch 63/200\n",
            "67/67 [==============================] - 5s 74ms/step - loss: 0.2025 - accuracy: 0.8715 - val_loss: 2.0336 - val_accuracy: 0.1110\n",
            "Epoch 64/200\n",
            "67/67 [==============================] - 5s 75ms/step - loss: 0.1916 - accuracy: 0.8806 - val_loss: 2.0499 - val_accuracy: 0.1176\n",
            "Epoch 65/200\n",
            "67/67 [==============================] - 5s 75ms/step - loss: 0.1801 - accuracy: 0.8924 - val_loss: 2.0624 - val_accuracy: 0.1119\n",
            "Epoch 66/200\n",
            "67/67 [==============================] - 5s 75ms/step - loss: 0.1701 - accuracy: 0.9002 - val_loss: 2.0685 - val_accuracy: 0.1124\n",
            "Epoch 67/200\n",
            "67/67 [==============================] - 5s 75ms/step - loss: 0.1602 - accuracy: 0.9086 - val_loss: 2.0912 - val_accuracy: 0.1119\n",
            "Epoch 68/200\n",
            "67/67 [==============================] - 5s 73ms/step - loss: 0.1504 - accuracy: 0.9176 - val_loss: 2.1129 - val_accuracy: 0.1140\n",
            "Epoch 69/200\n",
            "67/67 [==============================] - 5s 73ms/step - loss: 0.1414 - accuracy: 0.9241 - val_loss: 2.1199 - val_accuracy: 0.1127\n",
            "Epoch 70/200\n",
            "67/67 [==============================] - 5s 75ms/step - loss: 0.1328 - accuracy: 0.9303 - val_loss: 2.1355 - val_accuracy: 0.1108\n",
            "Epoch 71/200\n",
            "67/67 [==============================] - 5s 76ms/step - loss: 0.1240 - accuracy: 0.9389 - val_loss: 2.1629 - val_accuracy: 0.1105\n",
            "Epoch 72/200\n",
            "67/67 [==============================] - 5s 74ms/step - loss: 0.1157 - accuracy: 0.9454 - val_loss: 2.1670 - val_accuracy: 0.1124\n",
            "Epoch 73/200\n",
            "67/67 [==============================] - 5s 76ms/step - loss: 0.1094 - accuracy: 0.9490 - val_loss: 2.1822 - val_accuracy: 0.1105\n",
            "Epoch 74/200\n",
            "67/67 [==============================] - 5s 75ms/step - loss: 0.1012 - accuracy: 0.9552 - val_loss: 2.1950 - val_accuracy: 0.1095\n",
            "Epoch 75/200\n",
            "67/67 [==============================] - 5s 76ms/step - loss: 0.0954 - accuracy: 0.9584 - val_loss: 2.2160 - val_accuracy: 0.1117\n",
            "Epoch 76/200\n",
            "67/67 [==============================] - 5s 75ms/step - loss: 0.0882 - accuracy: 0.9649 - val_loss: 2.2280 - val_accuracy: 0.1109\n",
            "Epoch 77/200\n",
            "67/67 [==============================] - 5s 74ms/step - loss: 0.0818 - accuracy: 0.9684 - val_loss: 2.2395 - val_accuracy: 0.1076\n",
            "Epoch 78/200\n",
            "67/67 [==============================] - 5s 75ms/step - loss: 0.0763 - accuracy: 0.9728 - val_loss: 2.2625 - val_accuracy: 0.1088\n",
            "Epoch 79/200\n",
            "67/67 [==============================] - 5s 74ms/step - loss: 0.0709 - accuracy: 0.9767 - val_loss: 2.2656 - val_accuracy: 0.1066\n",
            "Epoch 80/200\n",
            "67/67 [==============================] - 5s 75ms/step - loss: 0.0660 - accuracy: 0.9790 - val_loss: 2.2829 - val_accuracy: 0.1077\n",
            "Epoch 81/200\n",
            "67/67 [==============================] - 5s 73ms/step - loss: 0.0616 - accuracy: 0.9810 - val_loss: 2.3037 - val_accuracy: 0.1101\n",
            "Epoch 82/200\n",
            "67/67 [==============================] - 5s 74ms/step - loss: 0.0567 - accuracy: 0.9838 - val_loss: 2.3079 - val_accuracy: 0.1099\n",
            "Epoch 83/200\n",
            "67/67 [==============================] - 5s 75ms/step - loss: 0.0520 - accuracy: 0.9863 - val_loss: 2.3253 - val_accuracy: 0.1081\n",
            "Epoch 84/200\n",
            "67/67 [==============================] - 5s 75ms/step - loss: 0.0484 - accuracy: 0.9877 - val_loss: 2.3437 - val_accuracy: 0.1063\n",
            "Epoch 85/200\n",
            "67/67 [==============================] - 5s 74ms/step - loss: 0.0448 - accuracy: 0.9892 - val_loss: 2.3583 - val_accuracy: 0.1069\n",
            "Epoch 86/200\n",
            "67/67 [==============================] - 5s 75ms/step - loss: 0.0411 - accuracy: 0.9911 - val_loss: 2.3696 - val_accuracy: 0.1098\n",
            "Epoch 87/200\n",
            "67/67 [==============================] - 5s 76ms/step - loss: 0.0380 - accuracy: 0.9919 - val_loss: 2.3824 - val_accuracy: 0.1060\n",
            "Epoch 88/200\n",
            "67/67 [==============================] - 5s 75ms/step - loss: 0.0351 - accuracy: 0.9928 - val_loss: 2.3985 - val_accuracy: 0.1088\n",
            "Epoch 89/200\n",
            "67/67 [==============================] - 5s 74ms/step - loss: 0.0323 - accuracy: 0.9939 - val_loss: 2.4092 - val_accuracy: 0.1067\n",
            "Epoch 90/200\n",
            "67/67 [==============================] - 5s 75ms/step - loss: 0.0298 - accuracy: 0.9947 - val_loss: 2.4150 - val_accuracy: 0.1070\n",
            "Epoch 91/200\n",
            "67/67 [==============================] - 5s 76ms/step - loss: 0.0271 - accuracy: 0.9956 - val_loss: 2.4339 - val_accuracy: 0.1059\n",
            "Epoch 92/200\n",
            "67/67 [==============================] - 5s 75ms/step - loss: 0.0253 - accuracy: 0.9957 - val_loss: 2.4549 - val_accuracy: 0.1060\n",
            "Epoch 93/200\n",
            "67/67 [==============================] - 5s 74ms/step - loss: 0.0232 - accuracy: 0.9965 - val_loss: 2.4605 - val_accuracy: 0.1022\n",
            "Epoch 94/200\n",
            "67/67 [==============================] - 5s 75ms/step - loss: 0.0214 - accuracy: 0.9970 - val_loss: 2.4746 - val_accuracy: 0.1035\n",
            "Epoch 95/200\n",
            "67/67 [==============================] - 5s 75ms/step - loss: 0.0195 - accuracy: 0.9972 - val_loss: 2.4906 - val_accuracy: 0.1069\n",
            "Epoch 96/200\n",
            "67/67 [==============================] - 5s 76ms/step - loss: 0.0184 - accuracy: 0.9972 - val_loss: 2.4975 - val_accuracy: 0.1054\n",
            "Epoch 97/200\n",
            "67/67 [==============================] - 5s 75ms/step - loss: 0.0167 - accuracy: 0.9976 - val_loss: 2.5084 - val_accuracy: 0.1062\n",
            "Epoch 98/200\n",
            "67/67 [==============================] - 5s 75ms/step - loss: 0.0157 - accuracy: 0.9976 - val_loss: 2.5163 - val_accuracy: 0.1067\n",
            "Epoch 99/200\n",
            "67/67 [==============================] - 5s 74ms/step - loss: 0.0142 - accuracy: 0.9977 - val_loss: 2.5411 - val_accuracy: 0.1066\n",
            "Epoch 100/200\n",
            "67/67 [==============================] - 5s 75ms/step - loss: 0.0131 - accuracy: 0.9978 - val_loss: 2.5487 - val_accuracy: 0.1062\n",
            "Epoch 101/200\n",
            "67/67 [==============================] - 5s 76ms/step - loss: 0.0121 - accuracy: 0.9980 - val_loss: 2.5530 - val_accuracy: 0.1065\n",
            "Epoch 102/200\n",
            "67/67 [==============================] - 5s 74ms/step - loss: 0.0116 - accuracy: 0.9981 - val_loss: 2.5678 - val_accuracy: 0.1065\n",
            "Epoch 103/200\n",
            "67/67 [==============================] - 5s 75ms/step - loss: 0.0107 - accuracy: 0.9978 - val_loss: 2.5836 - val_accuracy: 0.1059\n",
            "Epoch 104/200\n",
            "67/67 [==============================] - 5s 75ms/step - loss: 0.0095 - accuracy: 0.9983 - val_loss: 2.5957 - val_accuracy: 0.1035\n",
            "Epoch 105/200\n",
            "67/67 [==============================] - 5s 74ms/step - loss: 0.0090 - accuracy: 0.9982 - val_loss: 2.6054 - val_accuracy: 0.1092\n",
            "Epoch 106/200\n",
            "67/67 [==============================] - 5s 75ms/step - loss: 0.0083 - accuracy: 0.9982 - val_loss: 2.6136 - val_accuracy: 0.1031\n",
            "Epoch 107/200\n",
            "67/67 [==============================] - 5s 75ms/step - loss: 0.0082 - accuracy: 0.9979 - val_loss: 2.6152 - val_accuracy: 0.1037\n",
            "Epoch 108/200\n",
            "67/67 [==============================] - 5s 74ms/step - loss: 0.0075 - accuracy: 0.9982 - val_loss: 2.6340 - val_accuracy: 0.1056\n",
            "Epoch 109/200\n",
            "67/67 [==============================] - 5s 74ms/step - loss: 0.0072 - accuracy: 0.9981 - val_loss: 2.6478 - val_accuracy: 0.1067\n",
            "Epoch 110/200\n",
            "67/67 [==============================] - 5s 74ms/step - loss: 0.0063 - accuracy: 0.9981 - val_loss: 2.6609 - val_accuracy: 0.1098\n",
            "Epoch 111/200\n",
            "67/67 [==============================] - 5s 75ms/step - loss: 0.0061 - accuracy: 0.9981 - val_loss: 2.6749 - val_accuracy: 0.1063\n",
            "Epoch 112/200\n",
            "67/67 [==============================] - 5s 75ms/step - loss: 0.0055 - accuracy: 0.9984 - val_loss: 2.6798 - val_accuracy: 0.1060\n",
            "Epoch 113/200\n",
            "67/67 [==============================] - 5s 75ms/step - loss: 0.0054 - accuracy: 0.9982 - val_loss: 2.6813 - val_accuracy: 0.1038\n",
            "Epoch 114/200\n",
            "67/67 [==============================] - 5s 74ms/step - loss: 0.0050 - accuracy: 0.9983 - val_loss: 2.6907 - val_accuracy: 0.1091\n",
            "Epoch 115/200\n",
            "67/67 [==============================] - 5s 76ms/step - loss: 0.0048 - accuracy: 0.9981 - val_loss: 2.6968 - val_accuracy: 0.1024\n",
            "Epoch 116/200\n",
            "67/67 [==============================] - 5s 74ms/step - loss: 0.0045 - accuracy: 0.9982 - val_loss: 2.7075 - val_accuracy: 0.1062\n",
            "Epoch 117/200\n",
            "67/67 [==============================] - 5s 74ms/step - loss: 0.0042 - accuracy: 0.9983 - val_loss: 2.7178 - val_accuracy: 0.1065\n",
            "Epoch 118/200\n",
            "67/67 [==============================] - 5s 75ms/step - loss: 0.0041 - accuracy: 0.9984 - val_loss: 2.7339 - val_accuracy: 0.1066\n",
            "Epoch 119/200\n",
            "67/67 [==============================] - 5s 75ms/step - loss: 0.0040 - accuracy: 0.9981 - val_loss: 2.7332 - val_accuracy: 0.1084\n",
            "Epoch 120/200\n",
            "67/67 [==============================] - 5s 75ms/step - loss: 0.0038 - accuracy: 0.9982 - val_loss: 2.7424 - val_accuracy: 0.1073\n",
            "Epoch 121/200\n",
            "67/67 [==============================] - 5s 76ms/step - loss: 0.0038 - accuracy: 0.9979 - val_loss: 2.7465 - val_accuracy: 0.1052\n",
            "Epoch 122/200\n",
            "67/67 [==============================] - 5s 73ms/step - loss: 0.0035 - accuracy: 0.9982 - val_loss: 2.7654 - val_accuracy: 0.1060\n",
            "Epoch 123/200\n",
            "67/67 [==============================] - 5s 75ms/step - loss: 0.0032 - accuracy: 0.9983 - val_loss: 2.7733 - val_accuracy: 0.1062\n",
            "Epoch 124/200\n",
            "67/67 [==============================] - 5s 75ms/step - loss: 0.0031 - accuracy: 0.9983 - val_loss: 2.7868 - val_accuracy: 0.1063\n",
            "Epoch 125/200\n",
            "67/67 [==============================] - 5s 74ms/step - loss: 0.0030 - accuracy: 0.9984 - val_loss: 2.7918 - val_accuracy: 0.1052\n",
            "Epoch 126/200\n",
            "67/67 [==============================] - 5s 76ms/step - loss: 0.0030 - accuracy: 0.9982 - val_loss: 2.8062 - val_accuracy: 0.1079\n",
            "Epoch 127/200\n",
            "67/67 [==============================] - 5s 76ms/step - loss: 0.0028 - accuracy: 0.9982 - val_loss: 2.8028 - val_accuracy: 0.1052\n",
            "Epoch 128/200\n",
            "67/67 [==============================] - 5s 75ms/step - loss: 0.0026 - accuracy: 0.9985 - val_loss: 2.8174 - val_accuracy: 0.1059\n",
            "Epoch 129/200\n",
            "67/67 [==============================] - 5s 75ms/step - loss: 0.0024 - accuracy: 0.9984 - val_loss: 2.8278 - val_accuracy: 0.1073\n",
            "Epoch 130/200\n",
            "67/67 [==============================] - 5s 75ms/step - loss: 0.0023 - accuracy: 0.9986 - val_loss: 2.8387 - val_accuracy: 0.1054\n",
            "Epoch 131/200\n",
            "67/67 [==============================] - 5s 75ms/step - loss: 0.0028 - accuracy: 0.9981 - val_loss: 2.8306 - val_accuracy: 0.1028\n",
            "Epoch 132/200\n",
            "67/67 [==============================] - 5s 75ms/step - loss: 0.0023 - accuracy: 0.9984 - val_loss: 2.8396 - val_accuracy: 0.1045\n",
            "Epoch 133/200\n",
            "67/67 [==============================] - 5s 75ms/step - loss: 0.0023 - accuracy: 0.9983 - val_loss: 2.8470 - val_accuracy: 0.1051\n",
            "Epoch 134/200\n",
            "67/67 [==============================] - 5s 75ms/step - loss: 0.0026 - accuracy: 0.9980 - val_loss: 2.8563 - val_accuracy: 0.1054\n",
            "Epoch 135/200\n",
            "67/67 [==============================] - 5s 74ms/step - loss: 0.0023 - accuracy: 0.9982 - val_loss: 2.8710 - val_accuracy: 0.1085\n",
            "Epoch 136/200\n",
            "67/67 [==============================] - 5s 75ms/step - loss: 0.0022 - accuracy: 0.9982 - val_loss: 2.8673 - val_accuracy: 0.1084\n",
            "Epoch 137/200\n",
            "67/67 [==============================] - 5s 75ms/step - loss: 0.0023 - accuracy: 0.9981 - val_loss: 2.8723 - val_accuracy: 0.1051\n",
            "Epoch 138/200\n",
            "67/67 [==============================] - 5s 75ms/step - loss: 0.0022 - accuracy: 0.9983 - val_loss: 2.8849 - val_accuracy: 0.1058\n",
            "Epoch 139/200\n",
            "67/67 [==============================] - 5s 76ms/step - loss: 0.0022 - accuracy: 0.9981 - val_loss: 2.8823 - val_accuracy: 0.1056\n",
            "Epoch 140/200\n",
            "67/67 [==============================] - 5s 75ms/step - loss: 0.0024 - accuracy: 0.9981 - val_loss: 2.8833 - val_accuracy: 0.1024\n",
            "Epoch 141/200\n",
            "67/67 [==============================] - 5s 75ms/step - loss: 0.0022 - accuracy: 0.9981 - val_loss: 2.8969 - val_accuracy: 0.1066\n",
            "Epoch 142/200\n",
            "67/67 [==============================] - 5s 75ms/step - loss: 0.0021 - accuracy: 0.9983 - val_loss: 2.8947 - val_accuracy: 0.1059\n",
            "Epoch 143/200\n",
            "67/67 [==============================] - 5s 75ms/step - loss: 0.0018 - accuracy: 0.9983 - val_loss: 2.9091 - val_accuracy: 0.1051\n",
            "Epoch 144/200\n",
            "67/67 [==============================] - 5s 74ms/step - loss: 0.0017 - accuracy: 0.9982 - val_loss: 2.9146 - val_accuracy: 0.1031\n",
            "Epoch 145/200\n",
            "67/67 [==============================] - 5s 75ms/step - loss: 0.0019 - accuracy: 0.9984 - val_loss: 2.9306 - val_accuracy: 0.1038\n",
            "Epoch 146/200\n",
            "67/67 [==============================] - 5s 75ms/step - loss: 0.0020 - accuracy: 0.9982 - val_loss: 2.9305 - val_accuracy: 0.1060\n",
            "Epoch 147/200\n",
            "67/67 [==============================] - 5s 74ms/step - loss: 0.0016 - accuracy: 0.9986 - val_loss: 2.9423 - val_accuracy: 0.1063\n",
            "Epoch 148/200\n",
            "67/67 [==============================] - 5s 76ms/step - loss: 0.0017 - accuracy: 0.9983 - val_loss: 2.9488 - val_accuracy: 0.1044\n",
            "Epoch 149/200\n",
            "67/67 [==============================] - 5s 74ms/step - loss: 0.0015 - accuracy: 0.9985 - val_loss: 2.9576 - val_accuracy: 0.1045\n",
            "Epoch 150/200\n",
            "67/67 [==============================] - 5s 75ms/step - loss: 0.0017 - accuracy: 0.9984 - val_loss: 2.9530 - val_accuracy: 0.1070\n",
            "Epoch 151/200\n",
            "67/67 [==============================] - 5s 75ms/step - loss: 0.0015 - accuracy: 0.9986 - val_loss: 2.9616 - val_accuracy: 0.1065\n",
            "Epoch 152/200\n",
            "67/67 [==============================] - 5s 75ms/step - loss: 0.0015 - accuracy: 0.9985 - val_loss: 2.9716 - val_accuracy: 0.1077\n",
            "Epoch 153/200\n",
            "67/67 [==============================] - 5s 76ms/step - loss: 0.0016 - accuracy: 0.9983 - val_loss: 2.9806 - val_accuracy: 0.1023\n",
            "Epoch 154/200\n",
            "67/67 [==============================] - 5s 75ms/step - loss: 0.0024 - accuracy: 0.9976 - val_loss: 2.9805 - val_accuracy: 0.1041\n",
            "Epoch 155/200\n",
            "67/67 [==============================] - 5s 75ms/step - loss: 0.0016 - accuracy: 0.9982 - val_loss: 2.9857 - val_accuracy: 0.1042\n",
            "Epoch 156/200\n",
            "67/67 [==============================] - 5s 74ms/step - loss: 0.0014 - accuracy: 0.9984 - val_loss: 3.0021 - val_accuracy: 0.1034\n",
            "Epoch 157/200\n",
            "67/67 [==============================] - 5s 75ms/step - loss: 0.0013 - accuracy: 0.9985 - val_loss: 3.0092 - val_accuracy: 0.1012\n",
            "Epoch 158/200\n",
            "67/67 [==============================] - 5s 75ms/step - loss: 0.0014 - accuracy: 0.9986 - val_loss: 3.0051 - val_accuracy: 0.1060\n",
            "Epoch 159/200\n",
            "67/67 [==============================] - 5s 75ms/step - loss: 0.0015 - accuracy: 0.9986 - val_loss: 3.0120 - val_accuracy: 0.1031\n",
            "Epoch 160/200\n",
            "67/67 [==============================] - 5s 75ms/step - loss: 0.0013 - accuracy: 0.9985 - val_loss: 3.0214 - val_accuracy: 0.1045\n",
            "Epoch 161/200\n",
            "67/67 [==============================] - 5s 73ms/step - loss: 0.0014 - accuracy: 0.9983 - val_loss: 3.0077 - val_accuracy: 0.1059\n",
            "Epoch 162/200\n",
            "67/67 [==============================] - 5s 75ms/step - loss: 0.0015 - accuracy: 0.9983 - val_loss: 3.0249 - val_accuracy: 0.1035\n",
            "Epoch 163/200\n",
            "67/67 [==============================] - 5s 75ms/step - loss: 0.0013 - accuracy: 0.9983 - val_loss: 3.0417 - val_accuracy: 0.1016\n",
            "Epoch 164/200\n",
            "67/67 [==============================] - 5s 75ms/step - loss: 0.0020 - accuracy: 0.9978 - val_loss: 3.0303 - val_accuracy: 0.1045\n",
            "Epoch 165/200\n",
            "67/67 [==============================] - 5s 74ms/step - loss: 0.0014 - accuracy: 0.9984 - val_loss: 3.0374 - val_accuracy: 0.1045\n",
            "Epoch 166/200\n",
            "67/67 [==============================] - 5s 75ms/step - loss: 0.0013 - accuracy: 0.9985 - val_loss: 3.0430 - val_accuracy: 0.1045\n",
            "Epoch 167/200\n",
            "67/67 [==============================] - 5s 75ms/step - loss: 0.0013 - accuracy: 0.9984 - val_loss: 3.0406 - val_accuracy: 0.1013\n",
            "Epoch 168/200\n",
            "67/67 [==============================] - 5s 76ms/step - loss: 0.0014 - accuracy: 0.9984 - val_loss: 3.0448 - val_accuracy: 0.1045\n",
            "Epoch 169/200\n",
            "67/67 [==============================] - 5s 75ms/step - loss: 0.0013 - accuracy: 0.9984 - val_loss: 3.0531 - val_accuracy: 0.1037\n",
            "Epoch 170/200\n",
            "67/67 [==============================] - 5s 76ms/step - loss: 0.0012 - accuracy: 0.9984 - val_loss: 3.0702 - val_accuracy: 0.1038\n",
            "Epoch 171/200\n",
            "67/67 [==============================] - 5s 74ms/step - loss: 0.0013 - accuracy: 0.9984 - val_loss: 3.0752 - val_accuracy: 0.1026\n",
            "Epoch 172/200\n",
            "67/67 [==============================] - 5s 76ms/step - loss: 0.0013 - accuracy: 0.9983 - val_loss: 3.0711 - val_accuracy: 0.1030\n",
            "Epoch 173/200\n",
            "67/67 [==============================] - 5s 74ms/step - loss: 0.0012 - accuracy: 0.9984 - val_loss: 3.0931 - val_accuracy: 0.1069\n",
            "Epoch 174/200\n",
            "67/67 [==============================] - 5s 74ms/step - loss: 0.0013 - accuracy: 0.9983 - val_loss: 3.0864 - val_accuracy: 0.1047\n",
            "Epoch 175/200\n",
            "67/67 [==============================] - 5s 75ms/step - loss: 0.0012 - accuracy: 0.9985 - val_loss: 3.0992 - val_accuracy: 0.1045\n",
            "Epoch 176/200\n",
            "67/67 [==============================] - 5s 76ms/step - loss: 0.0011 - accuracy: 0.9985 - val_loss: 3.0936 - val_accuracy: 0.1048\n",
            "Epoch 177/200\n",
            "67/67 [==============================] - 5s 76ms/step - loss: 0.0012 - accuracy: 0.9986 - val_loss: 3.1046 - val_accuracy: 0.1066\n",
            "Epoch 178/200\n",
            "67/67 [==============================] - 5s 75ms/step - loss: 0.0014 - accuracy: 0.9983 - val_loss: 3.0880 - val_accuracy: 0.1035\n",
            "Epoch 179/200\n",
            "67/67 [==============================] - 5s 76ms/step - loss: 0.0013 - accuracy: 0.9985 - val_loss: 3.1056 - val_accuracy: 0.1023\n",
            "Epoch 180/200\n",
            "67/67 [==============================] - 5s 75ms/step - loss: 0.0013 - accuracy: 0.9982 - val_loss: 3.1082 - val_accuracy: 0.1059\n",
            "Epoch 181/200\n",
            "67/67 [==============================] - 5s 75ms/step - loss: 0.0012 - accuracy: 0.9984 - val_loss: 3.1121 - val_accuracy: 0.1044\n",
            "Epoch 182/200\n",
            "67/67 [==============================] - 5s 75ms/step - loss: 0.0012 - accuracy: 0.9985 - val_loss: 3.1238 - val_accuracy: 0.1006\n",
            "Epoch 183/200\n",
            "67/67 [==============================] - 5s 74ms/step - loss: 0.0013 - accuracy: 0.9983 - val_loss: 3.1129 - val_accuracy: 0.1054\n",
            "Epoch 184/200\n",
            "67/67 [==============================] - 5s 74ms/step - loss: 0.0012 - accuracy: 0.9984 - val_loss: 3.1219 - val_accuracy: 0.1044\n",
            "Epoch 185/200\n",
            "67/67 [==============================] - 5s 75ms/step - loss: 0.0012 - accuracy: 0.9983 - val_loss: 3.1371 - val_accuracy: 0.1058\n",
            "Epoch 186/200\n",
            "67/67 [==============================] - 5s 76ms/step - loss: 0.0011 - accuracy: 0.9987 - val_loss: 3.1429 - val_accuracy: 0.1062\n",
            "Epoch 187/200\n",
            "67/67 [==============================] - 5s 76ms/step - loss: 0.0011 - accuracy: 0.9986 - val_loss: 3.1504 - val_accuracy: 0.1026\n",
            "Epoch 188/200\n",
            "67/67 [==============================] - 5s 75ms/step - loss: 0.0011 - accuracy: 0.9985 - val_loss: 3.1415 - val_accuracy: 0.1059\n",
            "Epoch 189/200\n",
            "67/67 [==============================] - 5s 75ms/step - loss: 9.9948e-04 - accuracy: 0.9986 - val_loss: 3.1620 - val_accuracy: 0.1069\n",
            "Epoch 190/200\n",
            "67/67 [==============================] - 5s 76ms/step - loss: 0.0011 - accuracy: 0.9987 - val_loss: 3.1629 - val_accuracy: 0.1067\n",
            "Epoch 191/200\n",
            "67/67 [==============================] - 5s 76ms/step - loss: 0.0011 - accuracy: 0.9984 - val_loss: 3.1671 - val_accuracy: 0.1055\n",
            "Epoch 192/200\n",
            "67/67 [==============================] - 5s 76ms/step - loss: 0.0010 - accuracy: 0.9985 - val_loss: 3.1768 - val_accuracy: 0.1052\n",
            "Epoch 193/200\n",
            "67/67 [==============================] - 5s 75ms/step - loss: 0.0011 - accuracy: 0.9985 - val_loss: 3.1751 - val_accuracy: 0.1048\n",
            "Epoch 194/200\n",
            "67/67 [==============================] - 5s 75ms/step - loss: 0.0011 - accuracy: 0.9985 - val_loss: 3.1833 - val_accuracy: 0.1030\n",
            "Epoch 195/200\n",
            "67/67 [==============================] - 5s 74ms/step - loss: 0.0010 - accuracy: 0.9983 - val_loss: 3.1827 - val_accuracy: 0.1072\n",
            "Epoch 196/200\n",
            "67/67 [==============================] - 5s 76ms/step - loss: 9.6610e-04 - accuracy: 0.9986 - val_loss: 3.2026 - val_accuracy: 0.1023\n",
            "Epoch 197/200\n",
            "67/67 [==============================] - 5s 75ms/step - loss: 0.0011 - accuracy: 0.9985 - val_loss: 3.1957 - val_accuracy: 0.1034\n",
            "Epoch 198/200\n",
            "67/67 [==============================] - 5s 74ms/step - loss: 0.0015 - accuracy: 0.9981 - val_loss: 3.1968 - val_accuracy: 0.1017\n",
            "Epoch 199/200\n",
            "67/67 [==============================] - 5s 75ms/step - loss: 9.5169e-04 - accuracy: 0.9985 - val_loss: 3.2078 - val_accuracy: 0.1083\n",
            "Epoch 200/200\n",
            "67/67 [==============================] - 5s 75ms/step - loss: 9.7752e-04 - accuracy: 0.9985 - val_loss: 3.2114 - val_accuracy: 0.1041\n"
          ]
        }
      ]
    },
    {
      "cell_type": "code",
      "source": [
        ""
      ],
      "metadata": {
        "id": "1nuWZu6R33nj"
      },
      "execution_count": null,
      "outputs": []
    },
    {
      "cell_type": "markdown",
      "source": [
        "#### Inference mode "
      ],
      "metadata": {
        "id": "CVB7woYTTXNh"
      }
    },
    {
      "cell_type": "code",
      "source": [
        "def make_inference_models():\n",
        "\n",
        "  encoder_model = keras.Model(encoder_inputs, encoder_states)\n",
        "\n",
        "  decoder_hidden_state_input = keras.layers.Input(shape=(256, ))\n",
        "  decoder_cell_state_output = keras.layers.Input(shape=(256, ))\n",
        "\n",
        "  decoder_input_states = [decoder_hidden_state_input, decoder_cell_state_output]\n",
        "\n",
        "  decoder_outputs, state_h, state_c = decoder_lstm(decoder_emb, initial_state=decoder_input_states)\n",
        "  decoder_states = [state_h, state_c]\n",
        "  decoder_outputs = decoder_dense(decoder_outputs)\n",
        "  decoder_model = keras.Model([decoder_inputs] + decoder_input_states,\n",
        "                              [decoder_outputs] + decoder_states)\n",
        "\n",
        "  return encoder_model, decoder_model"
      ],
      "metadata": {
        "id": "jCBgeMq_33q5"
      },
      "execution_count": null,
      "outputs": []
    },
    {
      "cell_type": "code",
      "source": [
        "def str_to_tokens(sentence:str):\n",
        "\n",
        "  words = clean_text(sentence).split()\n",
        "  tokens_list = []\n",
        "\n",
        "  for word in words:\n",
        "    tokens_list.append(source_text_downsampled_vocab_dict[word])\n",
        "\n",
        "  return keras.preprocessing.sequence.pad_sequences([tokens_list], \n",
        "                                                    maxlen=max_length_source_text_downsampled, padding=\"post\")"
      ],
      "metadata": {
        "id": "eHePbQTo33uG"
      },
      "execution_count": null,
      "outputs": []
    },
    {
      "cell_type": "code",
      "source": [
        "enc_model, dec_model = make_inference_models()\n",
        "\n",
        "for epoch in range(encoder_input_data_ds.shape[0]):\n",
        "  states_values = enc_model.predict(str_to_tokens(input()))\n",
        "  empty_target_seq = np.zeros((1,1))\n",
        "  empty_target_seq[0,0] = target_text_downsampled_vocab_dict[\"start\"]\n",
        "  stop_condition = False\n",
        "\n",
        "  decoded_translation = \"\"\n",
        "  while not stop_condition:\n",
        "    dec_outputs, h, c = dec_model.predict([empty_target_seq] + states_values)\n",
        "    sampled_word_index = np.argmax(dec_outputs[0, -1, :])\n",
        "    sampled_word = None\n",
        "\n",
        "    for word, index in target_text_downsampled_vocab_dict.items():\n",
        "      if sampled_word_index == index:\n",
        "        decoded_translation += \" {}\".format(word)\n",
        "        sampled_word = word\n",
        "    \n",
        "    if sampled_word == \"end\" or len(decoded_translation.split())>max_len_target_text_downsampled:\n",
        "      stop_condition = True\n",
        "\n",
        "    empty_target_seq = np.zeros((1,1))\n",
        "    empty_target_seq[0,0] = sampled_word_index\n",
        "    states_values = [h,c]\n",
        "\n",
        "  print(decoded_translation)"
      ],
      "metadata": {
        "id": "Ve08QHcq33x5",
        "colab": {
          "base_uri": "https://localhost:8080/",
          "height": 695
        },
        "outputId": "39ca4045-ab33-407a-f4b3-4575b38f84da"
      },
      "execution_count": null,
      "outputs": [
        {
          "output_type": "stream",
          "name": "stdout",
          "text": [
            "hello\n",
            " corey lanskin broke the broke the okay anymore no terrance broke broke me broke broke me broke broke the wrong looking at the school she will be on the school spread the world as why she has the beatles\n",
            "okay\n",
            " there is a better than i need to mean to stop you broke me your way broke broke the broke the broke broke the future broke broke the future alive broke broke the future broke broke the future broke\n",
            "fuck \n",
            " do not think about this i have to kill him broke broke our arms again girl want to broke the broke here broke the future broke broke the boy broke the boy as fuck us broke broke the broke\n",
            "hi\n",
            " broke the me broke the me broke me so you try but just like such a school broke broke the future broke broke broke broke a me pick with me before you and as santa other on us we\n"
          ]
        },
        {
          "output_type": "error",
          "ename": "KeyboardInterrupt",
          "evalue": "ignored",
          "traceback": [
            "\u001b[0;31m---------------------------------------------------------------------------\u001b[0m",
            "\u001b[0;31mKeyboardInterrupt\u001b[0m                         Traceback (most recent call last)",
            "\u001b[0;32m/usr/local/lib/python3.7/dist-packages/ipykernel/kernelbase.py\u001b[0m in \u001b[0;36m_input_request\u001b[0;34m(self, prompt, ident, parent, password)\u001b[0m\n\u001b[1;32m    728\u001b[0m             \u001b[0;32mtry\u001b[0m\u001b[0;34m:\u001b[0m\u001b[0;34m\u001b[0m\u001b[0;34m\u001b[0m\u001b[0m\n\u001b[0;32m--> 729\u001b[0;31m                 \u001b[0mident\u001b[0m\u001b[0;34m,\u001b[0m \u001b[0mreply\u001b[0m \u001b[0;34m=\u001b[0m \u001b[0mself\u001b[0m\u001b[0;34m.\u001b[0m\u001b[0msession\u001b[0m\u001b[0;34m.\u001b[0m\u001b[0mrecv\u001b[0m\u001b[0;34m(\u001b[0m\u001b[0mself\u001b[0m\u001b[0;34m.\u001b[0m\u001b[0mstdin_socket\u001b[0m\u001b[0;34m,\u001b[0m \u001b[0;36m0\u001b[0m\u001b[0;34m)\u001b[0m\u001b[0;34m\u001b[0m\u001b[0;34m\u001b[0m\u001b[0m\n\u001b[0m\u001b[1;32m    730\u001b[0m             \u001b[0;32mexcept\u001b[0m \u001b[0mException\u001b[0m\u001b[0;34m:\u001b[0m\u001b[0;34m\u001b[0m\u001b[0;34m\u001b[0m\u001b[0m\n",
            "\u001b[0;32m/usr/local/lib/python3.7/dist-packages/jupyter_client/session.py\u001b[0m in \u001b[0;36mrecv\u001b[0;34m(self, socket, mode, content, copy)\u001b[0m\n\u001b[1;32m    802\u001b[0m         \u001b[0;32mtry\u001b[0m\u001b[0;34m:\u001b[0m\u001b[0;34m\u001b[0m\u001b[0;34m\u001b[0m\u001b[0m\n\u001b[0;32m--> 803\u001b[0;31m             \u001b[0mmsg_list\u001b[0m \u001b[0;34m=\u001b[0m \u001b[0msocket\u001b[0m\u001b[0;34m.\u001b[0m\u001b[0mrecv_multipart\u001b[0m\u001b[0;34m(\u001b[0m\u001b[0mmode\u001b[0m\u001b[0;34m,\u001b[0m \u001b[0mcopy\u001b[0m\u001b[0;34m=\u001b[0m\u001b[0mcopy\u001b[0m\u001b[0;34m)\u001b[0m\u001b[0;34m\u001b[0m\u001b[0;34m\u001b[0m\u001b[0m\n\u001b[0m\u001b[1;32m    804\u001b[0m         \u001b[0;32mexcept\u001b[0m \u001b[0mzmq\u001b[0m\u001b[0;34m.\u001b[0m\u001b[0mZMQError\u001b[0m \u001b[0;32mas\u001b[0m \u001b[0me\u001b[0m\u001b[0;34m:\u001b[0m\u001b[0;34m\u001b[0m\u001b[0;34m\u001b[0m\u001b[0m\n",
            "\u001b[0;32m/usr/local/lib/python3.7/dist-packages/zmq/sugar/socket.py\u001b[0m in \u001b[0;36mrecv_multipart\u001b[0;34m(self, flags, copy, track)\u001b[0m\n\u001b[1;32m    624\u001b[0m         \"\"\"\n\u001b[0;32m--> 625\u001b[0;31m         \u001b[0mparts\u001b[0m \u001b[0;34m=\u001b[0m \u001b[0;34m[\u001b[0m\u001b[0mself\u001b[0m\u001b[0;34m.\u001b[0m\u001b[0mrecv\u001b[0m\u001b[0;34m(\u001b[0m\u001b[0mflags\u001b[0m\u001b[0;34m,\u001b[0m \u001b[0mcopy\u001b[0m\u001b[0;34m=\u001b[0m\u001b[0mcopy\u001b[0m\u001b[0;34m,\u001b[0m \u001b[0mtrack\u001b[0m\u001b[0;34m=\u001b[0m\u001b[0mtrack\u001b[0m\u001b[0;34m)\u001b[0m\u001b[0;34m]\u001b[0m\u001b[0;34m\u001b[0m\u001b[0;34m\u001b[0m\u001b[0m\n\u001b[0m\u001b[1;32m    626\u001b[0m         \u001b[0;31m# have first part already, only loop while more to receive\u001b[0m\u001b[0;34m\u001b[0m\u001b[0;34m\u001b[0m\u001b[0;34m\u001b[0m\u001b[0m\n",
            "\u001b[0;32mzmq/backend/cython/socket.pyx\u001b[0m in \u001b[0;36mzmq.backend.cython.socket.Socket.recv\u001b[0;34m()\u001b[0m\n",
            "\u001b[0;32mzmq/backend/cython/socket.pyx\u001b[0m in \u001b[0;36mzmq.backend.cython.socket.Socket.recv\u001b[0;34m()\u001b[0m\n",
            "\u001b[0;32mzmq/backend/cython/socket.pyx\u001b[0m in \u001b[0;36mzmq.backend.cython.socket._recv_copy\u001b[0;34m()\u001b[0m\n",
            "\u001b[0;32m/usr/local/lib/python3.7/dist-packages/zmq/backend/cython/checkrc.pxd\u001b[0m in \u001b[0;36mzmq.backend.cython.checkrc._check_rc\u001b[0;34m()\u001b[0m\n",
            "\u001b[0;31mKeyboardInterrupt\u001b[0m: ",
            "\nDuring handling of the above exception, another exception occurred:\n",
            "\u001b[0;31mKeyboardInterrupt\u001b[0m                         Traceback (most recent call last)",
            "\u001b[0;32m<ipython-input-74-1c7d6efa0d24>\u001b[0m in \u001b[0;36m<module>\u001b[0;34m()\u001b[0m\n\u001b[1;32m      2\u001b[0m \u001b[0;34m\u001b[0m\u001b[0m\n\u001b[1;32m      3\u001b[0m \u001b[0;32mfor\u001b[0m \u001b[0mepoch\u001b[0m \u001b[0;32min\u001b[0m \u001b[0mrange\u001b[0m\u001b[0;34m(\u001b[0m\u001b[0mencoder_input_data_ds\u001b[0m\u001b[0;34m.\u001b[0m\u001b[0mshape\u001b[0m\u001b[0;34m[\u001b[0m\u001b[0;36m0\u001b[0m\u001b[0;34m]\u001b[0m\u001b[0;34m)\u001b[0m\u001b[0;34m:\u001b[0m\u001b[0;34m\u001b[0m\u001b[0;34m\u001b[0m\u001b[0m\n\u001b[0;32m----> 4\u001b[0;31m   \u001b[0mstates_values\u001b[0m \u001b[0;34m=\u001b[0m \u001b[0menc_model\u001b[0m\u001b[0;34m.\u001b[0m\u001b[0mpredict\u001b[0m\u001b[0;34m(\u001b[0m\u001b[0mstr_to_tokens\u001b[0m\u001b[0;34m(\u001b[0m\u001b[0minput\u001b[0m\u001b[0;34m(\u001b[0m\u001b[0;34m)\u001b[0m\u001b[0;34m)\u001b[0m\u001b[0;34m)\u001b[0m\u001b[0;34m\u001b[0m\u001b[0;34m\u001b[0m\u001b[0m\n\u001b[0m\u001b[1;32m      5\u001b[0m   \u001b[0mempty_target_seq\u001b[0m \u001b[0;34m=\u001b[0m \u001b[0mnp\u001b[0m\u001b[0;34m.\u001b[0m\u001b[0mzeros\u001b[0m\u001b[0;34m(\u001b[0m\u001b[0;34m(\u001b[0m\u001b[0;36m1\u001b[0m\u001b[0;34m,\u001b[0m\u001b[0;36m1\u001b[0m\u001b[0;34m)\u001b[0m\u001b[0;34m)\u001b[0m\u001b[0;34m\u001b[0m\u001b[0;34m\u001b[0m\u001b[0m\n\u001b[1;32m      6\u001b[0m   \u001b[0mempty_target_seq\u001b[0m\u001b[0;34m[\u001b[0m\u001b[0;36m0\u001b[0m\u001b[0;34m,\u001b[0m\u001b[0;36m0\u001b[0m\u001b[0;34m]\u001b[0m \u001b[0;34m=\u001b[0m \u001b[0mtarget_text_downsampled_vocab_dict\u001b[0m\u001b[0;34m[\u001b[0m\u001b[0;34m\"start\"\u001b[0m\u001b[0;34m]\u001b[0m\u001b[0;34m\u001b[0m\u001b[0;34m\u001b[0m\u001b[0m\n",
            "\u001b[0;32m/usr/local/lib/python3.7/dist-packages/ipykernel/kernelbase.py\u001b[0m in \u001b[0;36mraw_input\u001b[0;34m(self, prompt)\u001b[0m\n\u001b[1;32m    702\u001b[0m             \u001b[0mself\u001b[0m\u001b[0;34m.\u001b[0m\u001b[0m_parent_ident\u001b[0m\u001b[0;34m,\u001b[0m\u001b[0;34m\u001b[0m\u001b[0;34m\u001b[0m\u001b[0m\n\u001b[1;32m    703\u001b[0m             \u001b[0mself\u001b[0m\u001b[0;34m.\u001b[0m\u001b[0m_parent_header\u001b[0m\u001b[0;34m,\u001b[0m\u001b[0;34m\u001b[0m\u001b[0;34m\u001b[0m\u001b[0m\n\u001b[0;32m--> 704\u001b[0;31m             \u001b[0mpassword\u001b[0m\u001b[0;34m=\u001b[0m\u001b[0;32mFalse\u001b[0m\u001b[0;34m,\u001b[0m\u001b[0;34m\u001b[0m\u001b[0;34m\u001b[0m\u001b[0m\n\u001b[0m\u001b[1;32m    705\u001b[0m         )\n\u001b[1;32m    706\u001b[0m \u001b[0;34m\u001b[0m\u001b[0m\n",
            "\u001b[0;32m/usr/local/lib/python3.7/dist-packages/ipykernel/kernelbase.py\u001b[0m in \u001b[0;36m_input_request\u001b[0;34m(self, prompt, ident, parent, password)\u001b[0m\n\u001b[1;32m    732\u001b[0m             \u001b[0;32mexcept\u001b[0m \u001b[0mKeyboardInterrupt\u001b[0m\u001b[0;34m:\u001b[0m\u001b[0;34m\u001b[0m\u001b[0;34m\u001b[0m\u001b[0m\n\u001b[1;32m    733\u001b[0m                 \u001b[0;31m# re-raise KeyboardInterrupt, to truncate traceback\u001b[0m\u001b[0;34m\u001b[0m\u001b[0;34m\u001b[0m\u001b[0;34m\u001b[0m\u001b[0m\n\u001b[0;32m--> 734\u001b[0;31m                 \u001b[0;32mraise\u001b[0m \u001b[0mKeyboardInterrupt\u001b[0m\u001b[0;34m\u001b[0m\u001b[0;34m\u001b[0m\u001b[0m\n\u001b[0m\u001b[1;32m    735\u001b[0m             \u001b[0;32melse\u001b[0m\u001b[0;34m:\u001b[0m\u001b[0;34m\u001b[0m\u001b[0;34m\u001b[0m\u001b[0m\n\u001b[1;32m    736\u001b[0m                 \u001b[0;32mbreak\u001b[0m\u001b[0;34m\u001b[0m\u001b[0;34m\u001b[0m\u001b[0m\n",
            "\u001b[0;31mKeyboardInterrupt\u001b[0m: "
          ]
        }
      ]
    },
    {
      "cell_type": "code",
      "source": [
        ""
      ],
      "metadata": {
        "id": "MAhKTZE6lDH7"
      },
      "execution_count": null,
      "outputs": []
    }
  ]
}