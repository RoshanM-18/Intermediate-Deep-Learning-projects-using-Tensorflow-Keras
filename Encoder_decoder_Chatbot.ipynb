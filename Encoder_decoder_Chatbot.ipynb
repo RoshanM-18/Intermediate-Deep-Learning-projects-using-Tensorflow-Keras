{
  "nbformat": 4,
  "nbformat_minor": 0,
  "metadata": {
    "colab": {
      "name": "Encoder-decoder Chatbot",
      "provenance": [],
      "authorship_tag": "ABX9TyOvf1X94oVC6Jz/H9PjCtHs",
      "include_colab_link": true
    },
    "kernelspec": {
      "name": "python3",
      "display_name": "Python 3"
    },
    "language_info": {
      "name": "python"
    },
    "accelerator": "GPU"
  },
  "cells": [
    {
      "cell_type": "markdown",
      "metadata": {
        "id": "view-in-github",
        "colab_type": "text"
      },
      "source": [
        "<a href=\"https://colab.research.google.com/github/RoshanM-18/Intermediate-Deep-Learning-projects-using-Tensorflow-Keras/blob/main/Encoder_decoder_Chatbot.ipynb\" target=\"_parent\"><img src=\"https://colab.research.google.com/assets/colab-badge.svg\" alt=\"Open In Colab\"/></a>"
      ]
    },
    {
      "cell_type": "markdown",
      "source": [
        "#### Importing the required libraries and downloading the dataset from Kaggle"
      ],
      "metadata": {
        "id": "KIsjNHPov57A"
      }
    },
    {
      "cell_type": "code",
      "execution_count": null,
      "metadata": {
        "id": "Rj4kfkOlqYLn"
      },
      "outputs": [],
      "source": [
        "import pandas as pd\n",
        "import numpy as np\n",
        "import matplotlib.pyplot as plt\n",
        "import seaborn as sns\n",
        "\n",
        "import tensorflow as tf\n",
        "from tensorflow import keras\n",
        "\n",
        "import os\n",
        "import shutil\n",
        "import zipfile\n",
        "import random\n",
        "import time\n",
        "import re\n",
        "import string"
      ]
    },
    {
      "cell_type": "code",
      "source": [
        "os.environ[\"KAGGLE_CONFIG_DIR\"] = \"/content\""
      ],
      "metadata": {
        "id": "O7qd3xiwrLza"
      },
      "execution_count": null,
      "outputs": []
    },
    {
      "cell_type": "code",
      "source": [
        "!chmod 600 \"/content/kaggle.json\""
      ],
      "metadata": {
        "id": "4HW1oGCHs_sn"
      },
      "execution_count": null,
      "outputs": []
    },
    {
      "cell_type": "code",
      "source": [
        "!kaggle datasets download -d grafstor/simple-dialogs-for-chatbot"
      ],
      "metadata": {
        "colab": {
          "base_uri": "https://localhost:8080/"
        },
        "id": "0N7LrsULrQi1",
        "outputId": "790f5ea1-41f6-4132-ccc9-9975c2e38c19"
      },
      "execution_count": null,
      "outputs": [
        {
          "output_type": "stream",
          "name": "stdout",
          "text": [
            "simple-dialogs-for-chatbot.zip: Skipping, found more recently modified local copy (use --force to force download)\n"
          ]
        }
      ]
    },
    {
      "cell_type": "code",
      "source": [
        "zip_ref = zipfile.ZipFile(\"/content/simple-dialogs-for-chatbot.zip\")\n",
        "zip_ref.extractall()\n",
        "zip_ref.close()"
      ],
      "metadata": {
        "id": "hrxsssoprWlh"
      },
      "execution_count": null,
      "outputs": []
    },
    {
      "cell_type": "markdown",
      "source": [
        "#### Reading the txt file and converting it into a two seperate lists of questions and answers"
      ],
      "metadata": {
        "id": "ECa1OXVWrWo2"
      }
    },
    {
      "cell_type": "code",
      "source": [
        "questions = []\n",
        "answers = []\n",
        "\n",
        "with open(\"/content/dialogs.txt\") as f:\n",
        "  lines = f.read().split(\"\\n\")\n",
        "\n",
        "print(f\"There are {len(lines)} dialogues in the corpus.\")\n",
        "print(\"-\"*50)\n",
        "\n",
        "for line in lines:\n",
        "  ques, ans = line.split(\"\\t\")\n",
        "  questions.append(ques)\n",
        "  answers.append(ans)"
      ],
      "metadata": {
        "colab": {
          "base_uri": "https://localhost:8080/"
        },
        "id": "0uvxL5SCrWsZ",
        "outputId": "74a10b01-0310-4352-8591-b514a11ceca5"
      },
      "execution_count": null,
      "outputs": [
        {
          "output_type": "stream",
          "name": "stdout",
          "text": [
            "There are 3725 dialogues in the corpus.\n",
            "--------------------------------------------------\n"
          ]
        }
      ]
    },
    {
      "cell_type": "code",
      "source": [
        "len(questions), len(answers)"
      ],
      "metadata": {
        "colab": {
          "base_uri": "https://localhost:8080/"
        },
        "id": "eAWirk6frWwY",
        "outputId": "f61847f7-7bf8-4368-dfe1-9eada18b20aa"
      },
      "execution_count": null,
      "outputs": [
        {
          "output_type": "execute_result",
          "data": {
            "text/plain": [
              "(3725, 3725)"
            ]
          },
          "metadata": {},
          "execution_count": 7
        }
      ]
    },
    {
      "cell_type": "code",
      "source": [
        "for x in range(5):\n",
        "  print(f\"Question: {questions[x]}\")\n",
        "  print(f\"Answer: {answers[x]}\")\n",
        "  print(\"-\"*50)"
      ],
      "metadata": {
        "id": "6WpN2pYarWz9",
        "colab": {
          "base_uri": "https://localhost:8080/"
        },
        "outputId": "59c4b159-88eb-4486-af42-d48001578f8e"
      },
      "execution_count": null,
      "outputs": [
        {
          "output_type": "stream",
          "name": "stdout",
          "text": [
            "Question: hi, how are you doing?\n",
            "Answer: i'm fine. how about yourself?\n",
            "--------------------------------------------------\n",
            "Question: i'm fine. how about yourself?\n",
            "Answer: i'm pretty good. thanks for asking.\n",
            "--------------------------------------------------\n",
            "Question: i'm pretty good. thanks for asking.\n",
            "Answer: no problem. so how have you been?\n",
            "--------------------------------------------------\n",
            "Question: no problem. so how have you been?\n",
            "Answer: i've been great. what about you?\n",
            "--------------------------------------------------\n",
            "Question: i've been great. what about you?\n",
            "Answer: i've been good. i'm in school right now.\n",
            "--------------------------------------------------\n"
          ]
        }
      ]
    },
    {
      "cell_type": "markdown",
      "source": [
        "#### Clean the dataset and create vocabulary dictionary"
      ],
      "metadata": {
        "id": "0IxyU2uvy52y"
      }
    },
    {
      "cell_type": "code",
      "source": [
        "\"\"\"im, its, ive, hows, everythings, havent, wasnt, id, shouldnt, wouldnt, thats, youre, doesnt, didnt, itll, shes, \n",
        "theres, mightve, youve, macys, lets, ill, whats, cant, dont,\"\"\""
      ],
      "metadata": {
        "id": "qKGkwUG0rW32",
        "colab": {
          "base_uri": "https://localhost:8080/"
        },
        "outputId": "dd3c5f4a-2946-49f2-b86f-4c59c184f877"
      },
      "execution_count": null,
      "outputs": [
        {
          "output_type": "execute_result",
          "data": {
            "text/plain": [
              "'im, its, ive, hows, everythings, havent, wasnt, id, shouldnt, wouldnt, thats, youre, doesnt, didnt, itll, shes, \\ntheres, mightve, youve, macys, lets, ill, whats, cant, dont,'"
            ],
            "application/vnd.google.colaboratory.intrinsic+json": {
              "type": "string"
            }
          },
          "metadata": {},
          "execution_count": 9
        }
      ]
    },
    {
      "cell_type": "code",
      "source": [
        "def clean_text(text):\n",
        "\n",
        "  text = text.lower()\n",
        "  text = re.sub(r\"\\n\", \"\", text)\n",
        "  text = re.sub(r\"can't\", \"cannot\", text)\n",
        "  text = re.sub(r\"let's\", \"let us\", text)\n",
        "  text = re.sub(r\"n't\", \" not\", text)\n",
        "  text = re.sub(r\"\\'m\", \" am\", text)\n",
        "  text = re.sub(r\"\\'ll\", \" will\", text)\n",
        "  text = re.sub(r\"\\'ve\", \" have\", text)\n",
        "  text = re.sub(r\"\\'re\", \" are\", text)\n",
        "  text = re.sub(r\"\\'d\", \" would\", text)\n",
        "  text = text.replace(\"'s\", \" is\")\n",
        "\n",
        "  text = re.sub(r'[^\\w\\s]', '', text)\n",
        "\n",
        "  return text"
      ],
      "metadata": {
        "id": "6VU72KrMwdvH"
      },
      "execution_count": null,
      "outputs": []
    },
    {
      "cell_type": "code",
      "source": [
        "cleaned_questions = []\n",
        "\n",
        "for question in questions:\n",
        "  cleaned_ques = clean_text(question)\n",
        "  cleaned_questions.append(cleaned_ques)\n",
        "\n",
        "cleaned_answers = []\n",
        "for answer in answers:\n",
        "  cleaned_ans = clean_text(answer)\n",
        "  cleaned_answers.append(cleaned_ans)"
      ],
      "metadata": {
        "id": "3xmKDWWsweSk"
      },
      "execution_count": null,
      "outputs": []
    },
    {
      "cell_type": "code",
      "source": [
        "for x in range(10):\n",
        "  print(f\"Question: {cleaned_questions[x]}\")\n",
        "  print(f\"Answer: {cleaned_answers[x]}\")\n",
        "  print(\"-\"*50)"
      ],
      "metadata": {
        "colab": {
          "base_uri": "https://localhost:8080/"
        },
        "id": "_CcLVwNmweuR",
        "outputId": "03f66594-67d5-4422-8340-5538107f8065"
      },
      "execution_count": null,
      "outputs": [
        {
          "output_type": "stream",
          "name": "stdout",
          "text": [
            "Question: hi how are you doing\n",
            "Answer: i am fine how about yourself\n",
            "--------------------------------------------------\n",
            "Question: i am fine how about yourself\n",
            "Answer: i am pretty good thanks for asking\n",
            "--------------------------------------------------\n",
            "Question: i am pretty good thanks for asking\n",
            "Answer: no problem so how have you been\n",
            "--------------------------------------------------\n",
            "Question: no problem so how have you been\n",
            "Answer: i have been great what about you\n",
            "--------------------------------------------------\n",
            "Question: i have been great what about you\n",
            "Answer: i have been good i am in school right now\n",
            "--------------------------------------------------\n",
            "Question: i have been good i am in school right now\n",
            "Answer: what school do you go to\n",
            "--------------------------------------------------\n",
            "Question: what school do you go to\n",
            "Answer: i go to pcc\n",
            "--------------------------------------------------\n",
            "Question: i go to pcc\n",
            "Answer: do you like it there\n",
            "--------------------------------------------------\n",
            "Question: do you like it there\n",
            "Answer: it is okay it is a really big campus\n",
            "--------------------------------------------------\n",
            "Question: it is okay it is a really big campus\n",
            "Answer: good luck with school\n",
            "--------------------------------------------------\n"
          ]
        }
      ]
    },
    {
      "cell_type": "code",
      "source": [
        "questions_words = {}\n",
        "answers_words = {}\n",
        "\n",
        "for line in cleaned_questions:\n",
        "  for word in line.split():\n",
        "    if word not in questions_words:\n",
        "      questions_words[word] = 1\n",
        "    else:\n",
        "      questions_words[word] += 1\n",
        "\n",
        "for line in cleaned_answers:\n",
        "  for word in line.split():\n",
        "    if word not in answers_words:\n",
        "      answers_words[word] = 1\n",
        "    else:\n",
        "      answers_words[word] += 1"
      ],
      "metadata": {
        "id": "e0OsX7_Ewex7"
      },
      "execution_count": null,
      "outputs": []
    },
    {
      "cell_type": "code",
      "source": [
        "len(questions_words), len(answers_words)"
      ],
      "metadata": {
        "colab": {
          "base_uri": "https://localhost:8080/"
        },
        "id": "S_l7zbCuwe2w",
        "outputId": "10048a9d-c2fd-4fad-eb28-2e8b861d5d5d"
      },
      "execution_count": null,
      "outputs": [
        {
          "output_type": "execute_result",
          "data": {
            "text/plain": [
              "(2340, 2403)"
            ]
          },
          "metadata": {},
          "execution_count": 14
        }
      ]
    },
    {
      "cell_type": "code",
      "source": [
        "questions_vocab_dict = {}\n",
        "answers_vocab_dict = {}\n",
        "threshold = 1\n",
        "count_ques = 0\n",
        "count_ans = 0\n",
        "\n",
        "for word, count in questions_words.items():\n",
        "  if count>threshold:\n",
        "    questions_vocab_dict[word] = count_ques\n",
        "    count_ques += 1\n",
        "\n",
        "for word, count in answers_words.items():\n",
        "  if count>threshold:\n",
        "    answers_vocab_dict[word] = count_ans\n",
        "    count_ans += 1"
      ],
      "metadata": {
        "id": "MgiKOsxcrW_Z"
      },
      "execution_count": null,
      "outputs": []
    },
    {
      "cell_type": "code",
      "source": [
        "count_ques, count_ans"
      ],
      "metadata": {
        "colab": {
          "base_uri": "https://localhost:8080/"
        },
        "id": "9ENXIXElIZd5",
        "outputId": "87ebe02e-0665-41e6-bd7d-69760e193c44"
      },
      "execution_count": null,
      "outputs": [
        {
          "output_type": "execute_result",
          "data": {
            "text/plain": [
              "(1401, 1411)"
            ]
          },
          "metadata": {},
          "execution_count": 16
        }
      ]
    },
    {
      "cell_type": "code",
      "source": [
        "max_encoder_seq_len = max([len(sentence.split()) for sentence in cleaned_questions])\n",
        "max_decoder_seq_len = max([len(sentence.split()) for sentence in cleaned_answers])"
      ],
      "metadata": {
        "id": "EQuA1gfgrXDS"
      },
      "execution_count": null,
      "outputs": []
    },
    {
      "cell_type": "code",
      "source": [
        "max_encoder_seq_len, max_decoder_seq_len"
      ],
      "metadata": {
        "id": "H_1pquGtrXHE",
        "colab": {
          "base_uri": "https://localhost:8080/"
        },
        "outputId": "5f6e3667-2805-4e7e-ab59-8ce1031af4f5"
      },
      "execution_count": null,
      "outputs": [
        {
          "output_type": "execute_result",
          "data": {
            "text/plain": [
              "(20, 20)"
            ]
          },
          "metadata": {},
          "execution_count": 18
        }
      ]
    },
    {
      "cell_type": "code",
      "source": [
        "tokens = [\"<START>\", \"<END>\", \"<PAD>\", \"<UNK>\"]\n",
        "\n",
        "for word in tokens:\n",
        "  questions_vocab_dict[word] = len(questions_vocab_dict)\n",
        "  answers_vocab_dict[word] = len(answers_vocab_dict)"
      ],
      "metadata": {
        "id": "qwpkk-0rrXKm"
      },
      "execution_count": null,
      "outputs": []
    },
    {
      "cell_type": "code",
      "source": [
        "modified_cleaned_answers = []\n",
        "\n",
        "for sentence in cleaned_answers:\n",
        "  sent = \"<START> \" + sentence + \" <END>\" \n",
        "  modified_cleaned_answers.append(sent)"
      ],
      "metadata": {
        "id": "AhbaRdQURH5S"
      },
      "execution_count": null,
      "outputs": []
    },
    {
      "cell_type": "code",
      "source": [
        "modified_cleaned_answers[0:5]"
      ],
      "metadata": {
        "id": "RQmHSEC4RIia",
        "colab": {
          "base_uri": "https://localhost:8080/"
        },
        "outputId": "8ffdcf1b-16d9-48d4-b660-39978294e92b"
      },
      "execution_count": null,
      "outputs": [
        {
          "output_type": "execute_result",
          "data": {
            "text/plain": [
              "['<START> i am fine how about yourself <END>',\n",
              " '<START> i am pretty good thanks for asking <END>',\n",
              " '<START> no problem so how have you been <END>',\n",
              " '<START> i have been great what about you <END>',\n",
              " '<START> i have been good i am in school right now <END>']"
            ]
          },
          "metadata": {},
          "execution_count": 21
        }
      ]
    },
    {
      "cell_type": "code",
      "source": [
        "max_decoder_seq_len = max([len(sentence.split()) for sentence in modified_cleaned_answers])\n",
        "max_decoder_seq_len"
      ],
      "metadata": {
        "colab": {
          "base_uri": "https://localhost:8080/"
        },
        "id": "oi8bTm-DYt5X",
        "outputId": "5823187e-c3e7-41c5-aefb-27159e7041ab"
      },
      "execution_count": null,
      "outputs": [
        {
          "output_type": "execute_result",
          "data": {
            "text/plain": [
              "22"
            ]
          },
          "metadata": {},
          "execution_count": 22
        }
      ]
    },
    {
      "cell_type": "code",
      "source": [
        "num_encoder_tokens = len(questions_vocab_dict)+1\n",
        "num_decoder_tokens = len(answers_vocab_dict)+1"
      ],
      "metadata": {
        "id": "XiN27tRoRImH"
      },
      "execution_count": null,
      "outputs": []
    },
    {
      "cell_type": "code",
      "source": [
        "num_encoder_tokens, num_decoder_tokens"
      ],
      "metadata": {
        "id": "1iQr8ZEdRIpM",
        "colab": {
          "base_uri": "https://localhost:8080/"
        },
        "outputId": "f91aa515-2226-49f9-abc5-f7ba977d9493"
      },
      "execution_count": null,
      "outputs": [
        {
          "output_type": "execute_result",
          "data": {
            "text/plain": [
              "(1406, 1416)"
            ]
          },
          "metadata": {},
          "execution_count": 24
        }
      ]
    },
    {
      "cell_type": "markdown",
      "source": [
        "#### creating encoder decoder data"
      ],
      "metadata": {
        "id": "Vjv-ylnfR832"
      }
    },
    {
      "cell_type": "code",
      "source": [
        "encoder_input_data = np.zeros(\n",
        "    (len(cleaned_questions), max_encoder_seq_len, num_encoder_tokens), \"float32\"\n",
        ")\n",
        "\n",
        "decoder_input_data = np.zeros(\n",
        "    (len(modified_cleaned_answers), max_decoder_seq_len, num_decoder_tokens), \"float32\"\n",
        ")\n",
        "\n",
        "decoder_output_data = np.zeros(\n",
        "    (len(modified_cleaned_answers), max_decoder_seq_len, num_decoder_tokens), \"float32\"\n",
        ")"
      ],
      "metadata": {
        "id": "io4YWtu4SDOt"
      },
      "execution_count": null,
      "outputs": []
    },
    {
      "cell_type": "code",
      "source": [
        "encoder_input_data.shape, decoder_input_data.shape, decoder_output_data.shape"
      ],
      "metadata": {
        "colab": {
          "base_uri": "https://localhost:8080/"
        },
        "id": "rQwkDkDzSDSi",
        "outputId": "d050b3aa-4680-4d8a-8a60-c63750520214"
      },
      "execution_count": null,
      "outputs": [
        {
          "output_type": "execute_result",
          "data": {
            "text/plain": [
              "((3725, 20, 1406), (3725, 22, 1416), (3725, 22, 1416))"
            ]
          },
          "metadata": {},
          "execution_count": 26
        }
      ]
    },
    {
      "cell_type": "code",
      "source": [
        "for index, (input_text, output_text) in enumerate(zip(cleaned_questions, modified_cleaned_answers)):\n",
        "\n",
        "  for i, word in enumerate(input_text.split()):\n",
        "    if word in questions_vocab_dict:\n",
        "      encoder_input_data[index, i, questions_vocab_dict[word]] = 1.0\n",
        "    else:\n",
        "      encoder_input_data[index, i, questions_vocab_dict[\"<UNK>\"]] = 1.0\n",
        "  encoder_input_data[index, i+1:, questions_vocab_dict[\"<PAD>\"]] = 1.0\n",
        "\n",
        "  for i, word in enumerate(output_text.split()):\n",
        "    if word in answers_vocab_dict:\n",
        "      decoder_input_data[index, i, answers_vocab_dict[word]] = 1.0\n",
        "      if i>0:\n",
        "        decoder_output_data[index, i-1, answers_vocab_dict[word]] = 1.0\n",
        "    else:\n",
        "      decoder_input_data[index, i, answers_vocab_dict[\"<UNK>\"]] = 1.0\n",
        "      if i>0:\n",
        "        decoder_output_data[index, i-1, answers_vocab_dict[\"<UNK>\"]] = 1.0\n",
        "  decoder_input_data[index, i+1:, answers_vocab_dict[\"<PAD>\"]] = 1.0\n",
        "  decoder_output_data[index, i:, answers_vocab_dict[\"<PAD>\"]] = 1.0"
      ],
      "metadata": {
        "id": "4LTbwBzySDWV"
      },
      "execution_count": null,
      "outputs": []
    },
    {
      "cell_type": "markdown",
      "source": [
        "#### Creating encoder-decoder model"
      ],
      "metadata": {
        "id": "hSYmhCK6SDZy"
      }
    },
    {
      "cell_type": "code",
      "source": [
        "encoder_inputs = keras.layers.Input(shape=(None, num_encoder_tokens))\n",
        "encoder_lstm = keras.layers.LSTM(256, return_state=True)\n",
        "encoder_outputs, state_h, state_c = encoder_lstm(encoder_inputs)\n",
        "encoder_states = [state_h, state_c]\n",
        "\n",
        "decoder_inputs = keras.layers.Input(shape=(None, num_decoder_tokens))\n",
        "decoder_lstm = keras.layers.LSTM(256, return_sequences=True, return_state=True)\n",
        "decoder_outputs, _, _ = decoder_lstm(decoder_inputs, initial_state=encoder_states)\n",
        "decoder_dense = keras.layers.Dense(num_decoder_tokens, activation=\"softmax\")\n",
        "decoder_outputs = decoder_dense(decoder_outputs)\n",
        "\n",
        "model = keras.Model(inputs=[encoder_inputs, decoder_inputs], \n",
        "                    outputs=decoder_outputs)\n",
        "\n",
        "model.compile(loss=keras.losses.CategoricalCrossentropy(), optimizer=keras.optimizers.Adam(),\n",
        "              metrics=[\"accuracy\"],)"
      ],
      "metadata": {
        "id": "v_UWMyvlZEAT"
      },
      "execution_count": null,
      "outputs": []
    },
    {
      "cell_type": "code",
      "source": [
        "tf.keras.utils.plot_model(model, show_shapes=True)"
      ],
      "metadata": {
        "colab": {
          "base_uri": "https://localhost:8080/",
          "height": 353
        },
        "id": "VaX5taTac1s0",
        "outputId": "905e8968-c8f4-4ee8-8f38-3fd906ee5388"
      },
      "execution_count": null,
      "outputs": [
        {
          "output_type": "execute_result",
          "data": {
            "text/plain": [
              "<IPython.core.display.Image object>"
            ],
            "image/png": "[encoded data removed]"
          },
          "metadata": {},
          "execution_count": 55
        }
      ]
    },
    {
      "cell_type": "code",
      "source": [
        "model.fit([encoder_input_data, decoder_input_data], decoder_output_data, \n",
        "          epochs=50, validation_split=0.10, batch_size=64)"
      ],
      "metadata": {
        "colab": {
          "base_uri": "https://localhost:8080/"
        },
        "id": "PBmjXQrBc6Yt",
        "outputId": "486c7340-47be-4cbd-c515-7b9f7b181d10"
      },
      "execution_count": null,
      "outputs": [
        {
          "output_type": "stream",
          "name": "stdout",
          "text": [
            "Epoch 1/50\n",
            "53/53 [==============================] - 5s 45ms/step - loss: 3.0145 - accuracy: 0.6376 - val_loss: 2.2713 - val_accuracy: 0.6332\n",
            "Epoch 2/50\n",
            "53/53 [==============================] - 1s 27ms/step - loss: 2.0448 - accuracy: 0.6586 - val_loss: 2.2627 - val_accuracy: 0.6332\n",
            "Epoch 3/50\n",
            "53/53 [==============================] - 1s 27ms/step - loss: 2.0035 - accuracy: 0.6606 - val_loss: 2.2052 - val_accuracy: 0.6426\n",
            "Epoch 4/50\n",
            "53/53 [==============================] - 1s 27ms/step - loss: 1.9353 - accuracy: 0.6683 - val_loss: 2.1475 - val_accuracy: 0.6457\n",
            "Epoch 5/50\n",
            "53/53 [==============================] - 1s 27ms/step - loss: 1.8580 - accuracy: 0.6799 - val_loss: 2.0851 - val_accuracy: 0.6505\n",
            "Epoch 6/50\n",
            "53/53 [==============================] - 1s 27ms/step - loss: 1.8027 - accuracy: 0.6927 - val_loss: 2.0387 - val_accuracy: 0.6778\n",
            "Epoch 7/50\n",
            "53/53 [==============================] - 1s 28ms/step - loss: 1.7687 - accuracy: 0.7016 - val_loss: 2.0256 - val_accuracy: 0.6801\n",
            "Epoch 8/50\n",
            "53/53 [==============================] - 1s 27ms/step - loss: 1.7417 - accuracy: 0.7078 - val_loss: 2.0191 - val_accuracy: 0.6824\n",
            "Epoch 9/50\n",
            "53/53 [==============================] - 1s 28ms/step - loss: 1.7152 - accuracy: 0.7105 - val_loss: 1.9928 - val_accuracy: 0.6872\n",
            "Epoch 10/50\n",
            "53/53 [==============================] - 1s 27ms/step - loss: 1.6875 - accuracy: 0.7140 - val_loss: 1.9792 - val_accuracy: 0.6886\n",
            "Epoch 11/50\n",
            "53/53 [==============================] - 1s 28ms/step - loss: 1.6593 - accuracy: 0.7171 - val_loss: 1.9607 - val_accuracy: 0.6908\n",
            "Epoch 12/50\n",
            "53/53 [==============================] - 1s 28ms/step - loss: 1.6323 - accuracy: 0.7195 - val_loss: 1.9514 - val_accuracy: 0.6935\n",
            "Epoch 13/50\n",
            "53/53 [==============================] - 1s 27ms/step - loss: 1.6032 - accuracy: 0.7228 - val_loss: 1.9296 - val_accuracy: 0.6980\n",
            "Epoch 14/50\n",
            "53/53 [==============================] - 1s 28ms/step - loss: 1.5742 - accuracy: 0.7261 - val_loss: 1.9280 - val_accuracy: 0.6964\n",
            "Epoch 15/50\n",
            "53/53 [==============================] - 1s 28ms/step - loss: 1.5478 - accuracy: 0.7289 - val_loss: 1.9019 - val_accuracy: 0.7003\n",
            "Epoch 16/50\n",
            "53/53 [==============================] - 1s 28ms/step - loss: 1.5227 - accuracy: 0.7322 - val_loss: 1.9060 - val_accuracy: 0.7013\n",
            "Epoch 17/50\n",
            "53/53 [==============================] - 1s 28ms/step - loss: 1.4991 - accuracy: 0.7340 - val_loss: 1.8912 - val_accuracy: 0.7039\n",
            "Epoch 18/50\n",
            "53/53 [==============================] - 1s 28ms/step - loss: 1.4773 - accuracy: 0.7363 - val_loss: 1.8781 - val_accuracy: 0.7033\n",
            "Epoch 19/50\n",
            "53/53 [==============================] - 1s 28ms/step - loss: 1.4554 - accuracy: 0.7375 - val_loss: 1.8978 - val_accuracy: 0.7029\n",
            "Epoch 20/50\n",
            "53/53 [==============================] - 1s 28ms/step - loss: 1.4345 - accuracy: 0.7398 - val_loss: 1.8950 - val_accuracy: 0.7051\n",
            "Epoch 21/50\n",
            "53/53 [==============================] - 1s 28ms/step - loss: 1.4153 - accuracy: 0.7411 - val_loss: 1.8749 - val_accuracy: 0.7059\n",
            "Epoch 22/50\n",
            "53/53 [==============================] - 1s 28ms/step - loss: 1.3928 - accuracy: 0.7429 - val_loss: 1.8973 - val_accuracy: 0.7050\n",
            "Epoch 23/50\n",
            "53/53 [==============================] - 1s 28ms/step - loss: 1.3729 - accuracy: 0.7449 - val_loss: 1.8722 - val_accuracy: 0.7055\n",
            "Epoch 24/50\n",
            "53/53 [==============================] - 2s 29ms/step - loss: 1.3539 - accuracy: 0.7465 - val_loss: 1.8804 - val_accuracy: 0.7067\n",
            "Epoch 25/50\n",
            "53/53 [==============================] - 1s 28ms/step - loss: 1.3366 - accuracy: 0.7479 - val_loss: 1.8633 - val_accuracy: 0.7029\n",
            "Epoch 26/50\n",
            "53/53 [==============================] - 1s 28ms/step - loss: 1.3218 - accuracy: 0.7493 - val_loss: 1.8926 - val_accuracy: 0.7031\n",
            "Epoch 27/50\n",
            "53/53 [==============================] - 2s 29ms/step - loss: 1.3047 - accuracy: 0.7507 - val_loss: 1.8652 - val_accuracy: 0.7067\n",
            "Epoch 28/50\n",
            "53/53 [==============================] - 1s 28ms/step - loss: 1.2850 - accuracy: 0.7525 - val_loss: 1.9257 - val_accuracy: 0.7051\n",
            "Epoch 29/50\n",
            "53/53 [==============================] - 1s 28ms/step - loss: 1.2694 - accuracy: 0.7536 - val_loss: 1.8746 - val_accuracy: 0.7039\n",
            "Epoch 30/50\n",
            "53/53 [==============================] - 1s 28ms/step - loss: 1.2583 - accuracy: 0.7548 - val_loss: 1.8378 - val_accuracy: 0.7067\n",
            "Epoch 31/50\n",
            "53/53 [==============================] - 1s 28ms/step - loss: 1.2505 - accuracy: 0.7547 - val_loss: 1.8610 - val_accuracy: 0.7072\n",
            "Epoch 32/50\n",
            "53/53 [==============================] - 1s 28ms/step - loss: 1.2255 - accuracy: 0.7572 - val_loss: 1.8625 - val_accuracy: 0.7072\n",
            "Epoch 33/50\n",
            "53/53 [==============================] - 1s 28ms/step - loss: 1.2062 - accuracy: 0.7593 - val_loss: 1.9064 - val_accuracy: 0.7053\n",
            "Epoch 34/50\n",
            "53/53 [==============================] - 2s 30ms/step - loss: 1.1881 - accuracy: 0.7616 - val_loss: 1.8818 - val_accuracy: 0.7035\n",
            "Epoch 35/50\n",
            "53/53 [==============================] - 2s 31ms/step - loss: 1.1723 - accuracy: 0.7634 - val_loss: 1.8771 - val_accuracy: 0.7034\n",
            "Epoch 36/50\n",
            "53/53 [==============================] - 1s 28ms/step - loss: 1.1555 - accuracy: 0.7645 - val_loss: 1.9199 - val_accuracy: 0.7038\n",
            "Epoch 37/50\n",
            "53/53 [==============================] - 1s 28ms/step - loss: 1.1399 - accuracy: 0.7666 - val_loss: 1.8986 - val_accuracy: 0.7035\n",
            "Epoch 38/50\n",
            "53/53 [==============================] - 1s 28ms/step - loss: 1.1246 - accuracy: 0.7682 - val_loss: 1.9303 - val_accuracy: 0.7028\n",
            "Epoch 39/50\n",
            "53/53 [==============================] - 1s 28ms/step - loss: 1.1091 - accuracy: 0.7695 - val_loss: 1.9513 - val_accuracy: 0.7035\n",
            "Epoch 40/50\n",
            "53/53 [==============================] - 1s 28ms/step - loss: 1.0928 - accuracy: 0.7713 - val_loss: 1.9464 - val_accuracy: 0.7045\n",
            "Epoch 41/50\n",
            "53/53 [==============================] - 1s 27ms/step - loss: 1.0793 - accuracy: 0.7728 - val_loss: 1.9718 - val_accuracy: 0.7036\n",
            "Epoch 42/50\n",
            "53/53 [==============================] - 1s 28ms/step - loss: 1.0615 - accuracy: 0.7754 - val_loss: 1.9489 - val_accuracy: 0.7006\n",
            "Epoch 43/50\n",
            "53/53 [==============================] - 1s 28ms/step - loss: 1.0456 - accuracy: 0.7766 - val_loss: 1.9683 - val_accuracy: 0.7008\n",
            "Epoch 44/50\n",
            "53/53 [==============================] - 1s 28ms/step - loss: 1.0286 - accuracy: 0.7790 - val_loss: 2.0091 - val_accuracy: 0.7005\n",
            "Epoch 45/50\n",
            "53/53 [==============================] - 1s 28ms/step - loss: 1.0120 - accuracy: 0.7815 - val_loss: 2.0248 - val_accuracy: 0.7016\n",
            "Epoch 46/50\n",
            "53/53 [==============================] - 1s 27ms/step - loss: 0.9985 - accuracy: 0.7830 - val_loss: 1.9974 - val_accuracy: 0.6994\n",
            "Epoch 47/50\n",
            "53/53 [==============================] - 1s 28ms/step - loss: 0.9879 - accuracy: 0.7854 - val_loss: 1.9989 - val_accuracy: 0.6994\n",
            "Epoch 48/50\n",
            "53/53 [==============================] - 1s 28ms/step - loss: 0.9722 - accuracy: 0.7869 - val_loss: 2.0093 - val_accuracy: 0.6966\n",
            "Epoch 49/50\n",
            "53/53 [==============================] - 1s 28ms/step - loss: 0.9554 - accuracy: 0.7895 - val_loss: 2.0307 - val_accuracy: 0.6988\n",
            "Epoch 50/50\n",
            "53/53 [==============================] - 1s 28ms/step - loss: 0.9405 - accuracy: 0.7920 - val_loss: 2.0346 - val_accuracy: 0.6985\n"
          ]
        },
        {
          "output_type": "execute_result",
          "data": {
            "text/plain": [
              "<keras.callbacks.History at 0x7f1b5b7354d0>"
            ]
          },
          "metadata": {},
          "execution_count": 56
        }
      ]
    },
    {
      "cell_type": "code",
      "source": [
        ""
      ],
      "metadata": {
        "id": "2PscmUSRg0mb"
      },
      "execution_count": null,
      "outputs": []
    },
    {
      "cell_type": "markdown",
      "source": [
        "#### Inference mode"
      ],
      "metadata": {
        "id": "R3kjpxKIdrdn"
      }
    },
    {
      "cell_type": "code",
      "source": [
        "inverse_english_vocab = {y:x for x,y in questions_vocab_dict.items()}\n",
        "inverse_spanish_vocab = {y:x for x,y in answers_vocab_dict.items()}"
      ],
      "metadata": {
        "id": "PnGaDxEfg0H7"
      },
      "execution_count": null,
      "outputs": []
    },
    {
      "cell_type": "code",
      "source": [
        "encoder_model = keras.Model(encoder_inputs, encoder_states)\n",
        "\n",
        "decoder_state_input_h = keras.layers.Input(shape=(256,))\n",
        "decoder_state_input_c = keras.layers.Input(shape=(256,))\n",
        "decoder_states_inputs = [decoder_state_input_h, decoder_state_input_c]\n",
        "decoder_outputs, state_h_decoder, state_c_decoder = decoder_lstm(decoder_inputs, initial_state=decoder_states_inputs)\n",
        "\n",
        "decoder_states = [state_h_decoder, state_c_decoder]\n",
        "decoder_outputs = decoder_dense(decoder_outputs)\n",
        "decoder_model = keras.Model([decoder_inputs]+decoder_states_inputs,\n",
        "                            [decoder_outputs]+decoder_states)"
      ],
      "metadata": {
        "id": "zSJyyemKg6m5"
      },
      "execution_count": null,
      "outputs": []
    },
    {
      "cell_type": "code",
      "source": [
        "def create_encoder_data(input_seq):\n",
        "\n",
        "  text = clean_text(input_seq)\n",
        "  encoder_input_inf = np.zeros((1, max_encoder_seq_len, num_encoder_tokens))\n",
        "\n",
        "  for i, word in enumerate(text.split()):\n",
        "    if word in questions_vocab_dict:\n",
        "      encoder_input_inf[0, i, questions_vocab_dict[word]] == 1.0\n",
        "    else:\n",
        "      encoder_input_inf[0, i, questions_vocab_dict[\"<UNK>\"]] == 1.0\n",
        "  encoder_input_inf[0, i+1:, questions_vocab_dict[\"<PAD>\"]] = 1.0\n",
        "\n",
        "  return encoder_input_inf"
      ],
      "metadata": {
        "id": "cSiNcLmNhCVm"
      },
      "execution_count": null,
      "outputs": []
    },
    {
      "cell_type": "code",
      "source": [
        "def decode_sequence(input_seq):\n",
        "    \n",
        "    input_seq = create_encoder_data(input_seq)\n",
        "    states_value = encoder_model.predict(input_seq)\n",
        "\n",
        "    target_seq = np.zeros((1, 1, num_decoder_tokens))\n",
        "    target_seq[0, 0, answers_vocab_dict[\"<START>\"]] = 1.0\n",
        "\n",
        "    stop_condition = False\n",
        "    decoded_sentence = []\n",
        "    while not stop_condition:\n",
        "        output_tokens, h, c = decoder_model.predict([target_seq] + states_value)\n",
        "\n",
        "        sampled_token_index = np.argmax(output_tokens[0, -1, :])\n",
        "        sampled_char = inverse_spanish_vocab[sampled_token_index]\n",
        "        decoded_sentence.append(sampled_char)\n",
        "\n",
        "        if sampled_char == \"<END>\" or len(decoded_sentence) >= max_decoder_seq_len:\n",
        "            stop_condition = True\n",
        "\n",
        "        # Update the target sequence (of length 1).\n",
        "        target_seq = np.zeros((1, 1, num_decoder_tokens))\n",
        "        target_seq[0, 0, sampled_token_index] = 1.0\n",
        "\n",
        "        # Update states\n",
        "        states_value = [h, c]\n",
        "\n",
        "    return \" \".join(decoded_sentence[:-1])"
      ],
      "metadata": {
        "id": "VRxLFJ3RhOHQ"
      },
      "execution_count": null,
      "outputs": []
    },
    {
      "cell_type": "code",
      "source": [
        "condition = True\n",
        "while condition:\n",
        "  input_sent = input()\n",
        "  decoded_sentence = decode_sequence(input_sent)\n",
        "  print(decoded_sentence)\n",
        "\n",
        "  if input_sent==\"STOP\":\n",
        "    condition = False"
      ],
      "metadata": {
        "colab": {
          "base_uri": "https://localhost:8080/"
        },
        "id": "Z3ag0hzAhX0a",
        "outputId": "17247765-ea7f-4e4c-eed4-ac8cc33e2f02"
      },
      "execution_count": null,
      "outputs": [
        {
          "output_type": "stream",
          "name": "stdout",
          "text": [
            "hello man\n",
            "i am going to the <UNK>\n",
            "what\n",
            "i am going to the <UNK>\n",
            "do not say the same thing \n",
            "i am going to be a lot of fun\n",
            "oh you are \n",
            "i am going to be a lot of fun\n",
            "alright\n",
            "i am going to the <UNK>\n",
            "where\n",
            "i am going to the <UNK>\n",
            "say something else\n",
            "i am going to be a lot of fun\n",
            "how is your girlfriend\n",
            "i am going to be a lot of fun\n",
            "okay this is awesome\n",
            "i am going to be a lot of fun\n",
            "i am a man\n",
            "i am going to be a lot of fun\n",
            "fuck you\n",
            "i am going to the <UNK>\n",
            "STOP\n",
            "i am going to the <UNK>\n"
          ]
        }
      ]
    },
    {
      "cell_type": "code",
      "source": [
        ""
      ],
      "metadata": {
        "id": "FCyXXoN5ha8I"
      },
      "execution_count": null,
      "outputs": []
    }
  ]
}